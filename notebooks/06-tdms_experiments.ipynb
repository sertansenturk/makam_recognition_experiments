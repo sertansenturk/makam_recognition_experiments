{
 "cells": [
  {
   "cell_type": "code",
   "execution_count": 1,
   "metadata": {},
   "outputs": [],
   "source": [
    "from pathlib import Path\n",
    "from typing import Dict\n",
    "\n",
    "import mre\n",
    "\n",
    "import mlflow\n",
    "import numpy as np\n",
    "import pandas as pd\n",
    "import seaborn as sns\n",
    "\n",
    "from matplotlib import pyplot as plt\n",
    "\n",
    "from sklearn.neighbors import KNeighborsClassifier\n",
    "from sklearn.neural_network import MLPClassifier\n",
    "from sklearn.svm import SVC\n",
    "from sklearn.ensemble import ExtraTreesClassifier, GradientBoostingClassifier, RandomForestClassifier\n",
    "from sklearn.linear_model import LogisticRegression\n",
    "from sklearn.tree import DecisionTreeClassifier\n",
    "\n",
    "%load_ext autoreload\n",
    "%autoreload 2\n"
   ]
  },
  {
   "cell_type": "markdown",
   "metadata": {},
   "source": [
    "## helper functions\n",
    "\n",
    "We only need these once in the experiments, therefore there is no need to add them to `mre`."
   ]
  },
  {
   "cell_type": "code",
   "execution_count": 2,
   "metadata": {},
   "outputs": [],
   "source": [
    "def bhat(mtx1, mtx2):\n",
    "    return -np.log(np.sum(np.sqrt(mtx1 * mtx2)))\n",
    "\n",
    "# # code ported from https://github.com/sankalpg/Library_PythonNew\n",
    "# EPS = np.finfo(np.float).resolution\n",
    "# def sym_kld(mtx1, mtx2):\n",
    "#     mtx1 = mtx1 + EPS\n",
    "#     mtx2 = mtx2 + EPS\n",
    "#     return mtx1 * np.log(mtx1/mtx2) + mtx2 * np.log(mtx2/mtx1)"
   ]
  },
  {
   "cell_type": "code",
   "execution_count": 3,
   "metadata": {},
   "outputs": [],
   "source": [
    "def prepare_dataset(\n",
    "    annotations,\n",
    "    tdms_files,\n",
    "    compression_exponent: float = None,  # no compression\n",
    "    kernel_width: float = None # no smoothing\n",
    "):\n",
    "    NUM_BINS = int(1200 / mre.data.TimeDelayedMelodySurface.STEP_SIZE)\n",
    "    \n",
    "    num_samples = len(annotations.data)\n",
    "    num_features = NUM_BINS * NUM_BINS\n",
    "\n",
    "    # prepare features\n",
    "    X = np.zeros((num_samples, num_features))\n",
    "    mbids = np.array([])\n",
    "    for ii, tf in enumerate(tdms_files):\n",
    "        tdms = mre.data.TDMSFeature.from_json(tf)\n",
    "        if compression_exponent is not None:\n",
    "            tdms.compression_exponent = compression_exponent\n",
    "            tdms.compress()\n",
    "        if kernel_width is not None:\n",
    "            tdms.kernel_width = kernel_width\n",
    "            tdms.smoothen()\n",
    "        vals = tdms.embedding\n",
    "\n",
    "        if vals.size != num_features:\n",
    "            raise ValueError(\n",
    "                \"%s has %d bins instead of %d.\"\n",
    "                % (tf, vals.size, num_features)\n",
    "            )\n",
    "        X[ii, :] = vals.reshape(-1)\n",
    "        mbids = np.append(mbids, Path(tf).stem)\n",
    "\n",
    "    y = annotations.data.set_index(\"mbid\").loc[mbids].makam.values\n",
    "\n",
    "    return mre.data.dataset.Dataset(X, y)\n"
   ]
  },
  {
   "cell_type": "markdown",
   "metadata": {},
   "source": [
    "# Read data"
   ]
  },
  {
   "cell_type": "markdown",
   "metadata": {},
   "source": [
    "## Annotations"
   ]
  },
  {
   "cell_type": "code",
   "execution_count": 4,
   "metadata": {},
   "outputs": [
    {
     "data": {
      "text/html": [
       "<div>\n",
       "<style scoped>\n",
       "    .dataframe tbody tr th:only-of-type {\n",
       "        vertical-align: middle;\n",
       "    }\n",
       "\n",
       "    .dataframe tbody tr th {\n",
       "        vertical-align: top;\n",
       "    }\n",
       "\n",
       "    .dataframe thead th {\n",
       "        text-align: right;\n",
       "    }\n",
       "</style>\n",
       "<table border=\"1\" class=\"dataframe\">\n",
       "  <thead>\n",
       "    <tr style=\"text-align: right;\">\n",
       "      <th></th>\n",
       "      <th>dunya_uid</th>\n",
       "      <th>makam</th>\n",
       "      <th>mb_url</th>\n",
       "      <th>mbid</th>\n",
       "      <th>observations</th>\n",
       "      <th>tonic</th>\n",
       "      <th>verified</th>\n",
       "    </tr>\n",
       "  </thead>\n",
       "  <tbody>\n",
       "    <tr>\n",
       "      <th>0</th>\n",
       "      <td>00f1c6d9-c8ee-45e3-a06f-0882ebcb4e2f</td>\n",
       "      <td>Acemasiran</td>\n",
       "      <td>http://musicbrainz.org/recording/00f1c6d9-c8ee...</td>\n",
       "      <td>00f1c6d9-c8ee-45e3-a06f-0882ebcb4e2f</td>\n",
       "      <td></td>\n",
       "      <td>256.0</td>\n",
       "      <td>False</td>\n",
       "    </tr>\n",
       "    <tr>\n",
       "      <th>1</th>\n",
       "      <td>168f7c75-84fb-4316-99d7-acabadd3b2e6</td>\n",
       "      <td>Acemasiran</td>\n",
       "      <td>http://musicbrainz.org/recording/168f7c75-84fb...</td>\n",
       "      <td>168f7c75-84fb-4316-99d7-acabadd3b2e6</td>\n",
       "      <td></td>\n",
       "      <td>115.2</td>\n",
       "      <td>False</td>\n",
       "    </tr>\n",
       "    <tr>\n",
       "      <th>2</th>\n",
       "      <td>24f549dd-3fa4-4e9b-a356-778fbbfd5cad</td>\n",
       "      <td>Acemasiran</td>\n",
       "      <td>http://musicbrainz.org/recording/24f549dd-3fa4...</td>\n",
       "      <td>24f549dd-3fa4-4e9b-a356-778fbbfd5cad</td>\n",
       "      <td></td>\n",
       "      <td>232.5</td>\n",
       "      <td>False</td>\n",
       "    </tr>\n",
       "    <tr>\n",
       "      <th>3</th>\n",
       "      <td>407bb0b4-f19b-42ab-8c0a-9f1263126951</td>\n",
       "      <td>Acemasiran</td>\n",
       "      <td>http://musicbrainz.org/recording/407bb0b4-f19b...</td>\n",
       "      <td>407bb0b4-f19b-42ab-8c0a-9f1263126951</td>\n",
       "      <td></td>\n",
       "      <td>233.5</td>\n",
       "      <td>False</td>\n",
       "    </tr>\n",
       "    <tr>\n",
       "      <th>4</th>\n",
       "      <td>443819eb-6092-420c-bd86-d946a0ad6555</td>\n",
       "      <td>Acemasiran</td>\n",
       "      <td>http://musicbrainz.org/recording/443819eb-6092...</td>\n",
       "      <td>443819eb-6092-420c-bd86-d946a0ad6555</td>\n",
       "      <td></td>\n",
       "      <td>219.6</td>\n",
       "      <td>False</td>\n",
       "    </tr>\n",
       "  </tbody>\n",
       "</table>\n",
       "</div>"
      ],
      "text/plain": [
       "                              dunya_uid       makam  \\\n",
       "0  00f1c6d9-c8ee-45e3-a06f-0882ebcb4e2f  Acemasiran   \n",
       "1  168f7c75-84fb-4316-99d7-acabadd3b2e6  Acemasiran   \n",
       "2  24f549dd-3fa4-4e9b-a356-778fbbfd5cad  Acemasiran   \n",
       "3  407bb0b4-f19b-42ab-8c0a-9f1263126951  Acemasiran   \n",
       "4  443819eb-6092-420c-bd86-d946a0ad6555  Acemasiran   \n",
       "\n",
       "                                              mb_url  \\\n",
       "0  http://musicbrainz.org/recording/00f1c6d9-c8ee...   \n",
       "1  http://musicbrainz.org/recording/168f7c75-84fb...   \n",
       "2  http://musicbrainz.org/recording/24f549dd-3fa4...   \n",
       "3  http://musicbrainz.org/recording/407bb0b4-f19b...   \n",
       "4  http://musicbrainz.org/recording/443819eb-6092...   \n",
       "\n",
       "                                   mbid observations  tonic  verified  \n",
       "0  00f1c6d9-c8ee-45e3-a06f-0882ebcb4e2f               256.0     False  \n",
       "1  168f7c75-84fb-4316-99d7-acabadd3b2e6               115.2     False  \n",
       "2  24f549dd-3fa4-4e9b-a356-778fbbfd5cad               232.5     False  \n",
       "3  407bb0b4-f19b-42ab-8c0a-9f1263126951               233.5     False  \n",
       "4  443819eb-6092-420c-bd86-d946a0ad6555               219.6     False  "
      ]
     },
     "metadata": {},
     "output_type": "display_data"
    }
   ],
   "source": [
    "annotations = mre.data.Annotation.from_mlflow()\n",
    "display(annotations.head())"
   ]
  },
  {
   "cell_type": "markdown",
   "metadata": {},
   "source": [
    "## Time Delayed Melody Surfaces\n",
    "\n",
    "Loading is part of the experiment"
   ]
  },
  {
   "cell_type": "code",
   "execution_count": 5,
   "metadata": {},
   "outputs": [],
   "source": [
    "tdms_runs = mre.mlflow_common.get_runs_with_same_name(\n",
    "    mre.data.TimeDelayedMelodySurface.EXPERIMENT_NAME,\n",
    "    mre.data.TimeDelayedMelodySurface.RUN_NAME\n",
    ")\n",
    "time_delay_indices = tdms_runs['tags.time_delay_index'].values.astype(float)\n"
   ]
  },
  {
   "cell_type": "markdown",
   "metadata": {},
   "source": [
    "# Experimental Setup"
   ]
  },
  {
   "cell_type": "code",
   "execution_count": 6,
   "metadata": {},
   "outputs": [],
   "source": [
    "ARCHITECTURES = [\n",
    "#     mre.experimentation.Architecture(  # from yesiler et al\n",
    "#         name=\"MultiLayerPerceptron\",\n",
    "#         estimator=MLPClassifier(\n",
    "#             momentum=0.5,\n",
    "#             max_iter=10000,\n",
    "#             learning_rate=\"adaptive\",\n",
    "#             learning_rate_init=0.001),\n",
    "#         param_grid={\n",
    "#             \"hidden_layer_sizes\": [50, 100],\n",
    "#             \"alpha\": [0.01, 0.001]\n",
    "#         }\n",
    "#     ),\n",
    "    mre.experimentation.Architecture(  # from demirel et al\n",
    "        name=\"SVM\",\n",
    "        estimator=SVC(kernel=\"rbf\"),\n",
    "        param_grid={\n",
    "            \"C\": [10, 100, 1000],  # .001, .01, .1, 1, 10 give worse results, omitted\n",
    "            \"gamma\": [.1, 1, 10]  # .001, .01, .01 give worse results, omitted\n",
    "        }\n",
    "    ),\n",
    "#     mre.experimentation.Architecture(  # from karakurt et al (morty)\n",
    "#         name=\"KNN\",\n",
    "#         estimator=KNeighborsClassifier(),\n",
    "#         param_grid={\n",
    "#             \"n_neighbors\": [1, 3],\n",
    "#             \"weights\": [\"distance\"],  # \"uniform\" give worse results, omitted \n",
    "#             \"metric\": [bhat, \"manhattan\"]  # \"euclidean\" gives worse results, omitted\n",
    "#         }\n",
    "#     ),\n",
    "#     mre.experimentation.Architecture(\n",
    "#         name=\"LogisticRegression\",\n",
    "#         estimator=LogisticRegression(max_iter=100, solver=\"saga\"),\n",
    "#         param_grid={\n",
    "#             \"penalty\": [\"l2\", 'l1'],\n",
    "#             \"C\": [0.1, 1, 10]\n",
    "#         }\n",
    "#     ),\n",
    "# #     mre.experimentation.Architecture(  # overfits heavily, omitted\n",
    "# #         name=\"RandomForest\",\n",
    "# #         estimator=RandomForestClassifier(),\n",
    "# #         param_grid={\n",
    "# #             \"n_estimators\": [5, 10, 25, 50],\n",
    "# #             \"criterion\": [\"gini\", \"entropy\"],\n",
    "# #             \"max_depth\": [5, 10, 25, 50]\n",
    "# #         }\n",
    "# #     ),\n",
    "# #     mre.experimentation.Architecture(  # bad overall; commented\n",
    "# #         name=\"DecisionTree\",\n",
    "# #         estimator=DecisionTreeClassifier(),\n",
    "# #         param_grid={\n",
    "# #             \"criterion\": [\"gini\", \"entropy\"],\n",
    "# #             \"max_depth\": [5, 10, 25, 50]\n",
    "# #         }\n",
    "# #     ),\n",
    "]\n"
   ]
  },
  {
   "cell_type": "code",
   "execution_count": 7,
   "metadata": {},
   "outputs": [],
   "source": [
    "tdms_param_grid = {\n",
    "    \"compression_exponent\": [0.1, 0.25, 0.5, 0.75, 1],\n",
    "    \"kernel_width\": [0, 12.5, 25, 50],\n",
    "}"
   ]
  },
  {
   "cell_type": "markdown",
   "metadata": {},
   "source": [
    "## Run 10-times shuffle split for each parameter combination\n"
   ]
  },
  {
   "cell_type": "code",
   "execution_count": 10,
   "metadata": {},
   "outputs": [],
   "source": [
    "def run_experiment_for_tdms_param(time_delay_index, compression_exponent, kernel_width, num_trials):\n",
    "    print(\"==================================================================================================\")\n",
    "    print(f\"Running shuffled stratified cross validation experiment with {num_trials} repetitions.\")\n",
    "    print(f\"Compression_exponent {compression_exponent}, kernel_width {kernel_width}, time_delay_index {time_delay_index}\")\n",
    "    tdms_files = mre.data.TimeDelayedMelodySurface.from_mlflow(\n",
    "        time_delay_index=time_delay_index,\n",
    "        compression_exponent=None,  # used below\n",
    "        kernel_width=None  # used below\n",
    "    )\n",
    "\n",
    "    dataset = prepare_dataset(\n",
    "        annotations,\n",
    "        tdms_files,\n",
    "        compression_exponent=compression_exponent,\n",
    "        kernel_width=kernel_width\n",
    "    )\n",
    "    print(dataset)\n",
    "    \n",
    "    stratified_shuffle_cv_experiment = mre.experimentation.StratifiedShuffleCV(\n",
    "        num_splits=10, num_trials=num_trials\n",
    "    )\n",
    "\n",
    "    raw_scores = stratified_shuffle_cv_experiment.run(dataset, ARCHITECTURES)\n",
    "    # display(stratified_shuffle_cv_experiment.results.head())\n",
    "    \n",
    "    _ = stratified_shuffle_cv_experiment.boxplot_best_models_by_trial()\n",
    "    plt.show()\n",
    "    _ = stratified_shuffle_cv_experiment.boxplot_best_models()\n",
    "    plt.show()\n",
    "    \n",
    "    print(\"\")\n",
    "    \n",
    "    return {\n",
    "        \"compression_exponent\": compression_exponent,\n",
    "        \"kernel_width\": kernel_width,\n",
    "        \"experiment\": stratified_shuffle_cv_experiment,\n",
    "        \"raw_scores\": raw_scores,\n",
    "    }"
   ]
  },
  {
   "cell_type": "markdown",
   "metadata": {},
   "source": [
    "# Evaluate different shallow architectures under different TDM params"
   ]
  },
  {
   "cell_type": "code",
   "execution_count": null,
   "metadata": {},
   "outputs": [
    {
     "name": "stdout",
     "output_type": "stream",
     "text": [
      "==================================================================================================\n",
      "Running shuffled stratified cross validation experiment with 10 repetitions.\n",
      "Compression_exponent 0.1, kernel_width 0\n",
      "Dataset with 1000 samples and 2304 feature dimensions.\n",
      "Trial 0\n"
     ]
    }
   ],
   "source": [
    "experiments = []\n",
    "all_results = pd.DataFrame()\n",
    "for co in tdms_param_grid[\"compression_exponent\"]:\n",
    "    for kw in tdms_param_grid[\"kernel_width\"]:\n",
    "        for tau in time_delay_indices:\n",
    "            tmp_exp = run_experiment_for_tdms_param(\n",
    "                time_delay_index=tau,\n",
    "                compression_exponent=co,\n",
    "                kernel_width=kw,\n",
    "                num_trials=10\n",
    "            )\n",
    "            tmp_exp[\"experiment\"].results[\"tdms_compression_exponent\"] = tmp_exp['compression_exponent']\n",
    "            tmp_exp[\"experiment\"].results[\"tdms_kernel_width\"] = tmp_exp['kernel_width']\n",
    "            tmp_exp[\"experiment\"].results[\"tdms_time_delay_index\"] = tau\n",
    "\n",
    "            all_results = pd.concat([all_results, tmp_exp[\"experiment\"].results])\n",
    "\n",
    "            experiments.append(tmp_exp)\n"
   ]
  },
  {
   "cell_type": "markdown",
   "metadata": {},
   "source": [
    "### Box plot across experiments"
   ]
  },
  {
   "cell_type": "code",
   "execution_count": null,
   "metadata": {},
   "outputs": [],
   "source": [
    "ax = sns.boxplot(\n",
    "    x=\"tdms_kernel_width\",\n",
    "    y=\"test_score\",\n",
    "    hue=\"tdms_compression_exponent\",\n",
    "    data=all_results[all_results.architecture==\"LogisticRegression\"],\n",
    "    palette=\"Set3\",\n",
    ")"
   ]
  },
  {
   "cell_type": "code",
   "execution_count": null,
   "metadata": {},
   "outputs": [],
   "source": [
    "ax = sns.boxplot(\n",
    "    x=\"tdms_kernel_width\",\n",
    "    y=\"test_score\",\n",
    "    hue=\"tdms_compression_exponent\",\n",
    "    data=all_results[all_results.architecture==\"SVM\"],\n",
    "    palette=\"Set3\",\n",
    ")"
   ]
  },
  {
   "cell_type": "code",
   "execution_count": null,
   "metadata": {},
   "outputs": [],
   "source": [
    "stratified_shuffle_cv_experiment.plot_confusion_matrix(architecture=\"SVM\")"
   ]
  }
 ],
 "metadata": {
  "kernelspec": {
   "display_name": "Python 3",
   "language": "python",
   "name": "python3"
  },
  "language_info": {
   "codemirror_mode": {
    "name": "ipython",
    "version": 3
   },
   "file_extension": ".py",
   "mimetype": "text/x-python",
   "name": "python",
   "nbconvert_exporter": "python",
   "pygments_lexer": "ipython3",
   "version": "3.7.6"
  }
 },
 "nbformat": 4,
 "nbformat_minor": 4
}
