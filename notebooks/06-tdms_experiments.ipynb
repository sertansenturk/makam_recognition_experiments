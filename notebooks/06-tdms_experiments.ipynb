{
 "cells": [
  {
   "cell_type": "code",
   "execution_count": 1,
   "metadata": {},
   "outputs": [],
   "source": [
    "from pathlib import Path\n",
    "from typing import Dict\n",
    "\n",
    "import mre\n",
    "import numpy as np\n",
    "import pandas as pd\n",
    "import seaborn as sns\n",
    "\n",
    "from matplotlib import pyplot as plt\n",
    "\n",
    "from sklearn.neighbors import KNeighborsClassifier\n",
    "from sklearn.neural_network import MLPClassifier\n",
    "from sklearn.svm import SVC\n",
    "from sklearn.ensemble import ExtraTreesClassifier, GradientBoostingClassifier, RandomForestClassifier\n",
    "from sklearn.linear_model import LogisticRegression\n",
    "from sklearn.tree import DecisionTreeClassifier\n",
    "\n",
    "%load_ext autoreload\n",
    "%autoreload 2\n"
   ]
  },
  {
   "cell_type": "markdown",
   "metadata": {},
   "source": [
    "## helper functions\n",
    "\n",
    "We only need these once in the experiments, therefore there is no need to add them to `mre`."
   ]
  },
  {
   "cell_type": "code",
   "execution_count": 2,
   "metadata": {},
   "outputs": [],
   "source": [
    "def bhat(mtx1, mtx2):\n",
    "    return -np.log(np.sum(np.sqrt(mtx1 * mtx2)))\n",
    "\n",
    "# # code ported from https://github.com/sankalpg/Library_PythonNew\n",
    "# EPS = np.finfo(np.float).resolution\n",
    "# def sym_kld(mtx1, mtx2):\n",
    "#     mtx1 = mtx1 + EPS\n",
    "#     mtx2 = mtx2 + EPS\n",
    "#     return mtx1 * np.log(mtx1/mtx2) + mtx2 * np.log(mtx2/mtx1)"
   ]
  },
  {
   "cell_type": "code",
   "execution_count": 3,
   "metadata": {},
   "outputs": [],
   "source": [
    "def prepare_dataset(\n",
    "    annotations,\n",
    "    tdms_files,\n",
    "    tdms_tags,\n",
    "    compression_exponent: float = None,  # no compression\n",
    "    kernel_width: float = None # no smoothing\n",
    "):\n",
    "    NUM_BINS = int(1200 / float(tdms_tags[\"step_size\"]))\n",
    "    \n",
    "    num_samples = len(annotations.data)\n",
    "    num_features = NUM_BINS * NUM_BINS\n",
    "\n",
    "    # prepare features\n",
    "    X = np.zeros((num_samples, num_features))\n",
    "    mbids = np.array([])\n",
    "    for ii, tf in enumerate(tdms_files):\n",
    "        tdms = mre.data.TDMSFeature.from_json(tf)\n",
    "        if compression_exponent is not None:\n",
    "            tdms.compression_exponent = compression_exponent\n",
    "            tdms.compress()\n",
    "        if kernel_width is not None:\n",
    "            tdms.kernel_width = kernel_width\n",
    "            tdms.smoothen()\n",
    "        vals = tdms.embedding\n",
    "\n",
    "        if vals.size != num_features:\n",
    "            raise ValueError(\n",
    "                \"%s has %d bins instead of %d.\"\n",
    "                % (tf, vals.size, num_features)\n",
    "            )\n",
    "        X[ii, :] = vals.reshape(-1)\n",
    "        mbids = np.append(mbids, Path(tf).stem)\n",
    "\n",
    "    y = annotations.data.set_index(\"mbid\").loc[mbids].makam.values\n",
    "\n",
    "    return mre.data.dataset.Dataset(X, y)\n"
   ]
  },
  {
   "cell_type": "markdown",
   "metadata": {},
   "source": [
    "# Read data"
   ]
  },
  {
   "cell_type": "markdown",
   "metadata": {},
   "source": [
    "## Annotations"
   ]
  },
  {
   "cell_type": "code",
   "execution_count": 4,
   "metadata": {},
   "outputs": [
    {
     "data": {
      "text/html": [
       "<div>\n",
       "<style scoped>\n",
       "    .dataframe tbody tr th:only-of-type {\n",
       "        vertical-align: middle;\n",
       "    }\n",
       "\n",
       "    .dataframe tbody tr th {\n",
       "        vertical-align: top;\n",
       "    }\n",
       "\n",
       "    .dataframe thead th {\n",
       "        text-align: right;\n",
       "    }\n",
       "</style>\n",
       "<table border=\"1\" class=\"dataframe\">\n",
       "  <thead>\n",
       "    <tr style=\"text-align: right;\">\n",
       "      <th></th>\n",
       "      <th>dunya_uid</th>\n",
       "      <th>makam</th>\n",
       "      <th>mb_url</th>\n",
       "      <th>mbid</th>\n",
       "      <th>observations</th>\n",
       "      <th>tonic</th>\n",
       "      <th>verified</th>\n",
       "    </tr>\n",
       "  </thead>\n",
       "  <tbody>\n",
       "    <tr>\n",
       "      <th>0</th>\n",
       "      <td>00f1c6d9-c8ee-45e3-a06f-0882ebcb4e2f</td>\n",
       "      <td>Acemasiran</td>\n",
       "      <td>http://musicbrainz.org/recording/00f1c6d9-c8ee...</td>\n",
       "      <td>00f1c6d9-c8ee-45e3-a06f-0882ebcb4e2f</td>\n",
       "      <td></td>\n",
       "      <td>256.0</td>\n",
       "      <td>False</td>\n",
       "    </tr>\n",
       "    <tr>\n",
       "      <th>1</th>\n",
       "      <td>168f7c75-84fb-4316-99d7-acabadd3b2e6</td>\n",
       "      <td>Acemasiran</td>\n",
       "      <td>http://musicbrainz.org/recording/168f7c75-84fb...</td>\n",
       "      <td>168f7c75-84fb-4316-99d7-acabadd3b2e6</td>\n",
       "      <td></td>\n",
       "      <td>115.2</td>\n",
       "      <td>False</td>\n",
       "    </tr>\n",
       "    <tr>\n",
       "      <th>2</th>\n",
       "      <td>24f549dd-3fa4-4e9b-a356-778fbbfd5cad</td>\n",
       "      <td>Acemasiran</td>\n",
       "      <td>http://musicbrainz.org/recording/24f549dd-3fa4...</td>\n",
       "      <td>24f549dd-3fa4-4e9b-a356-778fbbfd5cad</td>\n",
       "      <td></td>\n",
       "      <td>232.5</td>\n",
       "      <td>False</td>\n",
       "    </tr>\n",
       "    <tr>\n",
       "      <th>3</th>\n",
       "      <td>407bb0b4-f19b-42ab-8c0a-9f1263126951</td>\n",
       "      <td>Acemasiran</td>\n",
       "      <td>http://musicbrainz.org/recording/407bb0b4-f19b...</td>\n",
       "      <td>407bb0b4-f19b-42ab-8c0a-9f1263126951</td>\n",
       "      <td></td>\n",
       "      <td>233.5</td>\n",
       "      <td>False</td>\n",
       "    </tr>\n",
       "    <tr>\n",
       "      <th>4</th>\n",
       "      <td>443819eb-6092-420c-bd86-d946a0ad6555</td>\n",
       "      <td>Acemasiran</td>\n",
       "      <td>http://musicbrainz.org/recording/443819eb-6092...</td>\n",
       "      <td>443819eb-6092-420c-bd86-d946a0ad6555</td>\n",
       "      <td></td>\n",
       "      <td>219.6</td>\n",
       "      <td>False</td>\n",
       "    </tr>\n",
       "  </tbody>\n",
       "</table>\n",
       "</div>"
      ],
      "text/plain": [
       "                              dunya_uid       makam  \\\n",
       "0  00f1c6d9-c8ee-45e3-a06f-0882ebcb4e2f  Acemasiran   \n",
       "1  168f7c75-84fb-4316-99d7-acabadd3b2e6  Acemasiran   \n",
       "2  24f549dd-3fa4-4e9b-a356-778fbbfd5cad  Acemasiran   \n",
       "3  407bb0b4-f19b-42ab-8c0a-9f1263126951  Acemasiran   \n",
       "4  443819eb-6092-420c-bd86-d946a0ad6555  Acemasiran   \n",
       "\n",
       "                                              mb_url  \\\n",
       "0  http://musicbrainz.org/recording/00f1c6d9-c8ee...   \n",
       "1  http://musicbrainz.org/recording/168f7c75-84fb...   \n",
       "2  http://musicbrainz.org/recording/24f549dd-3fa4...   \n",
       "3  http://musicbrainz.org/recording/407bb0b4-f19b...   \n",
       "4  http://musicbrainz.org/recording/443819eb-6092...   \n",
       "\n",
       "                                   mbid observations  tonic  verified  \n",
       "0  00f1c6d9-c8ee-45e3-a06f-0882ebcb4e2f               256.0     False  \n",
       "1  168f7c75-84fb-4316-99d7-acabadd3b2e6               115.2     False  \n",
       "2  24f549dd-3fa4-4e9b-a356-778fbbfd5cad               232.5     False  \n",
       "3  407bb0b4-f19b-42ab-8c0a-9f1263126951               233.5     False  \n",
       "4  443819eb-6092-420c-bd86-d946a0ad6555               219.6     False  "
      ]
     },
     "metadata": {},
     "output_type": "display_data"
    }
   ],
   "source": [
    "annotations = mre.data.Annotation.from_mlflow()\n",
    "display(annotations.head())"
   ]
  },
  {
   "cell_type": "markdown",
   "metadata": {},
   "source": [
    "## Pitch Class Distributions"
   ]
  },
  {
   "cell_type": "code",
   "execution_count": 5,
   "metadata": {},
   "outputs": [],
   "source": [
    "tdms_files = mre.data.TimeDelayedMelodySurface.from_mlflow()\n",
    "tdms_tags = mre.data.TimeDelayedMelodySurface.get_tags()\n"
   ]
  },
  {
   "cell_type": "markdown",
   "metadata": {},
   "source": [
    "# Experimental Setup"
   ]
  },
  {
   "cell_type": "code",
   "execution_count": 6,
   "metadata": {},
   "outputs": [],
   "source": [
    "ARCHITECTURES = [\n",
    "#     mre.experimentation.Architecture(  # from yesiler et al\n",
    "#         name=\"MultiLayerPerceptron\",\n",
    "#         estimator=MLPClassifier(\n",
    "#             momentum=0.5,\n",
    "#             max_iter=10000,\n",
    "#             learning_rate=\"adaptive\",\n",
    "#             learning_rate_init=0.001),\n",
    "#         param_grid={\n",
    "#             \"hidden_layer_sizes\": [50, 100],\n",
    "#             \"alpha\": [0.01, 0.001]\n",
    "#         }\n",
    "#     ),\n",
    "    mre.experimentation.Architecture(  # from demirel et al\n",
    "        name=\"SVM\",\n",
    "        estimator=SVC(kernel=\"rbf\"),\n",
    "        param_grid={\n",
    "            \"C\": [10, 100, 1000],  # .001, .01, .1, 1, 10 give worse results, omitted\n",
    "            \"gamma\": [.1, 1, 10]  # .001, .01, .01 give worse results, omitted\n",
    "        }\n",
    "    ),\n",
    "#     mre.experimentation.Architecture(  # from karakurt et al (morty)\n",
    "#         name=\"KNN\",\n",
    "#         estimator=KNeighborsClassifier(),\n",
    "#         param_grid={\n",
    "#             \"n_neighbors\": [1, 3],\n",
    "#             \"weights\": [\"distance\"],  # \"uniform\" give worse results, omitted \n",
    "#             \"metric\": [bhat, \"manhattan\"]  # \"euclidean\" gives worse results, omitted\n",
    "#         }\n",
    "#     ),\n",
    "    mre.experimentation.Architecture(\n",
    "        name=\"LogisticRegression\",\n",
    "        estimator=LogisticRegression(max_iter=100, solver=\"saga\"),\n",
    "        param_grid={\n",
    "            \"penalty\": [\"l2\", 'l1'],\n",
    "            \"C\": [0.1, 1, 10]\n",
    "        }\n",
    "    ),\n",
    "# #     mre.experimentation.Architecture(  # overfits heavily, omitted\n",
    "# #         name=\"RandomForest\",\n",
    "# #         estimator=RandomForestClassifier(),\n",
    "# #         param_grid={\n",
    "# #             \"n_estimators\": [5, 10, 25, 50],\n",
    "# #             \"criterion\": [\"gini\", \"entropy\"],\n",
    "# #             \"max_depth\": [5, 10, 25, 50]\n",
    "# #         }\n",
    "# #     ),\n",
    "# #     mre.experimentation.Architecture(  # bad overall; commented\n",
    "# #         name=\"DecisionTree\",\n",
    "# #         estimator=DecisionTreeClassifier(),\n",
    "# #         param_grid={\n",
    "# #             \"criterion\": [\"gini\", \"entropy\"],\n",
    "# #             \"max_depth\": [5, 10, 25, 50]\n",
    "# #         }\n",
    "# #     ),\n",
    "]\n"
   ]
  },
  {
   "cell_type": "code",
   "execution_count": 7,
   "metadata": {},
   "outputs": [],
   "source": [
    "tdms_param_grid = {\n",
    "    \"compression_exponent\": [0.1, 0.25, 0.5, 0.75, 1],\n",
    "    \"kernel_width\": [0, 12.5, 25, 50],\n",
    "}"
   ]
  },
  {
   "cell_type": "markdown",
   "metadata": {},
   "source": [
    "## Run 10-times shuffle split for each parameter combination\n"
   ]
  },
  {
   "cell_type": "code",
   "execution_count": 8,
   "metadata": {},
   "outputs": [],
   "source": [
    "def run_experiment_for_tdms_param(compression_exponent, kernel_width, num_trials):\n",
    "    print(\"==================================================================================================\")\n",
    "    print(f\"Running shuffled stratified cross validation experiment with {num_trials} repetitions.\")\n",
    "    print(f\"Compression_exponent {compression_exponent}, kernel_width {kernel_width}\")\n",
    "\n",
    "    dataset = prepare_dataset(\n",
    "        annotations,\n",
    "        tdms_files,\n",
    "        tdms_tags,\n",
    "        compression_exponent=compression_exponent,\n",
    "        kernel_width=kernel_width\n",
    "    )\n",
    "    print(dataset)\n",
    "    \n",
    "    stratified_shuffle_cv_experiment = mre.experimentation.StratifiedShuffleCV(\n",
    "        num_splits=10, num_trials=num_trials\n",
    "    )\n",
    "\n",
    "    raw_scores = stratified_shuffle_cv_experiment.run(dataset, ARCHITECTURES)\n",
    "    # display(stratified_shuffle_cv_experiment.results.head())\n",
    "    \n",
    "    _ = stratified_shuffle_cv_experiment.boxplot_best_models_by_trial()\n",
    "    plt.show()\n",
    "    _ = stratified_shuffle_cv_experiment.boxplot_best_models()\n",
    "    plt.show()\n",
    "    \n",
    "    print(\"\")\n",
    "    \n",
    "    return {\n",
    "        \"compression_exponent\": compression_exponent,\n",
    "        \"kernel_width\": kernel_width,\n",
    "        \"experiment\": stratified_shuffle_cv_experiment,\n",
    "        \"raw_scores\": raw_scores,\n",
    "    }"
   ]
  },
  {
   "cell_type": "markdown",
   "metadata": {},
   "source": [
    "# Evaluate different shallow architectures under different TDM params"
   ]
  },
  {
   "cell_type": "code",
   "execution_count": 9,
   "metadata": {},
   "outputs": [
    {
     "name": "stdout",
     "output_type": "stream",
     "text": [
      "==================================================================================================\n",
      "Running shuffled stratified cross validation experiment with 10 repetitions.\n",
      "Compression_exponent 0.1, kernel_width 0\n",
      "Dataset with 1000 samples and 2304 feature dimensions.\n",
      "Trial 0\n",
      "   SVM               , Test acc: 0.31∓0.05, Train acc: 1.00∓0.00, Max fit time: 109.9 sec, Best Params: {'C': 100, 'gamma': 0.1}\n"
     ]
    },
    {
     "name": "stderr",
     "output_type": "stream",
     "text": [
      "/opt/conda/lib/python3.7/site-packages/joblib/externals/loky/process_executor.py:706: UserWarning: A worker stopped while some jobs were given to the executor. This can be caused by a too short worker timeout or by a memory leak.\n",
      "  \"timeout or by a memory leak.\", UserWarning\n"
     ]
    },
    {
     "name": "stdout",
     "output_type": "stream",
     "text": [
      "   LogisticRegression, Test acc: 0.69∓0.03, Train acc: 1.00∓0.00, Max fit time: 2117.8 sec, Best Params: {'C': 10, 'penalty': 'l2'}\n",
      "Trial 1\n"
     ]
    },
    {
     "name": "stderr",
     "output_type": "stream",
     "text": [
      "/opt/conda/lib/python3.7/site-packages/joblib/externals/loky/process_executor.py:706: UserWarning: A worker stopped while some jobs were given to the executor. This can be caused by a too short worker timeout or by a memory leak.\n",
      "  \"timeout or by a memory leak.\", UserWarning\n"
     ]
    },
    {
     "name": "stdout",
     "output_type": "stream",
     "text": [
      "   SVM               , Test acc: 0.29∓0.03, Train acc: 1.00∓0.00, Max fit time: 105.3 sec, Best Params: {'C': 100, 'gamma': 0.1}\n"
     ]
    },
    {
     "name": "stderr",
     "output_type": "stream",
     "text": [
      "/opt/conda/lib/python3.7/site-packages/joblib/externals/loky/process_executor.py:706: UserWarning: A worker stopped while some jobs were given to the executor. This can be caused by a too short worker timeout or by a memory leak.\n",
      "  \"timeout or by a memory leak.\", UserWarning\n"
     ]
    },
    {
     "name": "stdout",
     "output_type": "stream",
     "text": [
      "   LogisticRegression, Test acc: 0.66∓0.03, Train acc: 1.00∓0.00, Max fit time: 2115.5 sec, Best Params: {'C': 10, 'penalty': 'l2'}\n",
      "Trial 2\n",
      "   SVM               , Test acc: 0.31∓0.03, Train acc: 1.00∓0.00, Max fit time: 106.1 sec, Best Params: {'C': 100, 'gamma': 0.1}\n"
     ]
    },
    {
     "name": "stderr",
     "output_type": "stream",
     "text": [
      "/opt/conda/lib/python3.7/site-packages/joblib/externals/loky/process_executor.py:706: UserWarning: A worker stopped while some jobs were given to the executor. This can be caused by a too short worker timeout or by a memory leak.\n",
      "  \"timeout or by a memory leak.\", UserWarning\n"
     ]
    },
    {
     "name": "stdout",
     "output_type": "stream",
     "text": [
      "   LogisticRegression, Test acc: 0.67∓0.03, Train acc: 1.00∓0.01, Max fit time: 2106.0 sec, Best Params: {'C': 10, 'penalty': 'l2'}\n",
      "Trial 3\n"
     ]
    },
    {
     "name": "stderr",
     "output_type": "stream",
     "text": [
      "/opt/conda/lib/python3.7/site-packages/joblib/externals/loky/process_executor.py:706: UserWarning: A worker stopped while some jobs were given to the executor. This can be caused by a too short worker timeout or by a memory leak.\n",
      "  \"timeout or by a memory leak.\", UserWarning\n"
     ]
    },
    {
     "name": "stdout",
     "output_type": "stream",
     "text": [
      "   SVM               , Test acc: 0.29∓0.02, Train acc: 1.00∓0.00, Max fit time: 144.0 sec, Best Params: {'C': 100, 'gamma': 0.1}\n"
     ]
    },
    {
     "name": "stderr",
     "output_type": "stream",
     "text": [
      "/opt/conda/lib/python3.7/site-packages/joblib/externals/loky/process_executor.py:706: UserWarning: A worker stopped while some jobs were given to the executor. This can be caused by a too short worker timeout or by a memory leak.\n",
      "  \"timeout or by a memory leak.\", UserWarning\n"
     ]
    },
    {
     "name": "stdout",
     "output_type": "stream",
     "text": [
      "   LogisticRegression, Test acc: 0.66∓0.03, Train acc: 1.00∓0.00, Max fit time: 2147.5 sec, Best Params: {'C': 10, 'penalty': 'l2'}\n",
      "Trial 4\n"
     ]
    },
    {
     "name": "stderr",
     "output_type": "stream",
     "text": [
      "/opt/conda/lib/python3.7/site-packages/joblib/externals/loky/process_executor.py:706: UserWarning: A worker stopped while some jobs were given to the executor. This can be caused by a too short worker timeout or by a memory leak.\n",
      "  \"timeout or by a memory leak.\", UserWarning\n"
     ]
    },
    {
     "name": "stdout",
     "output_type": "stream",
     "text": [
      "   SVM               , Test acc: 0.31∓0.04, Train acc: 1.00∓0.00, Max fit time: 99.8 sec, Best Params: {'C': 100, 'gamma': 0.1}\n",
      "   LogisticRegression, Test acc: 0.68∓0.03, Train acc: 1.00∓0.01, Max fit time: 2111.3 sec, Best Params: {'C': 10, 'penalty': 'l2'}\n",
      "Trial 5\n"
     ]
    },
    {
     "name": "stderr",
     "output_type": "stream",
     "text": [
      "/opt/conda/lib/python3.7/site-packages/joblib/externals/loky/process_executor.py:706: UserWarning: A worker stopped while some jobs were given to the executor. This can be caused by a too short worker timeout or by a memory leak.\n",
      "  \"timeout or by a memory leak.\", UserWarning\n"
     ]
    },
    {
     "name": "stdout",
     "output_type": "stream",
     "text": [
      "   SVM               , Test acc: 0.32∓0.04, Train acc: 1.00∓0.00, Max fit time: 103.0 sec, Best Params: {'C': 100, 'gamma': 0.1}\n"
     ]
    },
    {
     "name": "stderr",
     "output_type": "stream",
     "text": [
      "/opt/conda/lib/python3.7/site-packages/joblib/externals/loky/process_executor.py:706: UserWarning: A worker stopped while some jobs were given to the executor. This can be caused by a too short worker timeout or by a memory leak.\n",
      "  \"timeout or by a memory leak.\", UserWarning\n"
     ]
    },
    {
     "name": "stdout",
     "output_type": "stream",
     "text": [
      "   LogisticRegression, Test acc: 0.67∓0.02, Train acc: 1.00∓0.00, Max fit time: 2247.9 sec, Best Params: {'C': 10, 'penalty': 'l2'}\n",
      "Trial 6\n",
      "   SVM               , Test acc: 0.30∓0.04, Train acc: 1.00∓0.00, Max fit time: 106.9 sec, Best Params: {'C': 100, 'gamma': 0.1}\n"
     ]
    },
    {
     "name": "stderr",
     "output_type": "stream",
     "text": [
      "/opt/conda/lib/python3.7/site-packages/joblib/externals/loky/process_executor.py:706: UserWarning: A worker stopped while some jobs were given to the executor. This can be caused by a too short worker timeout or by a memory leak.\n",
      "  \"timeout or by a memory leak.\", UserWarning\n"
     ]
    },
    {
     "name": "stdout",
     "output_type": "stream",
     "text": [
      "   LogisticRegression, Test acc: 0.68∓0.03, Train acc: 1.00∓0.01, Max fit time: 2150.7 sec, Best Params: {'C': 10, 'penalty': 'l2'}\n",
      "Trial 7\n"
     ]
    },
    {
     "name": "stderr",
     "output_type": "stream",
     "text": [
      "/opt/conda/lib/python3.7/site-packages/joblib/externals/loky/process_executor.py:706: UserWarning: A worker stopped while some jobs were given to the executor. This can be caused by a too short worker timeout or by a memory leak.\n",
      "  \"timeout or by a memory leak.\", UserWarning\n"
     ]
    },
    {
     "name": "stdout",
     "output_type": "stream",
     "text": [
      "   SVM               , Test acc: 0.31∓0.03, Train acc: 1.00∓0.00, Max fit time: 165.5 sec, Best Params: {'C': 100, 'gamma': 0.1}\n",
      "   LogisticRegression, Test acc: 0.68∓0.02, Train acc: 0.99∓0.01, Max fit time: 2881.9 sec, Best Params: {'C': 10, 'penalty': 'l2'}\n",
      "Trial 8\n",
      "   SVM               , Test acc: 0.30∓0.05, Train acc: 1.00∓0.00, Max fit time: 107.4 sec, Best Params: {'C': 100, 'gamma': 0.1}\n"
     ]
    },
    {
     "name": "stderr",
     "output_type": "stream",
     "text": [
      "/opt/conda/lib/python3.7/site-packages/joblib/externals/loky/process_executor.py:706: UserWarning: A worker stopped while some jobs were given to the executor. This can be caused by a too short worker timeout or by a memory leak.\n",
      "  \"timeout or by a memory leak.\", UserWarning\n"
     ]
    },
    {
     "name": "stdout",
     "output_type": "stream",
     "text": [
      "   LogisticRegression, Test acc: 0.65∓0.03, Train acc: 1.00∓0.00, Max fit time: 2139.9 sec, Best Params: {'C': 10, 'penalty': 'l2'}\n",
      "Trial 9\n"
     ]
    },
    {
     "name": "stderr",
     "output_type": "stream",
     "text": [
      "/opt/conda/lib/python3.7/site-packages/joblib/externals/loky/process_executor.py:706: UserWarning: A worker stopped while some jobs were given to the executor. This can be caused by a too short worker timeout or by a memory leak.\n",
      "  \"timeout or by a memory leak.\", UserWarning\n"
     ]
    },
    {
     "name": "stdout",
     "output_type": "stream",
     "text": [
      "   SVM               , Test acc: 0.29∓0.02, Train acc: 1.00∓0.00, Max fit time: 146.5 sec, Best Params: {'C': 100, 'gamma': 0.1}\n"
     ]
    },
    {
     "name": "stderr",
     "output_type": "stream",
     "text": [
      "/opt/conda/lib/python3.7/site-packages/joblib/externals/loky/process_executor.py:706: UserWarning: A worker stopped while some jobs were given to the executor. This can be caused by a too short worker timeout or by a memory leak.\n",
      "  \"timeout or by a memory leak.\", UserWarning\n"
     ]
    },
    {
     "name": "stdout",
     "output_type": "stream",
     "text": [
      "   LogisticRegression, Test acc: 0.68∓0.04, Train acc: 1.00∓0.01, Max fit time: 2137.0 sec, Best Params: {'C': 10, 'penalty': 'l2'}\n"
     ]
    },
    {
     "data": {
      "image/png": "[encoded data removed]",
      "text/plain": [
       "<Figure size 432x288 with 1 Axes>"
      ]
     },
     "metadata": {
      "needs_background": "light"
     },
     "output_type": "display_data"
    },
    {
     "data": {
      "image/png": "[encoded data removed]",
      "text/plain": [
       "<Figure size 432x288 with 1 Axes>"
      ]
     },
     "metadata": {
      "needs_background": "light"
     },
     "output_type": "display_data"
    },
    {
     "name": "stdout",
     "output_type": "stream",
     "text": [
      "\n",
      "==================================================================================================\n",
      "Running shuffled stratified cross validation experiment with 10 repetitions.\n",
      "Compression_exponent 0.1, kernel_width 12.5\n",
      "Dataset with 1000 samples and 2304 feature dimensions.\n",
      "Trial 0\n"
     ]
    },
    {
     "name": "stderr",
     "output_type": "stream",
     "text": [
      "/opt/conda/lib/python3.7/site-packages/joblib/externals/loky/process_executor.py:706: UserWarning: A worker stopped while some jobs were given to the executor. This can be caused by a too short worker timeout or by a memory leak.\n",
      "  \"timeout or by a memory leak.\", UserWarning\n"
     ]
    },
    {
     "name": "stdout",
     "output_type": "stream",
     "text": [
      "   SVM               , Test acc: 0.31∓0.05, Train acc: 1.00∓0.00, Max fit time: 109.3 sec, Best Params: {'C': 100, 'gamma': 10}\n"
     ]
    },
    {
     "name": "stderr",
     "output_type": "stream",
     "text": [
      "/opt/conda/lib/python3.7/site-packages/joblib/externals/loky/process_executor.py:706: UserWarning: A worker stopped while some jobs were given to the executor. This can be caused by a too short worker timeout or by a memory leak.\n",
      "  \"timeout or by a memory leak.\", UserWarning\n"
     ]
    },
    {
     "name": "stdout",
     "output_type": "stream",
     "text": [
      "   LogisticRegression, Test acc: 0.69∓0.03, Train acc: 0.99∓0.01, Max fit time: 2195.3 sec, Best Params: {'C': 1, 'penalty': 'l2'}\n",
      "Trial 1\n"
     ]
    },
    {
     "name": "stderr",
     "output_type": "stream",
     "text": [
      "/opt/conda/lib/python3.7/site-packages/joblib/externals/loky/process_executor.py:706: UserWarning: A worker stopped while some jobs were given to the executor. This can be caused by a too short worker timeout or by a memory leak.\n",
      "  \"timeout or by a memory leak.\", UserWarning\n"
     ]
    },
    {
     "name": "stdout",
     "output_type": "stream",
     "text": [
      "   SVM               , Test acc: 0.31∓0.05, Train acc: 1.00∓0.00, Max fit time: 101.3 sec, Best Params: {'C': 100, 'gamma': 10}\n"
     ]
    },
    {
     "name": "stderr",
     "output_type": "stream",
     "text": [
      "/opt/conda/lib/python3.7/site-packages/joblib/externals/loky/process_executor.py:706: UserWarning: A worker stopped while some jobs were given to the executor. This can be caused by a too short worker timeout or by a memory leak.\n",
      "  \"timeout or by a memory leak.\", UserWarning\n"
     ]
    },
    {
     "name": "stdout",
     "output_type": "stream",
     "text": [
      "   LogisticRegression, Test acc: 0.67∓0.03, Train acc: 0.99∓0.01, Max fit time: 2190.6 sec, Best Params: {'C': 10, 'penalty': 'l2'}\n",
      "Trial 2\n"
     ]
    },
    {
     "name": "stderr",
     "output_type": "stream",
     "text": [
      "/opt/conda/lib/python3.7/site-packages/joblib/externals/loky/process_executor.py:706: UserWarning: A worker stopped while some jobs were given to the executor. This can be caused by a too short worker timeout or by a memory leak.\n",
      "  \"timeout or by a memory leak.\", UserWarning\n"
     ]
    },
    {
     "name": "stdout",
     "output_type": "stream",
     "text": [
      "   SVM               , Test acc: 0.34∓0.08, Train acc: 1.00∓0.00, Max fit time: 99.1 sec, Best Params: {'C': 100, 'gamma': 10}\n"
     ]
    },
    {
     "name": "stderr",
     "output_type": "stream",
     "text": [
      "/opt/conda/lib/python3.7/site-packages/joblib/externals/loky/process_executor.py:706: UserWarning: A worker stopped while some jobs were given to the executor. This can be caused by a too short worker timeout or by a memory leak.\n",
      "  \"timeout or by a memory leak.\", UserWarning\n"
     ]
    },
    {
     "name": "stdout",
     "output_type": "stream",
     "text": [
      "   LogisticRegression, Test acc: 0.67∓0.04, Train acc: 0.98∓0.01, Max fit time: 2206.4 sec, Best Params: {'C': 0.1, 'penalty': 'l2'}\n",
      "Trial 3\n"
     ]
    },
    {
     "name": "stderr",
     "output_type": "stream",
     "text": [
      "/opt/conda/lib/python3.7/site-packages/joblib/externals/loky/process_executor.py:706: UserWarning: A worker stopped while some jobs were given to the executor. This can be caused by a too short worker timeout or by a memory leak.\n",
      "  \"timeout or by a memory leak.\", UserWarning\n"
     ]
    },
    {
     "name": "stdout",
     "output_type": "stream",
     "text": [
      "   SVM               , Test acc: 0.31∓0.06, Train acc: 1.00∓0.00, Max fit time: 99.4 sec, Best Params: {'C': 100, 'gamma': 10}\n",
      "   LogisticRegression, Test acc: 0.67∓0.03, Train acc: 0.99∓0.01, Max fit time: 2189.3 sec, Best Params: {'C': 1, 'penalty': 'l2'}\n",
      "Trial 4\n"
     ]
    },
    {
     "name": "stderr",
     "output_type": "stream",
     "text": [
      "/opt/conda/lib/python3.7/site-packages/joblib/externals/loky/process_executor.py:706: UserWarning: A worker stopped while some jobs were given to the executor. This can be caused by a too short worker timeout or by a memory leak.\n",
      "  \"timeout or by a memory leak.\", UserWarning\n"
     ]
    },
    {
     "name": "stdout",
     "output_type": "stream",
     "text": [
      "   SVM               , Test acc: 0.35∓0.08, Train acc: 1.00∓0.00, Max fit time: 98.8 sec, Best Params: {'C': 100, 'gamma': 10}\n",
      "   LogisticRegression, Test acc: 0.69∓0.03, Train acc: 0.99∓0.01, Max fit time: 2179.8 sec, Best Params: {'C': 1, 'penalty': 'l2'}\n",
      "Trial 5\n"
     ]
    },
    {
     "name": "stderr",
     "output_type": "stream",
     "text": [
      "/opt/conda/lib/python3.7/site-packages/joblib/externals/loky/process_executor.py:706: UserWarning: A worker stopped while some jobs were given to the executor. This can be caused by a too short worker timeout or by a memory leak.\n",
      "  \"timeout or by a memory leak.\", UserWarning\n"
     ]
    },
    {
     "name": "stdout",
     "output_type": "stream",
     "text": [
      "   SVM               , Test acc: 0.32∓0.09, Train acc: 1.00∓0.00, Max fit time: 179.9 sec, Best Params: {'C': 100, 'gamma': 10}\n",
      "   LogisticRegression, Test acc: 0.68∓0.02, Train acc: 1.00∓0.00, Max fit time: 3811.4 sec, Best Params: {'C': 10, 'penalty': 'l2'}\n",
      "Trial 6\n"
     ]
    },
    {
     "name": "stderr",
     "output_type": "stream",
     "text": [
      "/opt/conda/lib/python3.7/site-packages/joblib/externals/loky/process_executor.py:706: UserWarning: A worker stopped while some jobs were given to the executor. This can be caused by a too short worker timeout or by a memory leak.\n",
      "  \"timeout or by a memory leak.\", UserWarning\n"
     ]
    },
    {
     "name": "stdout",
     "output_type": "stream",
     "text": [
      "   SVM               , Test acc: 0.34∓0.08, Train acc: 1.00∓0.00, Max fit time: 141.0 sec, Best Params: {'C': 100, 'gamma': 10}\n"
     ]
    },
    {
     "name": "stderr",
     "output_type": "stream",
     "text": [
      "/opt/conda/lib/python3.7/site-packages/joblib/externals/loky/process_executor.py:706: UserWarning: A worker stopped while some jobs were given to the executor. This can be caused by a too short worker timeout or by a memory leak.\n",
      "  \"timeout or by a memory leak.\", UserWarning\n"
     ]
    },
    {
     "name": "stdout",
     "output_type": "stream",
     "text": [
      "   LogisticRegression, Test acc: 0.68∓0.03, Train acc: 0.99∓0.01, Max fit time: 2818.3 sec, Best Params: {'C': 1, 'penalty': 'l2'}\n",
      "Trial 7\n"
     ]
    },
    {
     "name": "stderr",
     "output_type": "stream",
     "text": [
      "/opt/conda/lib/python3.7/site-packages/joblib/externals/loky/process_executor.py:706: UserWarning: A worker stopped while some jobs were given to the executor. This can be caused by a too short worker timeout or by a memory leak.\n",
      "  \"timeout or by a memory leak.\", UserWarning\n"
     ]
    },
    {
     "name": "stdout",
     "output_type": "stream",
     "text": [
      "   SVM               , Test acc: 0.34∓0.08, Train acc: 1.00∓0.00, Max fit time: 117.7 sec, Best Params: {'C': 100, 'gamma': 10}\n",
      "   LogisticRegression, Test acc: 0.68∓0.02, Train acc: 0.99∓0.01, Max fit time: 2369.2 sec, Best Params: {'C': 1, 'penalty': 'l2'}\n",
      "Trial 8\n"
     ]
    },
    {
     "name": "stderr",
     "output_type": "stream",
     "text": [
      "/opt/conda/lib/python3.7/site-packages/joblib/externals/loky/process_executor.py:706: UserWarning: A worker stopped while some jobs were given to the executor. This can be caused by a too short worker timeout or by a memory leak.\n",
      "  \"timeout or by a memory leak.\", UserWarning\n"
     ]
    },
    {
     "name": "stdout",
     "output_type": "stream",
     "text": [
      "   SVM               , Test acc: 0.34∓0.09, Train acc: 1.00∓0.00, Max fit time: 120.8 sec, Best Params: {'C': 100, 'gamma': 10}\n",
      "   LogisticRegression, Test acc: 0.66∓0.03, Train acc: 0.99∓0.01, Max fit time: 2238.4 sec, Best Params: {'C': 10, 'penalty': 'l2'}\n",
      "Trial 9\n"
     ]
    },
    {
     "name": "stderr",
     "output_type": "stream",
     "text": [
      "/opt/conda/lib/python3.7/site-packages/joblib/externals/loky/process_executor.py:706: UserWarning: A worker stopped while some jobs were given to the executor. This can be caused by a too short worker timeout or by a memory leak.\n",
      "  \"timeout or by a memory leak.\", UserWarning\n"
     ]
    },
    {
     "name": "stdout",
     "output_type": "stream",
     "text": [
      "   SVM               , Test acc: 0.34∓0.08, Train acc: 1.00∓0.00, Max fit time: 146.2 sec, Best Params: {'C': 100, 'gamma': 10}\n",
      "   LogisticRegression, Test acc: 0.69∓0.03, Train acc: 0.99∓0.01, Max fit time: 2597.4 sec, Best Params: {'C': 10, 'penalty': 'l2'}\n"
     ]
    },
    {
     "data": {
      "image/png": "[encoded data removed]",
      "text/plain": [
       "<Figure size 432x288 with 1 Axes>"
      ]
     },
     "metadata": {
      "needs_background": "light"
     },
     "output_type": "display_data"
    },
    {
     "data": {
      "image/png": "[encoded data removed]",
      "text/plain": [
       "<Figure size 432x288 with 1 Axes>"
      ]
     },
     "metadata": {
      "needs_background": "light"
     },
     "output_type": "display_data"
    },
    {
     "name": "stdout",
     "output_type": "stream",
     "text": [
      "\n",
      "==================================================================================================\n",
      "Running shuffled stratified cross validation experiment with 10 repetitions.\n",
      "Compression_exponent 0.1, kernel_width 25\n",
      "Dataset with 1000 samples and 2304 feature dimensions.\n",
      "Trial 0\n",
      "   SVM               , Test acc: 0.59∓0.03, Train acc: 1.00∓0.00, Max fit time: 111.8 sec, Best Params: {'C': 100, 'gamma': 0.1}\n"
     ]
    },
    {
     "name": "stderr",
     "output_type": "stream",
     "text": [
      "/opt/conda/lib/python3.7/site-packages/joblib/externals/loky/process_executor.py:706: UserWarning: A worker stopped while some jobs were given to the executor. This can be caused by a too short worker timeout or by a memory leak.\n",
      "  \"timeout or by a memory leak.\", UserWarning\n"
     ]
    },
    {
     "name": "stdout",
     "output_type": "stream",
     "text": [
      "   LogisticRegression, Test acc: 0.68∓0.03, Train acc: 0.96∓0.03, Max fit time: 3225.4 sec, Best Params: {'C': 1, 'penalty': 'l2'}\n",
      "Trial 1\n"
     ]
    },
    {
     "name": "stderr",
     "output_type": "stream",
     "text": [
      "/opt/conda/lib/python3.7/site-packages/joblib/externals/loky/process_executor.py:706: UserWarning: A worker stopped while some jobs were given to the executor. This can be caused by a too short worker timeout or by a memory leak.\n",
      "  \"timeout or by a memory leak.\", UserWarning\n"
     ]
    },
    {
     "name": "stdout",
     "output_type": "stream",
     "text": [
      "   SVM               , Test acc: 0.58∓0.03, Train acc: 1.00∓0.00, Max fit time: 170.6 sec, Best Params: {'C': 100, 'gamma': 0.1}\n"
     ]
    },
    {
     "ename": "KeyboardInterrupt",
     "evalue": "",
     "output_type": "error",
     "traceback": [
      "\u001b[0;31m---------------------------------------------------------------------------\u001b[0m",
      "\u001b[0;31mKeyboardInterrupt\u001b[0m                         Traceback (most recent call last)",
      "\u001b[0;32m<ipython-input-9-33217db25690>\u001b[0m in \u001b[0;36m<module>\u001b[0;34m\u001b[0m\n\u001b[1;32m      6\u001b[0m             \u001b[0mcompression_exponent\u001b[0m\u001b[0;34m=\u001b[0m\u001b[0mco\u001b[0m\u001b[0;34m,\u001b[0m\u001b[0;34m\u001b[0m\u001b[0;34m\u001b[0m\u001b[0m\n\u001b[1;32m      7\u001b[0m             \u001b[0mkernel_width\u001b[0m\u001b[0;34m=\u001b[0m\u001b[0mkw\u001b[0m\u001b[0;34m,\u001b[0m\u001b[0;34m\u001b[0m\u001b[0;34m\u001b[0m\u001b[0m\n\u001b[0;32m----> 8\u001b[0;31m             \u001b[0mnum_trials\u001b[0m\u001b[0;34m=\u001b[0m\u001b[0;36m10\u001b[0m\u001b[0;34m\u001b[0m\u001b[0;34m\u001b[0m\u001b[0m\n\u001b[0m\u001b[1;32m      9\u001b[0m         )\n\u001b[1;32m     10\u001b[0m         \u001b[0mtmp_exp\u001b[0m\u001b[0;34m[\u001b[0m\u001b[0;34m\"experiment\"\u001b[0m\u001b[0;34m]\u001b[0m\u001b[0;34m.\u001b[0m\u001b[0mresults\u001b[0m\u001b[0;34m[\u001b[0m\u001b[0;34m\"tdms_compression_exponent\"\u001b[0m\u001b[0;34m]\u001b[0m \u001b[0;34m=\u001b[0m \u001b[0mtmp_exp\u001b[0m\u001b[0;34m[\u001b[0m\u001b[0;34m'compression_exponent'\u001b[0m\u001b[0;34m]\u001b[0m\u001b[0;34m\u001b[0m\u001b[0;34m\u001b[0m\u001b[0m\n",
      "\u001b[0;32m<ipython-input-8-124ea30cf8b9>\u001b[0m in \u001b[0;36mrun_experiment_for_tdms_param\u001b[0;34m(compression_exponent, kernel_width, num_trials)\u001b[0m\n\u001b[1;32m     17\u001b[0m     )\n\u001b[1;32m     18\u001b[0m \u001b[0;34m\u001b[0m\u001b[0m\n\u001b[0;32m---> 19\u001b[0;31m     \u001b[0mraw_scores\u001b[0m \u001b[0;34m=\u001b[0m \u001b[0mstratified_shuffle_cv_experiment\u001b[0m\u001b[0;34m.\u001b[0m\u001b[0mrun\u001b[0m\u001b[0;34m(\u001b[0m\u001b[0mdataset\u001b[0m\u001b[0;34m,\u001b[0m \u001b[0mARCHITECTURES\u001b[0m\u001b[0;34m)\u001b[0m\u001b[0;34m\u001b[0m\u001b[0;34m\u001b[0m\u001b[0m\n\u001b[0m\u001b[1;32m     20\u001b[0m     \u001b[0;31m# display(stratified_shuffle_cv_experiment.results.head())\u001b[0m\u001b[0;34m\u001b[0m\u001b[0;34m\u001b[0m\u001b[0;34m\u001b[0m\u001b[0m\n\u001b[1;32m     21\u001b[0m \u001b[0;34m\u001b[0m\u001b[0m\n",
      "\u001b[0;32m~/work/src/mre/experimentation/stratified_shuffle_cv.py\u001b[0m in \u001b[0;36mrun\u001b[0;34m(self, dataset, architectures)\u001b[0m\n\u001b[1;32m     34\u001b[0m \u001b[0;34m\u001b[0m\u001b[0m\n\u001b[1;32m     35\u001b[0m             \u001b[0minner_cv\u001b[0m\u001b[0;34m,\u001b[0m \u001b[0mouter_cv\u001b[0m \u001b[0;34m=\u001b[0m \u001b[0mself\u001b[0m\u001b[0;34m.\u001b[0m\u001b[0m_setup\u001b[0m\u001b[0;34m(\u001b[0m\u001b[0mii\u001b[0m\u001b[0;34m)\u001b[0m\u001b[0;34m\u001b[0m\u001b[0;34m\u001b[0m\u001b[0m\n\u001b[0;32m---> 36\u001b[0;31m             \u001b[0;32mfor\u001b[0m \u001b[0march\u001b[0m \u001b[0;32min\u001b[0m \u001b[0marchitectures\u001b[0m\u001b[0;34m:\u001b[0m\u001b[0;34m\u001b[0m\u001b[0;34m\u001b[0m\u001b[0m\n\u001b[0m\u001b[1;32m     37\u001b[0m                 scores = self._cross_validate(\n\u001b[1;32m     38\u001b[0m                     dataset, arch, inner_cv, outer_cv)\n",
      "\u001b[0;32m~/work/src/mre/experimentation/stratified_shuffle_cv.py\u001b[0m in \u001b[0;36m_cross_validate\u001b[0;34m(self, dataset, architecture, inner_cv, outer_cv)\u001b[0m\n\u001b[1;32m     74\u001b[0m             \u001b[0mX\u001b[0m\u001b[0;34m=\u001b[0m\u001b[0mdataset\u001b[0m\u001b[0;34m.\u001b[0m\u001b[0mX\u001b[0m\u001b[0;34m,\u001b[0m\u001b[0;34m\u001b[0m\u001b[0;34m\u001b[0m\u001b[0m\n\u001b[1;32m     75\u001b[0m             \u001b[0my\u001b[0m\u001b[0;34m=\u001b[0m\u001b[0mdataset\u001b[0m\u001b[0;34m.\u001b[0m\u001b[0my\u001b[0m\u001b[0;34m,\u001b[0m\u001b[0;34m\u001b[0m\u001b[0;34m\u001b[0m\u001b[0m\n\u001b[0;32m---> 76\u001b[0;31m             \u001b[0mcv\u001b[0m\u001b[0;34m=\u001b[0m\u001b[0mouter_cv\u001b[0m\u001b[0;34m,\u001b[0m\u001b[0;34m\u001b[0m\u001b[0;34m\u001b[0m\u001b[0m\n\u001b[0m\u001b[1;32m     77\u001b[0m             \u001b[0mverbose\u001b[0m\u001b[0;34m=\u001b[0m\u001b[0mVERBOSE\u001b[0m\u001b[0;34m,\u001b[0m\u001b[0;34m\u001b[0m\u001b[0;34m\u001b[0m\u001b[0m\n\u001b[1;32m     78\u001b[0m             \u001b[0mn_jobs\u001b[0m\u001b[0;34m=\u001b[0m\u001b[0mN_JOBS\u001b[0m\u001b[0;34m,\u001b[0m\u001b[0;34m\u001b[0m\u001b[0;34m\u001b[0m\u001b[0m\n",
      "\u001b[0;32m/opt/conda/lib/python3.7/site-packages/sklearn/model_selection/_validation.py\u001b[0m in \u001b[0;36mcross_validate\u001b[0;34m(estimator, X, y, groups, scoring, cv, n_jobs, verbose, fit_params, pre_dispatch, return_train_score, return_estimator, error_score)\u001b[0m\n\u001b[1;32m    234\u001b[0m             \u001b[0mreturn_times\u001b[0m\u001b[0;34m=\u001b[0m\u001b[0;32mTrue\u001b[0m\u001b[0;34m,\u001b[0m \u001b[0mreturn_estimator\u001b[0m\u001b[0;34m=\u001b[0m\u001b[0mreturn_estimator\u001b[0m\u001b[0;34m,\u001b[0m\u001b[0;34m\u001b[0m\u001b[0;34m\u001b[0m\u001b[0m\n\u001b[1;32m    235\u001b[0m             error_score=error_score)\n\u001b[0;32m--> 236\u001b[0;31m         for train, test in cv.split(X, y, groups))\n\u001b[0m\u001b[1;32m    237\u001b[0m \u001b[0;34m\u001b[0m\u001b[0m\n\u001b[1;32m    238\u001b[0m     \u001b[0mzipped_scores\u001b[0m \u001b[0;34m=\u001b[0m \u001b[0mlist\u001b[0m\u001b[0;34m(\u001b[0m\u001b[0mzip\u001b[0m\u001b[0;34m(\u001b[0m\u001b[0;34m*\u001b[0m\u001b[0mscores\u001b[0m\u001b[0;34m)\u001b[0m\u001b[0;34m)\u001b[0m\u001b[0;34m\u001b[0m\u001b[0;34m\u001b[0m\u001b[0m\n",
      "\u001b[0;32m/opt/conda/lib/python3.7/site-packages/joblib/parallel.py\u001b[0m in \u001b[0;36m__call__\u001b[0;34m(self, iterable)\u001b[0m\n\u001b[1;32m   1015\u001b[0m \u001b[0;34m\u001b[0m\u001b[0m\n\u001b[1;32m   1016\u001b[0m             \u001b[0;32mwith\u001b[0m \u001b[0mself\u001b[0m\u001b[0;34m.\u001b[0m\u001b[0m_backend\u001b[0m\u001b[0;34m.\u001b[0m\u001b[0mretrieval_context\u001b[0m\u001b[0;34m(\u001b[0m\u001b[0;34m)\u001b[0m\u001b[0;34m:\u001b[0m\u001b[0;34m\u001b[0m\u001b[0;34m\u001b[0m\u001b[0m\n\u001b[0;32m-> 1017\u001b[0;31m                 \u001b[0mself\u001b[0m\u001b[0;34m.\u001b[0m\u001b[0mretrieve\u001b[0m\u001b[0;34m(\u001b[0m\u001b[0;34m)\u001b[0m\u001b[0;34m\u001b[0m\u001b[0;34m\u001b[0m\u001b[0m\n\u001b[0m\u001b[1;32m   1018\u001b[0m             \u001b[0;31m# Make sure that we get a last message telling us we are done\u001b[0m\u001b[0;34m\u001b[0m\u001b[0;34m\u001b[0m\u001b[0;34m\u001b[0m\u001b[0m\n\u001b[1;32m   1019\u001b[0m             \u001b[0melapsed_time\u001b[0m \u001b[0;34m=\u001b[0m \u001b[0mtime\u001b[0m\u001b[0;34m.\u001b[0m\u001b[0mtime\u001b[0m\u001b[0;34m(\u001b[0m\u001b[0;34m)\u001b[0m \u001b[0;34m-\u001b[0m \u001b[0mself\u001b[0m\u001b[0;34m.\u001b[0m\u001b[0m_start_time\u001b[0m\u001b[0;34m\u001b[0m\u001b[0;34m\u001b[0m\u001b[0m\n",
      "\u001b[0;32m/opt/conda/lib/python3.7/site-packages/joblib/parallel.py\u001b[0m in \u001b[0;36mretrieve\u001b[0;34m(self)\u001b[0m\n\u001b[1;32m    907\u001b[0m             \u001b[0;32mtry\u001b[0m\u001b[0;34m:\u001b[0m\u001b[0;34m\u001b[0m\u001b[0;34m\u001b[0m\u001b[0m\n\u001b[1;32m    908\u001b[0m                 \u001b[0;32mif\u001b[0m \u001b[0mgetattr\u001b[0m\u001b[0;34m(\u001b[0m\u001b[0mself\u001b[0m\u001b[0;34m.\u001b[0m\u001b[0m_backend\u001b[0m\u001b[0;34m,\u001b[0m \u001b[0;34m'supports_timeout'\u001b[0m\u001b[0;34m,\u001b[0m \u001b[0;32mFalse\u001b[0m\u001b[0;34m)\u001b[0m\u001b[0;34m:\u001b[0m\u001b[0;34m\u001b[0m\u001b[0;34m\u001b[0m\u001b[0m\n\u001b[0;32m--> 909\u001b[0;31m                     \u001b[0mself\u001b[0m\u001b[0;34m.\u001b[0m\u001b[0m_output\u001b[0m\u001b[0;34m.\u001b[0m\u001b[0mextend\u001b[0m\u001b[0;34m(\u001b[0m\u001b[0mjob\u001b[0m\u001b[0;34m.\u001b[0m\u001b[0mget\u001b[0m\u001b[0;34m(\u001b[0m\u001b[0mtimeout\u001b[0m\u001b[0;34m=\u001b[0m\u001b[0mself\u001b[0m\u001b[0;34m.\u001b[0m\u001b[0mtimeout\u001b[0m\u001b[0;34m)\u001b[0m\u001b[0;34m)\u001b[0m\u001b[0;34m\u001b[0m\u001b[0;34m\u001b[0m\u001b[0m\n\u001b[0m\u001b[1;32m    910\u001b[0m                 \u001b[0;32melse\u001b[0m\u001b[0;34m:\u001b[0m\u001b[0;34m\u001b[0m\u001b[0;34m\u001b[0m\u001b[0m\n\u001b[1;32m    911\u001b[0m                     \u001b[0mself\u001b[0m\u001b[0;34m.\u001b[0m\u001b[0m_output\u001b[0m\u001b[0;34m.\u001b[0m\u001b[0mextend\u001b[0m\u001b[0;34m(\u001b[0m\u001b[0mjob\u001b[0m\u001b[0;34m.\u001b[0m\u001b[0mget\u001b[0m\u001b[0;34m(\u001b[0m\u001b[0;34m)\u001b[0m\u001b[0;34m)\u001b[0m\u001b[0;34m\u001b[0m\u001b[0;34m\u001b[0m\u001b[0m\n",
      "\u001b[0;32m/opt/conda/lib/python3.7/site-packages/joblib/_parallel_backends.py\u001b[0m in \u001b[0;36mwrap_future_result\u001b[0;34m(future, timeout)\u001b[0m\n\u001b[1;32m    560\u001b[0m         AsyncResults.get from multiprocessing.\"\"\"\n\u001b[1;32m    561\u001b[0m         \u001b[0;32mtry\u001b[0m\u001b[0;34m:\u001b[0m\u001b[0;34m\u001b[0m\u001b[0;34m\u001b[0m\u001b[0m\n\u001b[0;32m--> 562\u001b[0;31m             \u001b[0;32mreturn\u001b[0m \u001b[0mfuture\u001b[0m\u001b[0;34m.\u001b[0m\u001b[0mresult\u001b[0m\u001b[0;34m(\u001b[0m\u001b[0mtimeout\u001b[0m\u001b[0;34m=\u001b[0m\u001b[0mtimeout\u001b[0m\u001b[0;34m)\u001b[0m\u001b[0;34m\u001b[0m\u001b[0;34m\u001b[0m\u001b[0m\n\u001b[0m\u001b[1;32m    563\u001b[0m         \u001b[0;32mexcept\u001b[0m \u001b[0mLokyTimeoutError\u001b[0m\u001b[0;34m:\u001b[0m\u001b[0;34m\u001b[0m\u001b[0;34m\u001b[0m\u001b[0m\n\u001b[1;32m    564\u001b[0m             \u001b[0;32mraise\u001b[0m \u001b[0mTimeoutError\u001b[0m\u001b[0;34m(\u001b[0m\u001b[0;34m)\u001b[0m\u001b[0;34m\u001b[0m\u001b[0;34m\u001b[0m\u001b[0m\n",
      "\u001b[0;32m/opt/conda/lib/python3.7/concurrent/futures/_base.py\u001b[0m in \u001b[0;36mresult\u001b[0;34m(self, timeout)\u001b[0m\n\u001b[1;32m    428\u001b[0m                 \u001b[0;32mreturn\u001b[0m \u001b[0mself\u001b[0m\u001b[0;34m.\u001b[0m\u001b[0m__get_result\u001b[0m\u001b[0;34m(\u001b[0m\u001b[0;34m)\u001b[0m\u001b[0;34m\u001b[0m\u001b[0;34m\u001b[0m\u001b[0m\n\u001b[1;32m    429\u001b[0m \u001b[0;34m\u001b[0m\u001b[0m\n\u001b[0;32m--> 430\u001b[0;31m             \u001b[0mself\u001b[0m\u001b[0;34m.\u001b[0m\u001b[0m_condition\u001b[0m\u001b[0;34m.\u001b[0m\u001b[0mwait\u001b[0m\u001b[0;34m(\u001b[0m\u001b[0mtimeout\u001b[0m\u001b[0;34m)\u001b[0m\u001b[0;34m\u001b[0m\u001b[0;34m\u001b[0m\u001b[0m\n\u001b[0m\u001b[1;32m    431\u001b[0m \u001b[0;34m\u001b[0m\u001b[0m\n\u001b[1;32m    432\u001b[0m             \u001b[0;32mif\u001b[0m \u001b[0mself\u001b[0m\u001b[0;34m.\u001b[0m\u001b[0m_state\u001b[0m \u001b[0;32min\u001b[0m \u001b[0;34m[\u001b[0m\u001b[0mCANCELLED\u001b[0m\u001b[0;34m,\u001b[0m \u001b[0mCANCELLED_AND_NOTIFIED\u001b[0m\u001b[0;34m]\u001b[0m\u001b[0;34m:\u001b[0m\u001b[0;34m\u001b[0m\u001b[0;34m\u001b[0m\u001b[0m\n",
      "\u001b[0;32m/opt/conda/lib/python3.7/threading.py\u001b[0m in \u001b[0;36mwait\u001b[0;34m(self, timeout)\u001b[0m\n\u001b[1;32m    294\u001b[0m         \u001b[0;32mtry\u001b[0m\u001b[0;34m:\u001b[0m    \u001b[0;31m# restore state no matter what (e.g., KeyboardInterrupt)\u001b[0m\u001b[0;34m\u001b[0m\u001b[0;34m\u001b[0m\u001b[0m\n\u001b[1;32m    295\u001b[0m             \u001b[0;32mif\u001b[0m \u001b[0mtimeout\u001b[0m \u001b[0;32mis\u001b[0m \u001b[0;32mNone\u001b[0m\u001b[0;34m:\u001b[0m\u001b[0;34m\u001b[0m\u001b[0;34m\u001b[0m\u001b[0m\n\u001b[0;32m--> 296\u001b[0;31m                 \u001b[0mwaiter\u001b[0m\u001b[0;34m.\u001b[0m\u001b[0macquire\u001b[0m\u001b[0;34m(\u001b[0m\u001b[0;34m)\u001b[0m\u001b[0;34m\u001b[0m\u001b[0;34m\u001b[0m\u001b[0m\n\u001b[0m\u001b[1;32m    297\u001b[0m                 \u001b[0mgotit\u001b[0m \u001b[0;34m=\u001b[0m \u001b[0;32mTrue\u001b[0m\u001b[0;34m\u001b[0m\u001b[0;34m\u001b[0m\u001b[0m\n\u001b[1;32m    298\u001b[0m             \u001b[0;32melse\u001b[0m\u001b[0;34m:\u001b[0m\u001b[0;34m\u001b[0m\u001b[0;34m\u001b[0m\u001b[0m\n",
      "\u001b[0;31mKeyboardInterrupt\u001b[0m: "
     ]
    }
   ],
   "source": [
    "experiments = []\n",
    "all_results = pd.DataFrame()\n",
    "for co in tdms_param_grid[\"compression_exponent\"]:\n",
    "    for kw in tdms_param_grid[\"kernel_width\"]:\n",
    "        tmp_exp = run_experiment_for_tdms_param(\n",
    "            compression_exponent=co,\n",
    "            kernel_width=kw,\n",
    "            num_trials=10\n",
    "        )\n",
    "        tmp_exp[\"experiment\"].results[\"tdms_compression_exponent\"] = tmp_exp['compression_exponent']\n",
    "        tmp_exp[\"experiment\"].results[\"tdms_kernel_width\"] = tmp_exp['kernel_width']\n",
    "        tmp_exp[\"experiment\"].results[\"tdms_time_delay_index\"] = float(tdms_tags[\"time_delay_index\"])\n",
    "        \n",
    "        all_results = pd.concat([all_results, tmp_exp[\"experiment\"].results])\n",
    "        \n",
    "        experiments.append(tmp_exp)\n"
   ]
  },
  {
   "cell_type": "markdown",
   "metadata": {},
   "source": [
    "### Box plot across experiments"
   ]
  },
  {
   "cell_type": "code",
   "execution_count": null,
   "metadata": {},
   "outputs": [],
   "source": [
    "ax = sns.boxplot(\n",
    "    x=\"tdms_kernel_width\",\n",
    "    y=\"test_score\",\n",
    "    hue=\"tdms_compression_exponent\",\n",
    "    data=all_results[all_results.architecture==\"LogisticRegression\"],\n",
    "    palette=\"Set3\",\n",
    ")"
   ]
  },
  {
   "cell_type": "code",
   "execution_count": null,
   "metadata": {},
   "outputs": [],
   "source": [
    "ax = sns.boxplot(\n",
    "    x=\"tdms_kernel_width\",\n",
    "    y=\"test_score\",\n",
    "    hue=\"tdms_compression_exponent\",\n",
    "    data=all_results[all_results.architecture==\"SVM\"],\n",
    "    palette=\"Set3\",\n",
    ")"
   ]
  },
  {
   "cell_type": "code",
   "execution_count": null,
   "metadata": {},
   "outputs": [],
   "source": [
    "stratified_shuffle_cv_experiment.plot_confusion_matrix(architecture=\"SVM\")"
   ]
  }
 ],
 "metadata": {
  "kernelspec": {
   "display_name": "Python 3",
   "language": "python",
   "name": "python3"
  },
  "language_info": {
   "codemirror_mode": {
    "name": "ipython",
    "version": 3
   },
   "file_extension": ".py",
   "mimetype": "text/x-python",
   "name": "python",
   "nbconvert_exporter": "python",
   "pygments_lexer": "ipython3",
   "version": "3.7.6"
  }
 },
 "nbformat": 4,
 "nbformat_minor": 4
}
