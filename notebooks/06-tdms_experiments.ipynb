{
 "cells": [
  {
   "cell_type": "code",
   "execution_count": 1,
   "metadata": {},
   "outputs": [],
   "source": [
    "from pathlib import Path\n",
    "from typing import Dict\n",
    "\n",
    "import mre\n",
    "import numpy as np\n",
    "import pandas as pd\n",
    "import seaborn as sns\n",
    "\n",
    "from matplotlib import pyplot as plt\n",
    "\n",
    "from sklearn.neighbors import KNeighborsClassifier\n",
    "from sklearn.neural_network import MLPClassifier\n",
    "from sklearn.svm import SVC\n",
    "from sklearn.ensemble import ExtraTreesClassifier, GradientBoostingClassifier, RandomForestClassifier\n",
    "from sklearn.linear_model import LogisticRegression\n",
    "from sklearn.tree import DecisionTreeClassifier\n",
    "\n",
    "%load_ext autoreload\n",
    "%autoreload 2\n"
   ]
  },
  {
   "cell_type": "markdown",
   "metadata": {},
   "source": [
    "## helper functions\n",
    "\n",
    "We only need these once in the experiments, therefore there is no need to add them to `mre`."
   ]
  },
  {
   "cell_type": "code",
   "execution_count": 2,
   "metadata": {},
   "outputs": [],
   "source": [
    "def bhat(mtx1, mtx2):\n",
    "    return -np.log(np.sum(np.sqrt(mtx1 * mtx2)))\n",
    "\n",
    "# # code ported from https://github.com/sankalpg/Library_PythonNew\n",
    "# EPS = np.finfo(np.float).resolution\n",
    "# def sym_kld(mtx1, mtx2):\n",
    "#     mtx1 = mtx1 + EPS\n",
    "#     mtx2 = mtx2 + EPS\n",
    "#     return mtx1 * np.log(mtx1/mtx2) + mtx2 * np.log(mtx2/mtx1)"
   ]
  },
  {
   "cell_type": "code",
   "execution_count": 28,
   "metadata": {},
   "outputs": [],
   "source": [
    "def prepare_dataset(annotations, tdms_files, tdms_tags):\n",
    "    NUM_BINS = int(1200 / float(tdms_tags[\"step_size\"]))\n",
    "    \n",
    "    num_samples = len(annotations.data)\n",
    "    num_features = NUM_BINS * NUM_BINS\n",
    "\n",
    "    # prepare features\n",
    "    X = np.zeros((num_samples, num_features))\n",
    "    mbids = np.array([])\n",
    "    for ii, tf in enumerate(tdms_files):\n",
    "        vals = mre.data.TDMSFeature.from_json(tf).embedding\n",
    "\n",
    "        if vals.size != num_features:\n",
    "            raise ValueError(\n",
    "                \"%s has %d bins instead of %d.\"\n",
    "                % (tf, vals.size, num_features)\n",
    "            )\n",
    "        X[ii, :] = vals.reshape(-1)\n",
    "        mbids = np.append(mbids, Path(tf).stem)\n",
    "\n",
    "    y = annotations.data.set_index(\"mbid\").loc[mbids].makam.values\n",
    "\n",
    "    return mre.data.dataset.Dataset(X, y)\n"
   ]
  },
  {
   "cell_type": "markdown",
   "metadata": {},
   "source": [
    "# Read data"
   ]
  },
  {
   "cell_type": "markdown",
   "metadata": {},
   "source": [
    "## Annotations"
   ]
  },
  {
   "cell_type": "code",
   "execution_count": 5,
   "metadata": {},
   "outputs": [
    {
     "data": {
      "text/html": [
       "<div>\n",
       "<style scoped>\n",
       "    .dataframe tbody tr th:only-of-type {\n",
       "        vertical-align: middle;\n",
       "    }\n",
       "\n",
       "    .dataframe tbody tr th {\n",
       "        vertical-align: top;\n",
       "    }\n",
       "\n",
       "    .dataframe thead th {\n",
       "        text-align: right;\n",
       "    }\n",
       "</style>\n",
       "<table border=\"1\" class=\"dataframe\">\n",
       "  <thead>\n",
       "    <tr style=\"text-align: right;\">\n",
       "      <th></th>\n",
       "      <th>dunya_uid</th>\n",
       "      <th>makam</th>\n",
       "      <th>mb_url</th>\n",
       "      <th>mbid</th>\n",
       "      <th>observations</th>\n",
       "      <th>tonic</th>\n",
       "      <th>verified</th>\n",
       "    </tr>\n",
       "  </thead>\n",
       "  <tbody>\n",
       "    <tr>\n",
       "      <th>0</th>\n",
       "      <td>00f1c6d9-c8ee-45e3-a06f-0882ebcb4e2f</td>\n",
       "      <td>Acemasiran</td>\n",
       "      <td>http://musicbrainz.org/recording/00f1c6d9-c8ee...</td>\n",
       "      <td>00f1c6d9-c8ee-45e3-a06f-0882ebcb4e2f</td>\n",
       "      <td></td>\n",
       "      <td>256.0</td>\n",
       "      <td>False</td>\n",
       "    </tr>\n",
       "    <tr>\n",
       "      <th>1</th>\n",
       "      <td>168f7c75-84fb-4316-99d7-acabadd3b2e6</td>\n",
       "      <td>Acemasiran</td>\n",
       "      <td>http://musicbrainz.org/recording/168f7c75-84fb...</td>\n",
       "      <td>168f7c75-84fb-4316-99d7-acabadd3b2e6</td>\n",
       "      <td></td>\n",
       "      <td>115.2</td>\n",
       "      <td>False</td>\n",
       "    </tr>\n",
       "    <tr>\n",
       "      <th>2</th>\n",
       "      <td>24f549dd-3fa4-4e9b-a356-778fbbfd5cad</td>\n",
       "      <td>Acemasiran</td>\n",
       "      <td>http://musicbrainz.org/recording/24f549dd-3fa4...</td>\n",
       "      <td>24f549dd-3fa4-4e9b-a356-778fbbfd5cad</td>\n",
       "      <td></td>\n",
       "      <td>232.5</td>\n",
       "      <td>False</td>\n",
       "    </tr>\n",
       "    <tr>\n",
       "      <th>3</th>\n",
       "      <td>407bb0b4-f19b-42ab-8c0a-9f1263126951</td>\n",
       "      <td>Acemasiran</td>\n",
       "      <td>http://musicbrainz.org/recording/407bb0b4-f19b...</td>\n",
       "      <td>407bb0b4-f19b-42ab-8c0a-9f1263126951</td>\n",
       "      <td></td>\n",
       "      <td>233.5</td>\n",
       "      <td>False</td>\n",
       "    </tr>\n",
       "    <tr>\n",
       "      <th>4</th>\n",
       "      <td>443819eb-6092-420c-bd86-d946a0ad6555</td>\n",
       "      <td>Acemasiran</td>\n",
       "      <td>http://musicbrainz.org/recording/443819eb-6092...</td>\n",
       "      <td>443819eb-6092-420c-bd86-d946a0ad6555</td>\n",
       "      <td></td>\n",
       "      <td>219.6</td>\n",
       "      <td>False</td>\n",
       "    </tr>\n",
       "  </tbody>\n",
       "</table>\n",
       "</div>"
      ],
      "text/plain": [
       "                              dunya_uid       makam  \\\n",
       "0  00f1c6d9-c8ee-45e3-a06f-0882ebcb4e2f  Acemasiran   \n",
       "1  168f7c75-84fb-4316-99d7-acabadd3b2e6  Acemasiran   \n",
       "2  24f549dd-3fa4-4e9b-a356-778fbbfd5cad  Acemasiran   \n",
       "3  407bb0b4-f19b-42ab-8c0a-9f1263126951  Acemasiran   \n",
       "4  443819eb-6092-420c-bd86-d946a0ad6555  Acemasiran   \n",
       "\n",
       "                                              mb_url  \\\n",
       "0  http://musicbrainz.org/recording/00f1c6d9-c8ee...   \n",
       "1  http://musicbrainz.org/recording/168f7c75-84fb...   \n",
       "2  http://musicbrainz.org/recording/24f549dd-3fa4...   \n",
       "3  http://musicbrainz.org/recording/407bb0b4-f19b...   \n",
       "4  http://musicbrainz.org/recording/443819eb-6092...   \n",
       "\n",
       "                                   mbid observations  tonic  verified  \n",
       "0  00f1c6d9-c8ee-45e3-a06f-0882ebcb4e2f               256.0     False  \n",
       "1  168f7c75-84fb-4316-99d7-acabadd3b2e6               115.2     False  \n",
       "2  24f549dd-3fa4-4e9b-a356-778fbbfd5cad               232.5     False  \n",
       "3  407bb0b4-f19b-42ab-8c0a-9f1263126951               233.5     False  \n",
       "4  443819eb-6092-420c-bd86-d946a0ad6555               219.6     False  "
      ]
     },
     "metadata": {},
     "output_type": "display_data"
    }
   ],
   "source": [
    "annotations = mre.data.Annotation.from_mlflow()\n",
    "display(annotations.head())"
   ]
  },
  {
   "cell_type": "markdown",
   "metadata": {},
   "source": [
    "## Pitch Class Distributions"
   ]
  },
  {
   "cell_type": "code",
   "execution_count": 6,
   "metadata": {},
   "outputs": [],
   "source": [
    "tdms_files = mre.data.TimeDelayedMelodySurface.from_mlflow()\n",
    "tdms_tags = mre.data.TimeDelayedMelodySurface.get_tags()\n"
   ]
  },
  {
   "cell_type": "markdown",
   "metadata": {},
   "source": [
    "# Prepare inputs"
   ]
  },
  {
   "cell_type": "code",
   "execution_count": 29,
   "metadata": {},
   "outputs": [
    {
     "name": "stdout",
     "output_type": "stream",
     "text": [
      "Dataset with 1000 samples and 2304 feature dimensions.\n"
     ]
    }
   ],
   "source": [
    "dataset = prepare_dataset(annotations, tdms_files, tdms_tags)\n",
    "print(dataset)\n"
   ]
  },
  {
   "cell_type": "markdown",
   "metadata": {},
   "source": [
    "# Experimental Setup"
   ]
  },
  {
   "cell_type": "code",
   "execution_count": 53,
   "metadata": {},
   "outputs": [],
   "source": [
    "ARCHITECTURES = [\n",
    "    mre.experimentation.Architecture(  # from yesiler et al\n",
    "        name=\"MultiLayerPerceptron\",\n",
    "        estimator=MLPClassifier(\n",
    "            momentum=0.5,\n",
    "            max_iter=10000,\n",
    "            learning_rate=\"adaptive\",\n",
    "            learning_rate_init=0.001),\n",
    "        param_grid={\n",
    "            \"hidden_layer_sizes\": [50, 100],\n",
    "            \"alpha\": [0.01, 0.001]\n",
    "        }\n",
    "    ),\n",
    "    mre.experimentation.Architecture(  # from demirel et al\n",
    "        name=\"SVM\",\n",
    "        estimator=SVC(kernel=\"rbf\"),\n",
    "        param_grid={\n",
    "            \"C\": [10, 100, 1000],  # .001, .01, .1, 1 give worse results, omitted\n",
    "            \"gamma\": [.01, .1, 1, 10]  # .001, .01 give worse results, omitted\n",
    "        }\n",
    "    ),\n",
    "    mre.experimentation.Architecture(  # from karakurt et al (morty)\n",
    "        name=\"KNN\",\n",
    "        estimator=KNeighborsClassifier(),\n",
    "        param_grid={\n",
    "            \"n_neighbors\": [1, 3],\n",
    "            \"weights\": [\"distance\"],  # \"uniform\" give worse results, omitted \n",
    "            \"metric\": [bhat, \"manhattan\"]  # \"euclidean\" gives worse results, omitted\n",
    "        }\n",
    "    ),\n",
    "    mre.experimentation.Architecture(\n",
    "        name=\"LogisticRegression\",\n",
    "        estimator=LogisticRegression(max_iter=100, solver=\"saga\"),\n",
    "        param_grid={\n",
    "            \"penalty\": [\"l2\", 'l1'],\n",
    "            \"C\": [0.1, 1, 10]\n",
    "        }\n",
    "    ),\n",
    "#     mre.experimentation.Architecture(  # overfits heavily, omitted\n",
    "#         name=\"RandomForest\",\n",
    "#         estimator=RandomForestClassifier(),\n",
    "#         param_grid={\n",
    "#             \"n_estimators\": [5, 10, 25, 50],\n",
    "#             \"criterion\": [\"gini\", \"entropy\"],\n",
    "#             \"max_depth\": [5, 10, 25, 50]\n",
    "#         }\n",
    "#     ),\n",
    "#     mre.experimentation.Architecture(  # bad overall; commented\n",
    "#         name=\"DecisionTree\",\n",
    "#         estimator=DecisionTreeClassifier(),\n",
    "#         param_grid={\n",
    "#             \"criterion\": [\"gini\", \"entropy\"],\n",
    "#             \"max_depth\": [5, 10, 25, 50]\n",
    "#         }\n",
    "#     ),\n",
    "]\n"
   ]
  },
  {
   "cell_type": "markdown",
   "metadata": {},
   "source": [
    "## 10-times shuffle split"
   ]
  },
  {
   "cell_type": "code",
   "execution_count": 54,
   "metadata": {},
   "outputs": [
    {
     "name": "stdout",
     "output_type": "stream",
     "text": [
      "Trial 0\n",
      "   SVM, Test acc: 0.40∓0.02, Train acc: 0.44∓0.02, Max fit time: 22.2 sec, Best Params: {'C': 100, 'gamma': 0.1}\n"
     ]
    },
    {
     "name": "stderr",
     "output_type": "stream",
     "text": [
      "/opt/conda/lib/python3.7/site-packages/joblib/externals/loky/process_executor.py:706: UserWarning: A worker stopped while some jobs were given to the executor. This can be caused by a too short worker timeout or by a memory leak.\n",
      "  \"timeout or by a memory leak.\", UserWarning\n"
     ]
    },
    {
     "name": "stdout",
     "output_type": "stream",
     "text": [
      "   KNN, Test acc: 0.61∓0.03, Train acc: 1.00∓0.00, Max fit time: 10.8 sec, Best Params: {'metric': 'manhattan', 'n_neighbors': 3, 'weights': 'distance'}\n",
      "Trial 1\n"
     ]
    },
    {
     "name": "stderr",
     "output_type": "stream",
     "text": [
      "/opt/conda/lib/python3.7/site-packages/joblib/externals/loky/process_executor.py:706: UserWarning: A worker stopped while some jobs were given to the executor. This can be caused by a too short worker timeout or by a memory leak.\n",
      "  \"timeout or by a memory leak.\", UserWarning\n"
     ]
    },
    {
     "name": "stdout",
     "output_type": "stream",
     "text": [
      "   SVM, Test acc: 0.41∓0.03, Train acc: 0.44∓0.02, Max fit time: 19.5 sec, Best Params: {'C': 100, 'gamma': 0.1}\n"
     ]
    },
    {
     "name": "stderr",
     "output_type": "stream",
     "text": [
      "/opt/conda/lib/python3.7/site-packages/joblib/externals/loky/process_executor.py:706: UserWarning: A worker stopped while some jobs were given to the executor. This can be caused by a too short worker timeout or by a memory leak.\n",
      "  \"timeout or by a memory leak.\", UserWarning\n"
     ]
    },
    {
     "name": "stdout",
     "output_type": "stream",
     "text": [
      "   KNN, Test acc: 0.62∓0.02, Train acc: 1.00∓0.00, Max fit time: 12.1 sec, Best Params: {'metric': 'manhattan', 'n_neighbors': 3, 'weights': 'distance'}\n",
      "Trial 2\n"
     ]
    },
    {
     "name": "stderr",
     "output_type": "stream",
     "text": [
      "/opt/conda/lib/python3.7/site-packages/joblib/externals/loky/process_executor.py:706: UserWarning: A worker stopped while some jobs were given to the executor. This can be caused by a too short worker timeout or by a memory leak.\n",
      "  \"timeout or by a memory leak.\", UserWarning\n"
     ]
    },
    {
     "name": "stdout",
     "output_type": "stream",
     "text": [
      "   SVM, Test acc: 0.40∓0.03, Train acc: 0.44∓0.01, Max fit time: 19.3 sec, Best Params: {'C': 100, 'gamma': 0.1}\n"
     ]
    },
    {
     "name": "stderr",
     "output_type": "stream",
     "text": [
      "/opt/conda/lib/python3.7/site-packages/joblib/externals/loky/process_executor.py:706: UserWarning: A worker stopped while some jobs were given to the executor. This can be caused by a too short worker timeout or by a memory leak.\n",
      "  \"timeout or by a memory leak.\", UserWarning\n"
     ]
    },
    {
     "name": "stdout",
     "output_type": "stream",
     "text": [
      "   KNN, Test acc: 0.60∓0.03, Train acc: 1.00∓0.00, Max fit time: 10.4 sec, Best Params: {'metric': 'manhattan', 'n_neighbors': 3, 'weights': 'distance'}\n",
      "Trial 3\n"
     ]
    },
    {
     "name": "stderr",
     "output_type": "stream",
     "text": [
      "/opt/conda/lib/python3.7/site-packages/joblib/externals/loky/process_executor.py:706: UserWarning: A worker stopped while some jobs were given to the executor. This can be caused by a too short worker timeout or by a memory leak.\n",
      "  \"timeout or by a memory leak.\", UserWarning\n"
     ]
    },
    {
     "name": "stdout",
     "output_type": "stream",
     "text": [
      "   SVM, Test acc: 0.39∓0.04, Train acc: 0.43∓0.02, Max fit time: 20.2 sec, Best Params: {'C': 100, 'gamma': 0.1}\n"
     ]
    },
    {
     "name": "stderr",
     "output_type": "stream",
     "text": [
      "/opt/conda/lib/python3.7/site-packages/joblib/externals/loky/process_executor.py:706: UserWarning: A worker stopped while some jobs were given to the executor. This can be caused by a too short worker timeout or by a memory leak.\n",
      "  \"timeout or by a memory leak.\", UserWarning\n"
     ]
    },
    {
     "name": "stdout",
     "output_type": "stream",
     "text": [
      "   KNN, Test acc: 0.60∓0.02, Train acc: 1.00∓0.00, Max fit time: 10.3 sec, Best Params: {'metric': 'manhattan', 'n_neighbors': 3, 'weights': 'distance'}\n",
      "Trial 4\n"
     ]
    },
    {
     "name": "stderr",
     "output_type": "stream",
     "text": [
      "/opt/conda/lib/python3.7/site-packages/joblib/externals/loky/process_executor.py:706: UserWarning: A worker stopped while some jobs were given to the executor. This can be caused by a too short worker timeout or by a memory leak.\n",
      "  \"timeout or by a memory leak.\", UserWarning\n"
     ]
    },
    {
     "name": "stdout",
     "output_type": "stream",
     "text": [
      "   SVM, Test acc: 0.40∓0.03, Train acc: 0.43∓0.02, Max fit time: 19.9 sec, Best Params: {'C': 100, 'gamma': 0.1}\n"
     ]
    },
    {
     "name": "stderr",
     "output_type": "stream",
     "text": [
      "/opt/conda/lib/python3.7/site-packages/joblib/externals/loky/process_executor.py:706: UserWarning: A worker stopped while some jobs were given to the executor. This can be caused by a too short worker timeout or by a memory leak.\n",
      "  \"timeout or by a memory leak.\", UserWarning\n"
     ]
    },
    {
     "name": "stdout",
     "output_type": "stream",
     "text": [
      "   KNN, Test acc: 0.61∓0.03, Train acc: 1.00∓0.00, Max fit time: 11.0 sec, Best Params: {'metric': 'manhattan', 'n_neighbors': 3, 'weights': 'distance'}\n",
      "Trial 5\n"
     ]
    },
    {
     "name": "stderr",
     "output_type": "stream",
     "text": [
      "/opt/conda/lib/python3.7/site-packages/joblib/externals/loky/process_executor.py:706: UserWarning: A worker stopped while some jobs were given to the executor. This can be caused by a too short worker timeout or by a memory leak.\n",
      "  \"timeout or by a memory leak.\", UserWarning\n"
     ]
    },
    {
     "name": "stdout",
     "output_type": "stream",
     "text": [
      "   SVM, Test acc: 0.40∓0.03, Train acc: 0.44∓0.02, Max fit time: 19.4 sec, Best Params: {'C': 100, 'gamma': 0.1}\n"
     ]
    },
    {
     "name": "stderr",
     "output_type": "stream",
     "text": [
      "/opt/conda/lib/python3.7/site-packages/joblib/externals/loky/process_executor.py:706: UserWarning: A worker stopped while some jobs were given to the executor. This can be caused by a too short worker timeout or by a memory leak.\n",
      "  \"timeout or by a memory leak.\", UserWarning\n"
     ]
    },
    {
     "name": "stdout",
     "output_type": "stream",
     "text": [
      "   KNN, Test acc: 0.62∓0.03, Train acc: 1.00∓0.00, Max fit time: 10.5 sec, Best Params: {'metric': 'manhattan', 'n_neighbors': 3, 'weights': 'distance'}\n",
      "Trial 6\n"
     ]
    },
    {
     "name": "stderr",
     "output_type": "stream",
     "text": [
      "/opt/conda/lib/python3.7/site-packages/joblib/externals/loky/process_executor.py:706: UserWarning: A worker stopped while some jobs were given to the executor. This can be caused by a too short worker timeout or by a memory leak.\n",
      "  \"timeout or by a memory leak.\", UserWarning\n"
     ]
    },
    {
     "name": "stdout",
     "output_type": "stream",
     "text": [
      "   SVM, Test acc: 0.41∓0.04, Train acc: 0.45∓0.02, Max fit time: 20.0 sec, Best Params: {'C': 100, 'gamma': 0.1}\n"
     ]
    },
    {
     "name": "stderr",
     "output_type": "stream",
     "text": [
      "/opt/conda/lib/python3.7/site-packages/joblib/externals/loky/process_executor.py:706: UserWarning: A worker stopped while some jobs were given to the executor. This can be caused by a too short worker timeout or by a memory leak.\n",
      "  \"timeout or by a memory leak.\", UserWarning\n"
     ]
    },
    {
     "name": "stdout",
     "output_type": "stream",
     "text": [
      "   KNN, Test acc: 0.63∓0.02, Train acc: 1.00∓0.00, Max fit time: 10.6 sec, Best Params: {'metric': 'manhattan', 'n_neighbors': 3, 'weights': 'distance'}\n",
      "Trial 7\n"
     ]
    },
    {
     "name": "stderr",
     "output_type": "stream",
     "text": [
      "/opt/conda/lib/python3.7/site-packages/joblib/externals/loky/process_executor.py:706: UserWarning: A worker stopped while some jobs were given to the executor. This can be caused by a too short worker timeout or by a memory leak.\n",
      "  \"timeout or by a memory leak.\", UserWarning\n"
     ]
    },
    {
     "name": "stdout",
     "output_type": "stream",
     "text": [
      "   SVM, Test acc: 0.40∓0.04, Train acc: 0.45∓0.03, Max fit time: 20.9 sec, Best Params: {'C': 100, 'gamma': 0.1}\n"
     ]
    },
    {
     "name": "stderr",
     "output_type": "stream",
     "text": [
      "/opt/conda/lib/python3.7/site-packages/joblib/externals/loky/process_executor.py:706: UserWarning: A worker stopped while some jobs were given to the executor. This can be caused by a too short worker timeout or by a memory leak.\n",
      "  \"timeout or by a memory leak.\", UserWarning\n"
     ]
    },
    {
     "name": "stdout",
     "output_type": "stream",
     "text": [
      "   KNN, Test acc: 0.61∓0.02, Train acc: 1.00∓0.00, Max fit time: 11.3 sec, Best Params: {'metric': 'manhattan', 'n_neighbors': 3, 'weights': 'distance'}\n",
      "Trial 8\n"
     ]
    },
    {
     "name": "stderr",
     "output_type": "stream",
     "text": [
      "/opt/conda/lib/python3.7/site-packages/joblib/externals/loky/process_executor.py:706: UserWarning: A worker stopped while some jobs were given to the executor. This can be caused by a too short worker timeout or by a memory leak.\n",
      "  \"timeout or by a memory leak.\", UserWarning\n"
     ]
    },
    {
     "name": "stdout",
     "output_type": "stream",
     "text": [
      "   SVM, Test acc: 0.40∓0.03, Train acc: 0.45∓0.02, Max fit time: 19.6 sec, Best Params: {'C': 100, 'gamma': 0.1}\n"
     ]
    },
    {
     "name": "stderr",
     "output_type": "stream",
     "text": [
      "/opt/conda/lib/python3.7/site-packages/joblib/externals/loky/process_executor.py:706: UserWarning: A worker stopped while some jobs were given to the executor. This can be caused by a too short worker timeout or by a memory leak.\n",
      "  \"timeout or by a memory leak.\", UserWarning\n"
     ]
    },
    {
     "name": "stdout",
     "output_type": "stream",
     "text": [
      "   KNN, Test acc: 0.59∓0.04, Train acc: 1.00∓0.00, Max fit time: 10.4 sec, Best Params: {'metric': 'manhattan', 'n_neighbors': 3, 'weights': 'distance'}\n",
      "Trial 9\n"
     ]
    },
    {
     "name": "stderr",
     "output_type": "stream",
     "text": [
      "/opt/conda/lib/python3.7/site-packages/joblib/externals/loky/process_executor.py:706: UserWarning: A worker stopped while some jobs were given to the executor. This can be caused by a too short worker timeout or by a memory leak.\n",
      "  \"timeout or by a memory leak.\", UserWarning\n"
     ]
    },
    {
     "name": "stdout",
     "output_type": "stream",
     "text": [
      "   SVM, Test acc: 0.41∓0.03, Train acc: 0.44∓0.02, Max fit time: 19.4 sec, Best Params: {'C': 100, 'gamma': 0.1}\n"
     ]
    },
    {
     "name": "stderr",
     "output_type": "stream",
     "text": [
      "/opt/conda/lib/python3.7/site-packages/joblib/externals/loky/process_executor.py:706: UserWarning: A worker stopped while some jobs were given to the executor. This can be caused by a too short worker timeout or by a memory leak.\n",
      "  \"timeout or by a memory leak.\", UserWarning\n"
     ]
    },
    {
     "name": "stdout",
     "output_type": "stream",
     "text": [
      "   KNN, Test acc: 0.61∓0.03, Train acc: 1.00∓0.00, Max fit time: 10.7 sec, Best Params: {'metric': 'manhattan', 'n_neighbors': 3, 'weights': 'distance'}\n"
     ]
    },
    {
     "data": {
      "text/html": [
       "<div>\n",
       "<style scoped>\n",
       "    .dataframe tbody tr th:only-of-type {\n",
       "        vertical-align: middle;\n",
       "    }\n",
       "\n",
       "    .dataframe tbody tr th {\n",
       "        vertical-align: top;\n",
       "    }\n",
       "\n",
       "    .dataframe thead th {\n",
       "        text-align: right;\n",
       "    }\n",
       "</style>\n",
       "<table border=\"1\" class=\"dataframe\">\n",
       "  <thead>\n",
       "    <tr style=\"text-align: right;\">\n",
       "      <th></th>\n",
       "      <th>architecture</th>\n",
       "      <th>best_params_</th>\n",
       "      <th>cv_results_</th>\n",
       "      <th>fit_time</th>\n",
       "      <th>score_time</th>\n",
       "      <th>split_id</th>\n",
       "      <th>test_score</th>\n",
       "      <th>train_score</th>\n",
       "      <th>trial_id</th>\n",
       "    </tr>\n",
       "  </thead>\n",
       "  <tbody>\n",
       "    <tr>\n",
       "      <th>0</th>\n",
       "      <td>SVM</td>\n",
       "      <td>{'C': 100, 'gamma': 0.1}</td>\n",
       "      <td>{'mean_fit_time': [4.734921813011169], 'std_fi...</td>\n",
       "      <td>22.088695</td>\n",
       "      <td>0.513417</td>\n",
       "      <td>0</td>\n",
       "      <td>0.38</td>\n",
       "      <td>0.44250</td>\n",
       "      <td>0</td>\n",
       "    </tr>\n",
       "    <tr>\n",
       "      <th>1</th>\n",
       "      <td>SVM</td>\n",
       "      <td>{'C': 100, 'gamma': 0.1}</td>\n",
       "      <td>{'mean_fit_time': [4.772544503211975], 'std_fi...</td>\n",
       "      <td>21.989470</td>\n",
       "      <td>0.525120</td>\n",
       "      <td>1</td>\n",
       "      <td>0.37</td>\n",
       "      <td>0.43500</td>\n",
       "      <td>0</td>\n",
       "    </tr>\n",
       "    <tr>\n",
       "      <th>2</th>\n",
       "      <td>SVM</td>\n",
       "      <td>{'C': 100, 'gamma': 0.1}</td>\n",
       "      <td>{'mean_fit_time': [4.796454906463623], 'std_fi...</td>\n",
       "      <td>22.154475</td>\n",
       "      <td>0.518384</td>\n",
       "      <td>2</td>\n",
       "      <td>0.42</td>\n",
       "      <td>0.40750</td>\n",
       "      <td>0</td>\n",
       "    </tr>\n",
       "    <tr>\n",
       "      <th>3</th>\n",
       "      <td>SVM</td>\n",
       "      <td>{'C': 100, 'gamma': 0.1}</td>\n",
       "      <td>{'mean_fit_time': [4.80902669429779], 'std_fit...</td>\n",
       "      <td>22.200562</td>\n",
       "      <td>0.547261</td>\n",
       "      <td>3</td>\n",
       "      <td>0.41</td>\n",
       "      <td>0.43125</td>\n",
       "      <td>0</td>\n",
       "    </tr>\n",
       "    <tr>\n",
       "      <th>4</th>\n",
       "      <td>SVM</td>\n",
       "      <td>{'C': 100, 'gamma': 0.1}</td>\n",
       "      <td>{'mean_fit_time': [4.787168359756469], 'std_fi...</td>\n",
       "      <td>22.076001</td>\n",
       "      <td>0.550554</td>\n",
       "      <td>4</td>\n",
       "      <td>0.43</td>\n",
       "      <td>0.45750</td>\n",
       "      <td>0</td>\n",
       "    </tr>\n",
       "  </tbody>\n",
       "</table>\n",
       "</div>"
      ],
      "text/plain": [
       "  architecture              best_params_  \\\n",
       "0          SVM  {'C': 100, 'gamma': 0.1}   \n",
       "1          SVM  {'C': 100, 'gamma': 0.1}   \n",
       "2          SVM  {'C': 100, 'gamma': 0.1}   \n",
       "3          SVM  {'C': 100, 'gamma': 0.1}   \n",
       "4          SVM  {'C': 100, 'gamma': 0.1}   \n",
       "\n",
       "                                         cv_results_   fit_time  score_time  \\\n",
       "0  {'mean_fit_time': [4.734921813011169], 'std_fi...  22.088695    0.513417   \n",
       "1  {'mean_fit_time': [4.772544503211975], 'std_fi...  21.989470    0.525120   \n",
       "2  {'mean_fit_time': [4.796454906463623], 'std_fi...  22.154475    0.518384   \n",
       "3  {'mean_fit_time': [4.80902669429779], 'std_fit...  22.200562    0.547261   \n",
       "4  {'mean_fit_time': [4.787168359756469], 'std_fi...  22.076001    0.550554   \n",
       "\n",
       "   split_id  test_score  train_score  trial_id  \n",
       "0         0        0.38      0.44250         0  \n",
       "1         1        0.37      0.43500         0  \n",
       "2         2        0.42      0.40750         0  \n",
       "3         3        0.41      0.43125         0  \n",
       "4         4        0.43      0.45750         0  "
      ]
     },
     "execution_count": 54,
     "metadata": {},
     "output_type": "execute_result"
    }
   ],
   "source": [
    "stratified_shuffle_cv_experiment = mre.experimentation.StratifiedShuffleCV(\n",
    "    num_splits=10, num_trials=10\n",
    ")\n",
    "\n",
    "scores = stratified_shuffle_cv_experiment.run(dataset, ARCHITECTURES)\n",
    "stratified_shuffle_cv_experiment.results.head()"
   ]
  },
  {
   "cell_type": "code",
   "execution_count": 55,
   "metadata": {},
   "outputs": [
    {
     "data": {
      "image/png": "[encoded data removed]",
      "text/plain": [
       "<Figure size 432x288 with 1 Axes>"
      ]
     },
     "metadata": {
      "needs_background": "light"
     },
     "output_type": "display_data"
    }
   ],
   "source": [
    "_ = stratified_shuffle_cv_experiment.boxplot_best_models_by_trial()"
   ]
  },
  {
   "cell_type": "code",
   "execution_count": 56,
   "metadata": {},
   "outputs": [
    {
     "data": {
      "image/png": "[encoded data removed]",
      "text/plain": [
       "<Figure size 432x288 with 1 Axes>"
      ]
     },
     "metadata": {
      "needs_background": "light"
     },
     "output_type": "display_data"
    }
   ],
   "source": [
    "_ = stratified_shuffle_cv_experiment.boxplot_best_models()"
   ]
  },
  {
   "cell_type": "markdown",
   "metadata": {},
   "source": [
    "# Evaluate different shallow architectures under different experimental setups"
   ]
  },
  {
   "cell_type": "code",
   "execution_count": null,
   "metadata": {},
   "outputs": [],
   "source": []
  },
  {
   "cell_type": "code",
   "execution_count": null,
   "metadata": {},
   "outputs": [],
   "source": []
  }
 ],
 "metadata": {
  "kernelspec": {
   "display_name": "Python 3",
   "language": "python",
   "name": "python3"
  },
  "language_info": {
   "codemirror_mode": {
    "name": "ipython",
    "version": 3
   },
   "file_extension": ".py",
   "mimetype": "text/x-python",
   "name": "python",
   "nbconvert_exporter": "python",
   "pygments_lexer": "ipython3",
   "version": "3.7.6"
  }
 },
 "nbformat": 4,
 "nbformat_minor": 4
}
