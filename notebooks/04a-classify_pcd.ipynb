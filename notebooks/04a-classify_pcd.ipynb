{
 "cells": [
  {
   "cell_type": "code",
   "execution_count": 1,
   "metadata": {},
   "outputs": [],
   "source": [
    "from pathlib import Path\n",
    "import mre\n",
    "\n",
    "from matplotlib import pyplot as plt\n",
    "import numpy as np\n",
    "\n",
    "from tomato.audio.pitchdistribution import PitchDistribution\n",
    "\n",
    "from sklearn.metrics import accuracy_score, confusion_matrix\n",
    "from sklearn.model_selection import GridSearchCV, StratifiedKFold, train_test_split\n",
    "from sklearn.neighbors import KNeighborsClassifier\n",
    "from sklearn.pipeline import Pipeline\n",
    "from sklearn.svm import SVC\n",
    "from sklearn.ensemble import RandomForestClassifier\n"
   ]
  },
  {
   "cell_type": "markdown",
   "metadata": {},
   "source": [
    "# Logger"
   ]
  },
  {
   "cell_type": "code",
   "execution_count": 2,
   "metadata": {},
   "outputs": [
    {
     "name": "stderr",
     "output_type": "stream",
     "text": [
      "INFO:__main__:Created logger\n"
     ]
    }
   ],
   "source": [
    "logger = mre.logging.get_jupyter_logger(__name__)\n",
    "logger.info(\"Created logger\")"
   ]
  },
  {
   "cell_type": "markdown",
   "metadata": {},
   "source": [
    "# Load annotations"
   ]
  },
  {
   "cell_type": "code",
   "execution_count": 3,
   "metadata": {},
   "outputs": [
    {
     "data": {
      "text/html": [
       "<div>\n",
       "<style scoped>\n",
       "    .dataframe tbody tr th:only-of-type {\n",
       "        vertical-align: middle;\n",
       "    }\n",
       "\n",
       "    .dataframe tbody tr th {\n",
       "        vertical-align: top;\n",
       "    }\n",
       "\n",
       "    .dataframe thead th {\n",
       "        text-align: right;\n",
       "    }\n",
       "</style>\n",
       "<table border=\"1\" class=\"dataframe\">\n",
       "  <thead>\n",
       "    <tr style=\"text-align: right;\">\n",
       "      <th></th>\n",
       "      <th>mbid</th>\n",
       "      <th>verified</th>\n",
       "      <th>tonic</th>\n",
       "      <th>makam</th>\n",
       "      <th>observations</th>\n",
       "      <th>dunya_uid</th>\n",
       "      <th>mb_url</th>\n",
       "    </tr>\n",
       "  </thead>\n",
       "  <tbody>\n",
       "    <tr>\n",
       "      <th>0</th>\n",
       "      <td>00f1c6d9-c8ee-45e3-a06f-0882ebcb4e2f</td>\n",
       "      <td>False</td>\n",
       "      <td>256.0</td>\n",
       "      <td>Acemasiran</td>\n",
       "      <td></td>\n",
       "      <td>00f1c6d9-c8ee-45e3-a06f-0882ebcb4e2f</td>\n",
       "      <td>http://musicbrainz.org/recording/00f1c6d9-c8ee...</td>\n",
       "    </tr>\n",
       "    <tr>\n",
       "      <th>1</th>\n",
       "      <td>168f7c75-84fb-4316-99d7-acabadd3b2e6</td>\n",
       "      <td>False</td>\n",
       "      <td>115.2</td>\n",
       "      <td>Acemasiran</td>\n",
       "      <td></td>\n",
       "      <td>168f7c75-84fb-4316-99d7-acabadd3b2e6</td>\n",
       "      <td>http://musicbrainz.org/recording/168f7c75-84fb...</td>\n",
       "    </tr>\n",
       "    <tr>\n",
       "      <th>2</th>\n",
       "      <td>24f549dd-3fa4-4e9b-a356-778fbbfd5cad</td>\n",
       "      <td>False</td>\n",
       "      <td>232.5</td>\n",
       "      <td>Acemasiran</td>\n",
       "      <td></td>\n",
       "      <td>24f549dd-3fa4-4e9b-a356-778fbbfd5cad</td>\n",
       "      <td>http://musicbrainz.org/recording/24f549dd-3fa4...</td>\n",
       "    </tr>\n",
       "    <tr>\n",
       "      <th>3</th>\n",
       "      <td>407bb0b4-f19b-42ab-8c0a-9f1263126951</td>\n",
       "      <td>False</td>\n",
       "      <td>233.5</td>\n",
       "      <td>Acemasiran</td>\n",
       "      <td></td>\n",
       "      <td>407bb0b4-f19b-42ab-8c0a-9f1263126951</td>\n",
       "      <td>http://musicbrainz.org/recording/407bb0b4-f19b...</td>\n",
       "    </tr>\n",
       "    <tr>\n",
       "      <th>4</th>\n",
       "      <td>443819eb-6092-420c-bd86-d946a0ad6555</td>\n",
       "      <td>False</td>\n",
       "      <td>219.6</td>\n",
       "      <td>Acemasiran</td>\n",
       "      <td></td>\n",
       "      <td>443819eb-6092-420c-bd86-d946a0ad6555</td>\n",
       "      <td>http://musicbrainz.org/recording/443819eb-6092...</td>\n",
       "    </tr>\n",
       "  </tbody>\n",
       "</table>\n",
       "</div>"
      ],
      "text/plain": [
       "                                   mbid  verified  tonic       makam  \\\n",
       "0  00f1c6d9-c8ee-45e3-a06f-0882ebcb4e2f     False  256.0  Acemasiran   \n",
       "1  168f7c75-84fb-4316-99d7-acabadd3b2e6     False  115.2  Acemasiran   \n",
       "2  24f549dd-3fa4-4e9b-a356-778fbbfd5cad     False  232.5  Acemasiran   \n",
       "3  407bb0b4-f19b-42ab-8c0a-9f1263126951     False  233.5  Acemasiran   \n",
       "4  443819eb-6092-420c-bd86-d946a0ad6555     False  219.6  Acemasiran   \n",
       "\n",
       "  observations                             dunya_uid  \\\n",
       "0               00f1c6d9-c8ee-45e3-a06f-0882ebcb4e2f   \n",
       "1               168f7c75-84fb-4316-99d7-acabadd3b2e6   \n",
       "2               24f549dd-3fa4-4e9b-a356-778fbbfd5cad   \n",
       "3               407bb0b4-f19b-42ab-8c0a-9f1263126951   \n",
       "4               443819eb-6092-420c-bd86-d946a0ad6555   \n",
       "\n",
       "                                              mb_url  \n",
       "0  http://musicbrainz.org/recording/00f1c6d9-c8ee...  \n",
       "1  http://musicbrainz.org/recording/168f7c75-84fb...  \n",
       "2  http://musicbrainz.org/recording/24f549dd-3fa4...  \n",
       "3  http://musicbrainz.org/recording/407bb0b4-f19b...  \n",
       "4  http://musicbrainz.org/recording/443819eb-6092...  "
      ]
     },
     "execution_count": 3,
     "metadata": {},
     "output_type": "execute_result"
    }
   ],
   "source": [
    "annotations = mre.data.Annotation.from_mlflow()\n",
    "annotations.head()\n"
   ]
  },
  {
   "cell_type": "markdown",
   "metadata": {},
   "source": [
    "# Load pitch class distributions"
   ]
  },
  {
   "cell_type": "code",
   "execution_count": 4,
   "metadata": {},
   "outputs": [
    {
     "data": {
      "text/plain": [
       "['/data/artifacts/1/c9e50e9a483940209b2be73f735ead63/artifacts/006536f8-bf54-4cc0-a510-5a52456d09f8.json',\n",
       " '/data/artifacts/1/c9e50e9a483940209b2be73f735ead63/artifacts/009309d2-c260-4808-8f1d-44a5ddc6bc5f.json',\n",
       " '/data/artifacts/1/c9e50e9a483940209b2be73f735ead63/artifacts/00a48b5f-a35a-436c-a7a0-4438130f4abf.json',\n",
       " '/data/artifacts/1/c9e50e9a483940209b2be73f735ead63/artifacts/00ab81ec-07f8-47ba-9610-47ad56393eb9.json',\n",
       " '/data/artifacts/1/c9e50e9a483940209b2be73f735ead63/artifacts/00be9a4b-b85f-4601-a6d5-9ce1f5b3f91c.json']"
      ]
     },
     "execution_count": 4,
     "metadata": {},
     "output_type": "execute_result"
    }
   ],
   "source": [
    "pcd_paths = mre.data.PitchClassDistribution.from_mlflow()\n",
    "pcd_paths[:5]"
   ]
  },
  {
   "cell_type": "markdown",
   "metadata": {},
   "source": [
    "# Parse features and classes"
   ]
  },
  {
   "cell_type": "code",
   "execution_count": 5,
   "metadata": {},
   "outputs": [],
   "source": [
    "# dummy read first feature to get the dimensions\n",
    "dim2 = len(PitchDistribution.from_json(pcd_paths[0]).vals)\n",
    "\n",
    "# read features and corresponding id\n",
    "X = np.zeros((len(pcd_paths), dim2))\n",
    "mbids = []\n",
    "for ii, pf in enumerate(pcd_paths):\n",
    "    X[ii, :] = PitchDistribution.from_json(pcd_paths[ii]).vals\n",
    "    mbids.append(Path(pcd_paths[ii]).stem)\n",
    "\n",
    "# get the class sorted for the id\n",
    "y = annotations.data.set_index(\"mbid\").loc[mbids].makam.values"
   ]
  },
  {
   "cell_type": "markdown",
   "metadata": {},
   "source": [
    "# Try different shallow classifiers"
   ]
  },
  {
   "cell_type": "code",
   "execution_count": 6,
   "metadata": {},
   "outputs": [
    {
     "name": "stderr",
     "output_type": "stream",
     "text": [
      "INFO:__main__:1: Validation Accuracy = 0.75, Test Accuracy = 0.69, <class 'sklearn.ensemble._forest.RandomForestClassifier'>\n",
      "INFO:__main__:2: Validation Accuracy = 0.74, Test Accuracy = 0.70, <class 'sklearn.ensemble._forest.RandomForestClassifier'>\n",
      "INFO:__main__:3: Validation Accuracy = 0.75, Test Accuracy = 0.74, <class 'sklearn.ensemble._forest.RandomForestClassifier'>\n",
      "INFO:__main__:4: Validation Accuracy = 0.73, Test Accuracy = 0.74, <class 'sklearn.ensemble._forest.RandomForestClassifier'>\n",
      "INFO:__main__:5: Validation Accuracy = 0.74, Test Accuracy = 0.68, <class 'sklearn.ensemble._forest.RandomForestClassifier'>\n",
      "INFO:__main__:6: Validation Accuracy = 0.75, Test Accuracy = 0.72, <class 'sklearn.ensemble._forest.RandomForestClassifier'>\n",
      "INFO:__main__:7: Validation Accuracy = 0.74, Test Accuracy = 0.75, <class 'sklearn.ensemble._forest.RandomForestClassifier'>\n",
      "INFO:__main__:8: Validation Accuracy = 0.75, Test Accuracy = 0.68, <class 'sklearn.ensemble._forest.RandomForestClassifier'>\n",
      "INFO:__main__:9: Validation Accuracy = 0.73, Test Accuracy = 0.81, <class 'sklearn.ensemble._forest.RandomForestClassifier'>\n",
      "INFO:__main__:10: Validation Accuracy = 0.74, Test Accuracy = 0.73, <class 'sklearn.ensemble._forest.RandomForestClassifier'>\n"
     ]
    }
   ],
   "source": [
    "n_repetitions = 10\n",
    "n_cv_folds = 10\n",
    "random_state = 1916  # death of Tanburi Cemil Bey for reproducibility\n",
    "def bhat(vals_1, vals_2):\n",
    "    return -np.log(np.sum(np.sqrt(vals_1 * vals_2)))\n",
    "\n",
    "pipe = Pipeline([('classifier', RandomForestClassifier())])  # assign dummy classifier\n",
    "search_space = [{'classifier': [SVC()],\n",
    "                 'classifier__kernel': ['rbf', 'linear'],\n",
    "                 'classifier__gamma': [0.001, 0.01, 0.1, 1],\n",
    "                 'classifier__C': [0.001, 0.01, 0.1, 1, 10, 100, 1000]},\n",
    "                {'classifier': [KNeighborsClassifier()],\n",
    "                 'classifier__n_neighbors': [1, 3, 5, 10],\n",
    "                 'classifier__weights': [\"uniform\", \"distance\"],\n",
    "                 'classifier__metric': [\"euclidean\", \"manhattan\", \"chebyshev\", bhat]},\n",
    "                {'classifier': [RandomForestClassifier()],\n",
    "                 'classifier__n_estimators': [10, 100, 200, 500, 1000],\n",
    "                 'classifier__max_features': ['auto', 'log2'],\n",
    "                 'classifier__criterion' :['gini', 'entropy']}]\n",
    "\n",
    "best_scores = []\n",
    "best_test_scores = []\n",
    "best_estimators = []\n",
    "estimators = []\n",
    "for rr in range(random_state, random_state + 10):\n",
    "    X_train, X_test, y_train, y_test = train_test_split(\n",
    "        X, y, test_size=0.1, stratify=y, random_state=rr)\n",
    "\n",
    "    clf = GridSearchCV(\n",
    "        pipe,\n",
    "        search_space,\n",
    "        cv=n_cv_folds,\n",
    "        scoring='accuracy',\n",
    "        n_jobs=-1,\n",
    "        return_train_score=True)\n",
    "    clf.fit(X_train, y_train)    \n",
    "    \n",
    "    # store relevant info\n",
    "    estimators.append(clf)\n",
    "    best_scores.append(clf.best_score_)\n",
    "    best_estimators.append(clf.best_estimator_.steps[0][1])\n",
    "    \n",
    "    # test\n",
    "    y_pred = clf.best_estimator_.predict(X_test)\n",
    "    best_test_scores.append(accuracy_score(y_test, y_pred))\n",
    "    \n",
    "    logger.info(\n",
    "        \"%d: Validation Accuracy = %.2f, Test Accuracy = %.2f, %s\"\n",
    "        % (rr - random_state + 1, best_scores[-1], best_test_scores[-1], type(best_estimators[-1])))\n"
   ]
  },
  {
   "cell_type": "code",
   "execution_count": 7,
   "metadata": {},
   "outputs": [
    {
     "name": "stdout",
     "output_type": "stream",
     "text": [
      "0.7430000000000001 0.007010574024154372\n",
      "0.724 0.03773592452822642\n"
     ]
    },
    {
     "data": {
      "image/png": "[encoded data removed]",
      "text/plain": [
       "<Figure size 432x288 with 1 Axes>"
      ]
     },
     "metadata": {
      "needs_background": "light"
     },
     "output_type": "display_data"
    }
   ],
   "source": [
    "print(np.mean(best_scores), np.std(best_scores))\n",
    "print(np.mean(best_test_scores), np.std(best_test_scores))\n",
    "\n",
    "plt.boxplot((best_scores, best_test_scores))\n",
    "plt.show()"
   ]
  },
  {
   "cell_type": "code",
   "execution_count": 8,
   "metadata": {},
   "outputs": [
    {
     "data": {
      "text/plain": [
       "array([[4, 0, 0, 0, 0, 0, 0, 0, 0, 0, 1, 0, 0, 0, 0, 0, 0, 0, 0, 0],\n",
       "       [0, 5, 0, 0, 0, 0, 0, 0, 0, 0, 0, 0, 0, 0, 0, 0, 0, 0, 0, 0],\n",
       "       [0, 0, 5, 0, 0, 0, 0, 0, 0, 0, 0, 0, 0, 0, 0, 0, 0, 0, 0, 0],\n",
       "       [0, 0, 0, 1, 0, 0, 0, 0, 1, 0, 0, 1, 0, 1, 0, 0, 0, 0, 0, 1],\n",
       "       [0, 0, 0, 0, 5, 0, 0, 0, 0, 0, 0, 0, 0, 0, 0, 0, 0, 0, 0, 0],\n",
       "       [0, 0, 0, 0, 0, 3, 0, 0, 0, 0, 0, 0, 0, 0, 0, 0, 0, 2, 0, 0],\n",
       "       [0, 0, 0, 1, 0, 0, 4, 0, 0, 0, 0, 0, 0, 0, 0, 0, 0, 0, 0, 0],\n",
       "       [0, 0, 0, 0, 0, 0, 0, 5, 0, 0, 0, 0, 0, 0, 0, 0, 0, 0, 0, 0],\n",
       "       [0, 0, 0, 0, 0, 0, 0, 0, 4, 0, 0, 1, 0, 0, 0, 0, 0, 0, 0, 0],\n",
       "       [0, 0, 0, 0, 0, 0, 0, 0, 0, 4, 0, 1, 0, 0, 0, 0, 0, 0, 0, 0],\n",
       "       [1, 0, 0, 0, 0, 0, 0, 0, 0, 0, 2, 0, 0, 0, 1, 0, 0, 0, 1, 0],\n",
       "       [0, 0, 0, 0, 0, 0, 0, 0, 0, 0, 0, 5, 0, 0, 0, 0, 0, 0, 0, 0],\n",
       "       [0, 0, 0, 0, 0, 0, 0, 0, 0, 0, 0, 0, 3, 0, 0, 0, 0, 0, 0, 2],\n",
       "       [0, 0, 0, 0, 0, 0, 0, 0, 0, 0, 0, 0, 0, 4, 0, 0, 0, 1, 0, 0],\n",
       "       [0, 0, 0, 0, 0, 0, 0, 0, 0, 0, 2, 0, 0, 1, 1, 0, 0, 0, 1, 0],\n",
       "       [0, 0, 0, 0, 0, 0, 0, 0, 0, 0, 0, 0, 0, 0, 0, 5, 0, 0, 0, 0],\n",
       "       [0, 0, 0, 0, 0, 0, 0, 0, 0, 0, 0, 0, 0, 0, 0, 0, 5, 0, 0, 0],\n",
       "       [0, 0, 0, 0, 0, 0, 0, 0, 0, 0, 0, 0, 0, 2, 0, 0, 0, 3, 0, 0],\n",
       "       [0, 0, 0, 0, 1, 1, 0, 0, 0, 0, 0, 0, 0, 0, 0, 0, 0, 0, 3, 0],\n",
       "       [0, 0, 0, 1, 0, 0, 1, 0, 0, 0, 0, 1, 0, 0, 0, 0, 0, 0, 0, 2]])"
      ]
     },
     "metadata": {},
     "output_type": "display_data"
    },
    {
     "data": {
      "text/plain": [
       "array(['Acemasiran', 'Acemkurdi', 'Bestenigar', 'Beyati', 'Hicaz',\n",
       "       'Hicazkar', 'Huseyni', 'Huzzam', 'Karcigar', 'Kurdilihicazkar',\n",
       "       'Mahur', 'Muhayyer', 'Neva', 'Nihavent', 'Rast', 'Saba', 'Segah',\n",
       "       'Sultaniyegah', 'Suzinak', 'Ussak'], dtype=object)"
      ]
     },
     "execution_count": 8,
     "metadata": {},
     "output_type": "execute_result"
    }
   ],
   "source": [
    "display(confusion_matrix(y_true=y_test, y_pred=y_pred))\n",
    "clf.classes_"
   ]
  },
  {
   "cell_type": "code",
   "execution_count": 9,
   "metadata": {},
   "outputs": [
    {
     "name": "stdout",
     "output_type": "stream",
     "text": [
      "{'classifier': RandomForestClassifier(bootstrap=True, ccp_alpha=0.0, class_weight=None,\n",
      "                       criterion='entropy', max_depth=None, max_features='log2',\n",
      "                       max_leaf_nodes=None, max_samples=None,\n",
      "                       min_impurity_decrease=0.0, min_impurity_split=None,\n",
      "                       min_samples_leaf=1, min_samples_split=2,\n",
      "                       min_weight_fraction_leaf=0.0, n_estimators=200,\n",
      "                       n_jobs=None, oob_score=False, random_state=None,\n",
      "                       verbose=0, warm_start=False), 'classifier__criterion': 'entropy', 'classifier__max_features': 'auto', 'classifier__n_estimators': 200} 0.7477777777777778\n"
     ]
    }
   ],
   "source": [
    "print(estimators[0].cv_results_[\"params\"][100], estimators[0].cv_results_[\"mean_test_score\"][100])"
   ]
  }
 ],
 "metadata": {
  "kernelspec": {
   "display_name": "Python 3",
   "language": "python",
   "name": "python3"
  },
  "language_info": {
   "codemirror_mode": {
    "name": "ipython",
    "version": 3
   },
   "file_extension": ".py",
   "mimetype": "text/x-python",
   "name": "python",
   "nbconvert_exporter": "python",
   "pygments_lexer": "ipython3",
   "version": "3.7.6"
  }
 },
 "nbformat": 4,
 "nbformat_minor": 4
}
