{
 "cells": [
  {
   "cell_type": "code",
   "execution_count": 3,
   "metadata": {},
   "outputs": [],
   "source": [
    "from pathlib import Path\n",
    "from typing import Dict\n",
    "\n",
    "import mre\n",
    "import numpy as np\n",
    "import pandas as pd\n",
    "import seaborn as sns\n",
    "\n",
    "from tomato.audio.pitchdistribution import PitchDistribution\n",
    "\n",
    "from matplotlib import pyplot as plt\n",
    "\n",
    "from sklearn.model_selection import cross_validate, GridSearchCV, RepeatedStratifiedKFold, StratifiedKFold, StratifiedShuffleSplit\n",
    "from sklearn.neighbors import KNeighborsClassifier\n",
    "from sklearn.neural_network import MLPClassifier\n",
    "from sklearn.svm import SVC\n",
    "from sklearn.ensemble import ExtraTreesClassifier, GradientBoostingClassifier, RandomForestClassifier\n",
    "from sklearn.linear_model import LogisticRegression\n",
    "from sklearn.tree import DecisionTreeClassifier\n",
    "\n",
    "%load_ext autoreload\n",
    "%autoreload 2\n"
   ]
  },
  {
   "cell_type": "markdown",
   "metadata": {},
   "source": [
    "## helper functions"
   ]
  },
  {
   "cell_type": "code",
   "execution_count": 4,
   "metadata": {},
   "outputs": [],
   "source": [
    "def bhat(v1, v2):\n",
    "    return -np.log(np.sum(np.sqrt(v1 * v2)))\n"
   ]
  },
  {
   "cell_type": "code",
   "execution_count": 5,
   "metadata": {},
   "outputs": [],
   "source": [
    "def prepare_dataset(annotations, pcd_files, pcd_tags):\n",
    "    NUM_BINS = int(1200 / float(pcd_tags[\"step_size\"]))\n",
    "    \n",
    "    # prepare features\n",
    "    X = np.zeros((len(annotations.data), NUM_BINS))\n",
    "    mbids = np.array([])\n",
    "    for ii, pf in enumerate(pcd_files):\n",
    "        vals = PitchDistribution.from_json(pf).vals\n",
    "        if len(vals) != NUM_BINS:\n",
    "            raise ValueError(\n",
    "                \"%s has %d bins instead of %d.\"\n",
    "                % (pf, len(vals), NUM_BINS)\n",
    "            )\n",
    "        X[ii, :] = PitchDistribution.from_json(pf).vals\n",
    "        mbids = np.append(mbids, Path(pf).stem)\n",
    "\n",
    "    y = annotations.data.set_index(\"mbid\").loc[mbids].makam.values\n",
    "\n",
    "    return mre.data.dataset.Dataset(X, y)\n"
   ]
  },
  {
   "cell_type": "markdown",
   "metadata": {},
   "source": [
    "# Read data"
   ]
  },
  {
   "cell_type": "markdown",
   "metadata": {},
   "source": [
    "## Annotations"
   ]
  },
  {
   "cell_type": "code",
   "execution_count": 6,
   "metadata": {},
   "outputs": [
    {
     "data": {
      "text/html": [
       "<div>\n",
       "<style scoped>\n",
       "    .dataframe tbody tr th:only-of-type {\n",
       "        vertical-align: middle;\n",
       "    }\n",
       "\n",
       "    .dataframe tbody tr th {\n",
       "        vertical-align: top;\n",
       "    }\n",
       "\n",
       "    .dataframe thead th {\n",
       "        text-align: right;\n",
       "    }\n",
       "</style>\n",
       "<table border=\"1\" class=\"dataframe\">\n",
       "  <thead>\n",
       "    <tr style=\"text-align: right;\">\n",
       "      <th></th>\n",
       "      <th>dunya_uid</th>\n",
       "      <th>makam</th>\n",
       "      <th>mb_url</th>\n",
       "      <th>mbid</th>\n",
       "      <th>observations</th>\n",
       "      <th>tonic</th>\n",
       "      <th>verified</th>\n",
       "    </tr>\n",
       "  </thead>\n",
       "  <tbody>\n",
       "    <tr>\n",
       "      <th>0</th>\n",
       "      <td>00f1c6d9-c8ee-45e3-a06f-0882ebcb4e2f</td>\n",
       "      <td>Acemasiran</td>\n",
       "      <td>http://musicbrainz.org/recording/00f1c6d9-c8ee...</td>\n",
       "      <td>00f1c6d9-c8ee-45e3-a06f-0882ebcb4e2f</td>\n",
       "      <td></td>\n",
       "      <td>256.0</td>\n",
       "      <td>False</td>\n",
       "    </tr>\n",
       "    <tr>\n",
       "      <th>1</th>\n",
       "      <td>168f7c75-84fb-4316-99d7-acabadd3b2e6</td>\n",
       "      <td>Acemasiran</td>\n",
       "      <td>http://musicbrainz.org/recording/168f7c75-84fb...</td>\n",
       "      <td>168f7c75-84fb-4316-99d7-acabadd3b2e6</td>\n",
       "      <td></td>\n",
       "      <td>115.2</td>\n",
       "      <td>False</td>\n",
       "    </tr>\n",
       "    <tr>\n",
       "      <th>2</th>\n",
       "      <td>24f549dd-3fa4-4e9b-a356-778fbbfd5cad</td>\n",
       "      <td>Acemasiran</td>\n",
       "      <td>http://musicbrainz.org/recording/24f549dd-3fa4...</td>\n",
       "      <td>24f549dd-3fa4-4e9b-a356-778fbbfd5cad</td>\n",
       "      <td></td>\n",
       "      <td>232.5</td>\n",
       "      <td>False</td>\n",
       "    </tr>\n",
       "    <tr>\n",
       "      <th>3</th>\n",
       "      <td>407bb0b4-f19b-42ab-8c0a-9f1263126951</td>\n",
       "      <td>Acemasiran</td>\n",
       "      <td>http://musicbrainz.org/recording/407bb0b4-f19b...</td>\n",
       "      <td>407bb0b4-f19b-42ab-8c0a-9f1263126951</td>\n",
       "      <td></td>\n",
       "      <td>233.5</td>\n",
       "      <td>False</td>\n",
       "    </tr>\n",
       "    <tr>\n",
       "      <th>4</th>\n",
       "      <td>443819eb-6092-420c-bd86-d946a0ad6555</td>\n",
       "      <td>Acemasiran</td>\n",
       "      <td>http://musicbrainz.org/recording/443819eb-6092...</td>\n",
       "      <td>443819eb-6092-420c-bd86-d946a0ad6555</td>\n",
       "      <td></td>\n",
       "      <td>219.6</td>\n",
       "      <td>False</td>\n",
       "    </tr>\n",
       "  </tbody>\n",
       "</table>\n",
       "</div>"
      ],
      "text/plain": [
       "                              dunya_uid       makam  \\\n",
       "0  00f1c6d9-c8ee-45e3-a06f-0882ebcb4e2f  Acemasiran   \n",
       "1  168f7c75-84fb-4316-99d7-acabadd3b2e6  Acemasiran   \n",
       "2  24f549dd-3fa4-4e9b-a356-778fbbfd5cad  Acemasiran   \n",
       "3  407bb0b4-f19b-42ab-8c0a-9f1263126951  Acemasiran   \n",
       "4  443819eb-6092-420c-bd86-d946a0ad6555  Acemasiran   \n",
       "\n",
       "                                              mb_url  \\\n",
       "0  http://musicbrainz.org/recording/00f1c6d9-c8ee...   \n",
       "1  http://musicbrainz.org/recording/168f7c75-84fb...   \n",
       "2  http://musicbrainz.org/recording/24f549dd-3fa4...   \n",
       "3  http://musicbrainz.org/recording/407bb0b4-f19b...   \n",
       "4  http://musicbrainz.org/recording/443819eb-6092...   \n",
       "\n",
       "                                   mbid observations  tonic  verified  \n",
       "0  00f1c6d9-c8ee-45e3-a06f-0882ebcb4e2f               256.0     False  \n",
       "1  168f7c75-84fb-4316-99d7-acabadd3b2e6               115.2     False  \n",
       "2  24f549dd-3fa4-4e9b-a356-778fbbfd5cad               232.5     False  \n",
       "3  407bb0b4-f19b-42ab-8c0a-9f1263126951               233.5     False  \n",
       "4  443819eb-6092-420c-bd86-d946a0ad6555               219.6     False  "
      ]
     },
     "metadata": {},
     "output_type": "display_data"
    }
   ],
   "source": [
    "annotations = mre.data.Annotation.from_mlflow()\n",
    "display(annotations.head())"
   ]
  },
  {
   "cell_type": "markdown",
   "metadata": {},
   "source": [
    "## Pitch Class Distributions"
   ]
  },
  {
   "cell_type": "code",
   "execution_count": 7,
   "metadata": {},
   "outputs": [],
   "source": [
    "pcd_files = mre.data.PitchClassDistribution.from_mlflow()\n",
    "pcd_tags = mre.data.PitchClassDistribution.get_tags()\n"
   ]
  },
  {
   "cell_type": "markdown",
   "metadata": {},
   "source": [
    "# Prepare inputs"
   ]
  },
  {
   "cell_type": "code",
   "execution_count": 8,
   "metadata": {},
   "outputs": [
    {
     "name": "stdout",
     "output_type": "stream",
     "text": [
      "Dataset with 1000 samples and 48 feature dimensions.\n"
     ]
    }
   ],
   "source": [
    "dataset = prepare_dataset(annotations, pcd_files, pcd_tags)\n",
    "print(dataset)\n"
   ]
  },
  {
   "cell_type": "markdown",
   "metadata": {},
   "source": [
    "# Experimental Setup"
   ]
  },
  {
   "cell_type": "code",
   "execution_count": 18,
   "metadata": {},
   "outputs": [],
   "source": [
    "NUM_TRIALS = 10  # Number of random trials\n",
    "CROSS_VALIDATION_TECHNIQUES = {\n",
    "    \"stratified_random_split_cv\": {\n",
    "        \"num_splits\": 1\n",
    "    },\n",
    "    \"stratified_shuffle_split_cv\": {\n",
    "        \"num_splits\": 10\n",
    "    },\n",
    "    \"stratified_10_fold_cv\": {\n",
    "        \"num_splits\": 10\n",
    "    },\n",
    "    \"nested_stratified_10_fold_cv\": {\n",
    "        \"num_splits\": 10\n",
    "    }\n",
    "}\n",
    "ARCHITECTURES = [\n",
    "#     'LogisticRegression': {\n",
    "#         \"name\": \"LogisticRegression\",\n",
    "#         \"estimator\": LogisticRegression(max_iter=100, solver=\"saga\"),\n",
    "#         \"param_grid\": {\n",
    "#             \"penalty\": [\"l2\", 'l1'],\n",
    "#             \"C\": [0.1, 1, 10]\n",
    "#         }\n",
    "#     },\n",
    "#     'DecisionTree': {\n",
    "#         \"name\": \"DecisionTree\",\n",
    "#         \"estimator\": DecisionTreeClassifier(),\n",
    "#         \"param_grid\": {\n",
    "#             \"criterion\": [\"gini\", \"entropy\"],\n",
    "#             \"max_depth\": [5, 10, 25, 50]\n",
    "#         }\n",
    "#     },\n",
    "    mre.experimentation.Architecture(\n",
    "        name=\"KNN\",\n",
    "        estimator=KNeighborsClassifier(),\n",
    "        param_grid={\n",
    "            \"n_neighbors\": [1, 3],\n",
    "            \"weights\": [\"uniform\", \"distance\"],\n",
    "            \"metric\": [\"manhattan\", \"euclidean\"]\n",
    "#             \"metric\": [bhat, \"manhattan\", \"euclidean\"]\n",
    "        }\n",
    "    ),\n",
    "    mre.experimentation.Architecture(\n",
    "        name=\"SVM\",\n",
    "        estimator=SVC(kernel=\"rbf\"),\n",
    "        param_grid={\n",
    "            \"C\": [100, 1000],  # .001, .01, .1, 1, 10 give worse results, omitted\n",
    "            \"gamma\": [.1, 1]  # .001, .01 give worse results, omitted\n",
    "        }\n",
    "    ),\n",
    "#     'RandomForest': {\n",
    "#         \"name\": \"RandomForest\",\n",
    "#         \"estimator\": RandomForestClassifier(),\n",
    "#         \"param_grid\": {\n",
    "#             \"n_estimators\": [5, 10, 25, 50],\n",
    "#             \"criterion\": [\"gini\", \"entropy\"],\n",
    "#             \"max_depth\": [5, 10, 25, 50]\n",
    "#         }\n",
    "#     },\n",
    "#     \"mlp\": {\n",
    "#         \"name\": \"MultiLayerPerceptron\",\n",
    "#         \"estimator\": MLPClassifier(momentum=0.5, max_iter=10000, learning_rate_init=0.001),\n",
    "#         \"param_grid\": {\n",
    "#             \"hidden_layer_sizes\": [75, 100, 150, 200],\n",
    "#             \"alpha\": [0.1, 0.01, 0.001]\n",
    "#         }\n",
    "#     },\n",
    "]\n"
   ]
  },
  {
   "cell_type": "markdown",
   "metadata": {},
   "source": [
    "## Nested 10 fold"
   ]
  },
  {
   "cell_type": "code",
   "execution_count": 29,
   "metadata": {},
   "outputs": [
    {
     "name": "stdout",
     "output_type": "stream",
     "text": [
      "   KNN, Test acc: 0.66∓0.06, Train acc: 1.00∓0.00, Max fit time: 4.2 sec, Best Params: {'metric': 'manhattan', 'n_neighbors': 3, 'weights': 'distance'}\n",
      "   SVM, Test acc: 0.72∓0.04, Train acc: 0.81∓0.00, Max fit time: 3.4 sec, Best Params: {'C': 100, 'gamma': 1}\n",
      "   KNN, Test acc: 0.64∓0.04, Train acc: 1.00∓0.00, Max fit time: 3.5 sec, Best Params: {'metric': 'manhattan', 'n_neighbors': 3, 'weights': 'distance'}\n",
      "   SVM, Test acc: 0.71∓0.04, Train acc: 0.82∓0.02, Max fit time: 3.3 sec, Best Params: {'C': 100, 'gamma': 1}\n",
      "   KNN, Test acc: 0.64∓0.04, Train acc: 1.00∓0.00, Max fit time: 4.2 sec, Best Params: {'metric': 'manhattan', 'n_neighbors': 3, 'weights': 'distance'}\n",
      "   SVM, Test acc: 0.71∓0.04, Train acc: 0.82∓0.03, Max fit time: 3.8 sec, Best Params: {'C': 100, 'gamma': 1}\n",
      "   KNN, Test acc: 0.65∓0.04, Train acc: 1.00∓0.00, Max fit time: 4.2 sec, Best Params: {'metric': 'manhattan', 'n_neighbors': 3, 'weights': 'distance'}\n",
      "   SVM, Test acc: 0.72∓0.04, Train acc: 0.81∓0.01, Max fit time: 3.9 sec, Best Params: {'C': 1000, 'gamma': 0.1}\n",
      "   KNN, Test acc: 0.65∓0.03, Train acc: 1.00∓0.00, Max fit time: 4.0 sec, Best Params: {'metric': 'manhattan', 'n_neighbors': 3, 'weights': 'distance'}\n",
      "   SVM, Test acc: 0.73∓0.03, Train acc: 0.82∓0.02, Max fit time: 3.9 sec, Best Params: {'C': 1000, 'gamma': 0.1}\n",
      "   KNN, Test acc: 0.64∓0.04, Train acc: 1.00∓0.00, Max fit time: 4.2 sec, Best Params: {'metric': 'manhattan', 'n_neighbors': 3, 'weights': 'distance'}\n",
      "   SVM, Test acc: 0.71∓0.03, Train acc: 0.81∓0.00, Max fit time: 3.5 sec, Best Params: {'C': 100, 'gamma': 1}\n",
      "   KNN, Test acc: 0.64∓0.03, Train acc: 1.00∓0.00, Max fit time: 3.7 sec, Best Params: {'metric': 'manhattan', 'n_neighbors': 3, 'weights': 'distance'}\n",
      "   SVM, Test acc: 0.72∓0.03, Train acc: 0.82∓0.03, Max fit time: 3.4 sec, Best Params: {'C': 100, 'gamma': 1}\n",
      "   KNN, Test acc: 0.65∓0.04, Train acc: 1.00∓0.00, Max fit time: 4.0 sec, Best Params: {'metric': 'manhattan', 'n_neighbors': 3, 'weights': 'distance'}\n",
      "   SVM, Test acc: 0.72∓0.03, Train acc: 0.81∓0.01, Max fit time: 3.3 sec, Best Params: {'C': 100, 'gamma': 1}\n",
      "   KNN, Test acc: 0.65∓0.04, Train acc: 1.00∓0.00, Max fit time: 3.8 sec, Best Params: {'metric': 'manhattan', 'n_neighbors': 3, 'weights': 'distance'}\n",
      "   SVM, Test acc: 0.71∓0.04, Train acc: 0.82∓0.03, Max fit time: 3.3 sec, Best Params: {'C': 100, 'gamma': 1}\n",
      "   KNN, Test acc: 0.65∓0.05, Train acc: 1.00∓0.00, Max fit time: 4.0 sec, Best Params: {'metric': 'manhattan', 'n_neighbors': 3, 'weights': 'distance'}\n",
      "   SVM, Test acc: 0.73∓0.04, Train acc: 0.81∓0.01, Max fit time: 3.5 sec, Best Params: {'C': 100, 'gamma': 1}\n"
     ]
    },
    {
     "data": {
      "text/html": [
       "<div>\n",
       "<style scoped>\n",
       "    .dataframe tbody tr th:only-of-type {\n",
       "        vertical-align: middle;\n",
       "    }\n",
       "\n",
       "    .dataframe tbody tr th {\n",
       "        vertical-align: top;\n",
       "    }\n",
       "\n",
       "    .dataframe thead th {\n",
       "        text-align: right;\n",
       "    }\n",
       "</style>\n",
       "<table border=\"1\" class=\"dataframe\">\n",
       "  <thead>\n",
       "    <tr style=\"text-align: right;\">\n",
       "      <th></th>\n",
       "      <th>architecture</th>\n",
       "      <th>best_params_</th>\n",
       "      <th>cv_results_</th>\n",
       "      <th>fit_time</th>\n",
       "      <th>score_time</th>\n",
       "      <th>split_id</th>\n",
       "      <th>test_score</th>\n",
       "      <th>train_score</th>\n",
       "      <th>trial_id</th>\n",
       "    </tr>\n",
       "  </thead>\n",
       "  <tbody>\n",
       "    <tr>\n",
       "      <th>0</th>\n",
       "      <td>KNN</td>\n",
       "      <td>{'metric': 'manhattan', 'n_neighbors': 3, 'wei...</td>\n",
       "      <td>{'mean_fit_time': [0.04466860294342041, 0.0477...</td>\n",
       "      <td>4.003536</td>\n",
       "      <td>0.009815</td>\n",
       "      <td>0</td>\n",
       "      <td>0.67</td>\n",
       "      <td>1.0</td>\n",
       "      <td>0</td>\n",
       "    </tr>\n",
       "    <tr>\n",
       "      <th>1</th>\n",
       "      <td>KNN</td>\n",
       "      <td>{'metric': 'manhattan', 'n_neighbors': 3, 'wei...</td>\n",
       "      <td>{'mean_fit_time': [0.03785054683685303, 0.0550...</td>\n",
       "      <td>4.044551</td>\n",
       "      <td>0.035030</td>\n",
       "      <td>1</td>\n",
       "      <td>0.70</td>\n",
       "      <td>1.0</td>\n",
       "      <td>0</td>\n",
       "    </tr>\n",
       "    <tr>\n",
       "      <th>2</th>\n",
       "      <td>KNN</td>\n",
       "      <td>{'metric': 'manhattan', 'n_neighbors': 3, 'wei...</td>\n",
       "      <td>{'mean_fit_time': [0.03657889366149902, 0.0477...</td>\n",
       "      <td>3.733701</td>\n",
       "      <td>0.053733</td>\n",
       "      <td>2</td>\n",
       "      <td>0.61</td>\n",
       "      <td>1.0</td>\n",
       "      <td>0</td>\n",
       "    </tr>\n",
       "    <tr>\n",
       "      <th>3</th>\n",
       "      <td>KNN</td>\n",
       "      <td>{'metric': 'manhattan', 'n_neighbors': 3, 'wei...</td>\n",
       "      <td>{'mean_fit_time': [0.038138818740844724, 0.063...</td>\n",
       "      <td>4.011400</td>\n",
       "      <td>0.017460</td>\n",
       "      <td>3</td>\n",
       "      <td>0.60</td>\n",
       "      <td>1.0</td>\n",
       "      <td>0</td>\n",
       "    </tr>\n",
       "    <tr>\n",
       "      <th>4</th>\n",
       "      <td>KNN</td>\n",
       "      <td>{'metric': 'manhattan', 'n_neighbors': 3, 'wei...</td>\n",
       "      <td>{'mean_fit_time': [0.03232426643371582, 0.0449...</td>\n",
       "      <td>3.594045</td>\n",
       "      <td>0.031847</td>\n",
       "      <td>4</td>\n",
       "      <td>0.68</td>\n",
       "      <td>1.0</td>\n",
       "      <td>0</td>\n",
       "    </tr>\n",
       "  </tbody>\n",
       "</table>\n",
       "</div>"
      ],
      "text/plain": [
       "  architecture                                       best_params_  \\\n",
       "0          KNN  {'metric': 'manhattan', 'n_neighbors': 3, 'wei...   \n",
       "1          KNN  {'metric': 'manhattan', 'n_neighbors': 3, 'wei...   \n",
       "2          KNN  {'metric': 'manhattan', 'n_neighbors': 3, 'wei...   \n",
       "3          KNN  {'metric': 'manhattan', 'n_neighbors': 3, 'wei...   \n",
       "4          KNN  {'metric': 'manhattan', 'n_neighbors': 3, 'wei...   \n",
       "\n",
       "                                         cv_results_  fit_time  score_time  \\\n",
       "0  {'mean_fit_time': [0.04466860294342041, 0.0477...  4.003536    0.009815   \n",
       "1  {'mean_fit_time': [0.03785054683685303, 0.0550...  4.044551    0.035030   \n",
       "2  {'mean_fit_time': [0.03657889366149902, 0.0477...  3.733701    0.053733   \n",
       "3  {'mean_fit_time': [0.038138818740844724, 0.063...  4.011400    0.017460   \n",
       "4  {'mean_fit_time': [0.03232426643371582, 0.0449...  3.594045    0.031847   \n",
       "\n",
       "   split_id  test_score  train_score  trial_id  \n",
       "0         0        0.67          1.0         0  \n",
       "1         1        0.70          1.0         0  \n",
       "2         2        0.61          1.0         0  \n",
       "3         3        0.60          1.0         0  \n",
       "4         4        0.68          1.0         0  "
      ]
     },
     "execution_count": 29,
     "metadata": {},
     "output_type": "execute_result"
    }
   ],
   "source": [
    "nested_stratified_10_fold_cv_experiment = mre.experimentation.NestedStratified10FoldCV(\n",
    "    num_splits=10, num_trials=10\n",
    ")\n",
    "\n",
    "nested_stratified_10_fold_cv_experiment.run(dataset, ARCHITECTURES)\n",
    "nested_stratified_10_fold_cv_experiment.results.head()"
   ]
  },
  {
   "cell_type": "code",
   "execution_count": 27,
   "metadata": {},
   "outputs": [
    {
     "data": {
      "image/png": "[encoded data removed]",
      "text/plain": [
       "<Figure size 432x288 with 1 Axes>"
      ]
     },
     "metadata": {
      "needs_background": "light"
     },
     "output_type": "display_data"
    }
   ],
   "source": [
    "ax = sns.boxplot(\n",
    "    x=\"trial_id\",\n",
    "    y=\"test_score\",\n",
    "    hue=\"architecture\",\n",
    "    data=nested_scores,\n",
    "    palette=\"Set3\"\n",
    ")\n",
    "plt.grid()\n"
   ]
  },
  {
   "cell_type": "code",
   "execution_count": 28,
   "metadata": {},
   "outputs": [
    {
     "data": {
      "image/png": "[encoded data removed]",
      "text/plain": [
       "<Figure size 432x288 with 1 Axes>"
      ]
     },
     "metadata": {
      "needs_background": "light"
     },
     "output_type": "display_data"
    }
   ],
   "source": [
    "ax = sns.boxplot(\n",
    "    x=\"architecture\",\n",
    "    y=\"mean\",\n",
    "    data=nested_scores.groupby([\"trial_id\", \"architecture\"])[\"test_score\"].agg([\"mean\", \"std\"]).reset_index(),\n",
    "    palette=\"Set3\"\n",
    ")\n",
    "plt.grid()\n"
   ]
  },
  {
   "cell_type": "markdown",
   "metadata": {},
   "source": [
    "## 10 fold"
   ]
  },
  {
   "cell_type": "code",
   "execution_count": null,
   "metadata": {},
   "outputs": [],
   "source": [
    "def run_stratified_k_fold_cv(\n",
    "    architectures: Dict,\n",
    "    cv_technique: int,\n",
    "    num_trials: int\n",
    ") -> pd.DataFrame:\n",
    "    VERBOSE = 0\n",
    "    N_JOBS = -1\n",
    "    scores = []\n",
    "    for ii in range(num_trials):\n",
    "        print(f\"Trial {ii}\")\n",
    "        n_splits = cv_technique[\"num_splits\"]\n",
    "        outer_cv = StratifiedKFold(n_splits=n_splits, shuffle=True, random_state=ii)\n",
    "\n",
    "        for arch in architectures.values():\n",
    "            clf = GridSearchCV(\n",
    "                estimator=arch[\"estimator\"],\n",
    "                param_grid=arch[\"param_grid\"],\n",
    "                cv=outer_cv,\n",
    "                return_train_score=True,\n",
    "                verbose=VERBOSE,\n",
    "                n_jobs=N_JOBS\n",
    "            )\n",
    "            clf.fit(X, y)\n",
    "\n",
    "            results = clf.cv_results_\n",
    "            best_index = clf.best_index_\n",
    "            for ns in range(n_splits):\n",
    "                scores.append({\n",
    "                    \"architecture\": arch[\"name\"],\n",
    "                    \"train_score\": results[f\"split{ns}_train_score\"][best_index],\n",
    "                    \"test_score\": results[f\"split{ns}_test_score\"][best_index],\n",
    "                    \"fit_time\": results[\"mean_fit_time\"][best_index],\n",
    "                    \"score_time\": results[\"mean_score_time\"][best_index],\n",
    "                    \"split_id\": ns,\n",
    "                    \"trial_id\": ii,\n",
    "                    \"best_params_\": clf.best_params_,\n",
    "                    \"cv_results_\": clf.cv_results_\n",
    "                })\n",
    "            \n",
    "            print(\n",
    "                f'  {arch[\"name\"]:<18}, '\n",
    "                f'Mean/std test acc : {results[\"mean_test_score\"][best_index]:.2f}∓{results[\"std_test_score\"][best_index]:.2f}, '\n",
    "                f'Mean/std train acc: {results[\"mean_train_score\"][best_index]:.2f}∓{results[\"std_train_score\"][best_index]:.2f}, '\n",
    "                f'Max fit time: {max(results[\"mean_fit_time\"]):.1f} sec, '\n",
    "                f'Best Params: {clf.best_params_}'\n",
    "            )\n",
    "    \n",
    "    return pd.DataFrame(scores)\n"
   ]
  },
  {
   "cell_type": "code",
   "execution_count": null,
   "metadata": {},
   "outputs": [],
   "source": [
    "kfold_scores = run_stratified_k_fold_cv(\n",
    "    architectures=ARCHITECTURES,\n",
    "    cv_technique=CROSS_VALIDATION_TECHNIQUES[\"stratified_10_fold_cv\"],\n",
    "    num_trials=NUM_TRIALS\n",
    ")\n"
   ]
  },
  {
   "cell_type": "code",
   "execution_count": null,
   "metadata": {},
   "outputs": [],
   "source": [
    "ax = sns.boxplot(\n",
    "    x=\"trial_id\",\n",
    "    y=\"test_score\",\n",
    "    hue=\"architecture\",\n",
    "    data=kfold_scores,\n",
    "    palette=\"Set3\"\n",
    ")\n",
    "plt.grid()\n"
   ]
  },
  {
   "cell_type": "code",
   "execution_count": null,
   "metadata": {},
   "outputs": [],
   "source": [
    "ax = sns.boxplot(\n",
    "    x=\"architecture\",\n",
    "    y=\"mean\",\n",
    "    data=kfold_scores.groupby([\"trial_id\", \"architecture\"])[\"test_score\"].agg([\"mean\", \"std\"]).reset_index(),\n",
    "    palette=\"Set3\"\n",
    ")\n",
    "plt.grid()\n"
   ]
  },
  {
   "cell_type": "markdown",
   "metadata": {},
   "source": [
    "## 10-times shuffle split"
   ]
  },
  {
   "cell_type": "code",
   "execution_count": null,
   "metadata": {},
   "outputs": [],
   "source": [
    "def run_shuffle_cv(\n",
    "    architectures: Dict,\n",
    "    cv_technique: int,\n",
    "    num_trials: int\n",
    ") -> pd.DataFrame:\n",
    "    VERBOSE = 0\n",
    "    N_JOBS = -1\n",
    "    nested_scores = []\n",
    "    for ii in range(num_trials):\n",
    "        print(f\"Trial {ii}\")\n",
    "        n_splits = cv_technique[\"num_splits\"]\n",
    "\n",
    "        # 80 train, 20 (validation + test)\n",
    "        outer_cv = StratifiedShuffleSplit(n_splits=n_splits, test_size=0.2, random_state=ii)\n",
    "        \n",
    "        # 10 validation, 10 test\n",
    "        inner_cv = StratifiedShuffleSplit(n_splits=n_splits, test_size=0.5, random_state=ii)\n",
    "\n",
    "        for arch in architectures.values():\n",
    "            clf = GridSearchCV(\n",
    "                estimator=arch[\"estimator\"],\n",
    "                param_grid=arch[\"param_grid\"],\n",
    "                cv=inner_cv,\n",
    "                verbose=VERBOSE,\n",
    "                n_jobs=N_JOBS\n",
    "            )\n",
    "\n",
    "            scores = cross_validate(\n",
    "                clf,\n",
    "                X=X,\n",
    "                y=y,\n",
    "                cv=outer_cv,\n",
    "                verbose=VERBOSE,\n",
    "                n_jobs=N_JOBS,\n",
    "                return_estimator=True,\n",
    "                return_train_score=True\n",
    "            )\n",
    "\n",
    "            for ns in range(n_splits):\n",
    "                nested_scores.append({\n",
    "                    \"architecture\": arch[\"name\"],\n",
    "                    \"train_score\": scores[\"train_score\"][ns],\n",
    "                    \"test_score\": scores[\"test_score\"][ns],\n",
    "                    \"fit_time\": scores[\"fit_time\"][ns],\n",
    "                    \"score_time\": scores[\"score_time\"][ns],\n",
    "                    \"split_id\": ns,\n",
    "                    \"trial_id\": ii,\n",
    "                    \"best_params_\": scores[\"estimator\"][ns].best_params_,\n",
    "                    \"cv_results_\": scores[\"estimator\"][ns].cv_results_\n",
    "                })\n",
    "            best_params_str = [str(est.best_params_) for est in scores[\"estimator\"]]\n",
    "            most_common_best_params = max(best_params_str, key=best_params_str.count)\n",
    "            \n",
    "            print(\n",
    "                f'   {arch[\"name\"]:<20}, '\n",
    "                f'Mean/std test acc : {np.mean(scores[\"test_score\"]):.2f}∓{np.std(scores[\"test_score\"]):.2f}, '\n",
    "                f'Mean/std train acc: {np.mean(scores[\"train_score\"]):.2f}∓{np.std(scores[\"train_score\"]):.2f}, '\n",
    "                f'Max fit time: {max(scores[\"fit_time\"]):.1f} sec, '\n",
    "                f'Best Params: {most_common_best_params}'\n",
    "            )\n",
    "\n",
    "    return pd.DataFrame(nested_scores)\n"
   ]
  },
  {
   "cell_type": "code",
   "execution_count": null,
   "metadata": {},
   "outputs": [],
   "source": [
    "shuffle_scores = run_shuffle_cv(\n",
    "    architectures=ARCHITECTURES,\n",
    "    cv_technique=CROSS_VALIDATION_TECHNIQUES[\"stratified_shuffle_split_cv\"],\n",
    "    num_trials=NUM_TRIALS\n",
    ")\n"
   ]
  },
  {
   "cell_type": "code",
   "execution_count": null,
   "metadata": {},
   "outputs": [],
   "source": [
    "ax = sns.boxplot(\n",
    "    x=\"trial_id\",\n",
    "    y=\"test_score\",\n",
    "    hue=\"architecture\",\n",
    "    data=shuffle_scores,\n",
    "    palette=\"Set3\"\n",
    ")\n",
    "plt.grid()\n"
   ]
  },
  {
   "cell_type": "code",
   "execution_count": null,
   "metadata": {},
   "outputs": [],
   "source": [
    "ax = sns.boxplot(\n",
    "    x=\"architecture\",\n",
    "    y=\"mean\",\n",
    "    data=shuffle_scores.groupby([\"trial_id\", \"architecture\"])[\"test_score\"].agg([\"mean\", \"std\"]).reset_index(),\n",
    "    palette=\"Set3\"\n",
    ")\n",
    "plt.grid()\n"
   ]
  },
  {
   "cell_type": "markdown",
   "metadata": {},
   "source": [
    "## Single shuffled split"
   ]
  },
  {
   "cell_type": "code",
   "execution_count": null,
   "metadata": {},
   "outputs": [],
   "source": [
    "random_scores = run_shuffle_cv(\n",
    "    architectures=ARCHITECTURES,\n",
    "    cv_technique=CROSS_VALIDATION_TECHNIQUES[\"stratified_random_split_cv\"],\n",
    "    num_trials=NUM_TRIALS\n",
    ")\n"
   ]
  },
  {
   "cell_type": "code",
   "execution_count": null,
   "metadata": {},
   "outputs": [],
   "source": [
    "ax = sns.boxplot(\n",
    "    x=\"architecture\",\n",
    "    y=\"mean\",\n",
    "    data=random_scores.groupby([\"trial_id\", \"architecture\"])[\"test_score\"].agg([\"mean\", \"std\"]).reset_index(),\n",
    "    palette=\"Set3\"\n",
    ")\n",
    "plt.grid()\n"
   ]
  },
  {
   "cell_type": "raw",
   "metadata": {},
   "source": [
    "# Arrays to store scores\n",
    "non_nested_scores = np.zeros(NUM_TRIALS)\n",
    "nested_scores = np.zeros(NUM_TRIALS)\n",
    "\n",
    "# Loop for each trial\n",
    "for i in range(NUM_TRIALS):\n",
    "    print(i)\n",
    "\n",
    "    # Choose cross-validation techniques for the inner and outer loops,\n",
    "    # independently of the dataset.\n",
    "    # E.g \"GroupKFold\", \"LeaveOneOut\", \"LeaveOneGroupOut\", etc.\n",
    "    inner_cv = StratifiedKFold(n_splits=10, shuffle=True, random_state=i)\n",
    "    outer_cv = StratifiedKFold(n_splits=10, shuffle=True, random_state=i)\n",
    "\n",
    "    # Non_nested parameter search and scoring\n",
    "    clf = GridSearchCV(\n",
    "        estimator=arch[\"estimator\"],\n",
    "        param_grid=arch[\"param_grid\"],\n",
    "        cv=inner_cv\n",
    "    )\n",
    "    \n",
    "    # Nested CV with parameter optimization\n",
    "    nested_score = cross_val_score(clf, X=X, y=y, cv=outer_cv)\n",
    "    nested_scores[i] = nested_score.mean()\n",
    "    \n",
    "    clf.fit(X, y)\n",
    "    non_nested_scores[i] = clf.best_score_\n",
    "\n",
    "score_difference = non_nested_scores - nested_scores\n",
    "\n",
    "print(\"Average difference of {:6f} with std. dev. of {:6f}.\"\n",
    "      .format(score_difference.mean(), score_difference.std()))\n",
    "\n",
    "# Plot scores on each trial for nested and non-nested CV\n",
    "plt.figure()\n",
    "plt.subplot(211)\n",
    "non_nested_scores_line, = plt.plot(non_nested_scores, color='r')\n",
    "nested_line, = plt.plot(nested_scores, color='b')\n",
    "plt.ylabel(\"score\", fontsize=\"14\")\n",
    "plt.legend([non_nested_scores_line, nested_line],\n",
    "           [\"Non-Nested CV\", \"Nested CV\"],\n",
    "           bbox_to_anchor=(0, .4, .5, 0))\n",
    "plt.title(\"Non-Nested and Nested Cross Validation\",\n",
    "          x=.5, y=1.1, fontsize=\"15\")\n",
    "\n",
    "# Plot bar chart of the difference.\n",
    "plt.subplot(212)\n",
    "difference_plot = plt.bar(range(NUM_TRIALS), score_difference)\n",
    "plt.xlabel(\"Individual Trial #\")\n",
    "plt.legend([difference_plot],\n",
    "           [\"Non-Nested CV - Nested CV Score\"],\n",
    "           bbox_to_anchor=(0, 1, .8, 0))\n",
    "plt.ylabel(\"score difference\", fontsize=\"14\")\n",
    "\n",
    "plt.show()\n",
    "\n",
    "display(clf.cv_results_)\n",
    "nested_score\n"
   ]
  },
  {
   "cell_type": "markdown",
   "metadata": {},
   "source": [
    "# Evaluate different shallow architectures under different experimental setups"
   ]
  },
  {
   "cell_type": "code",
   "execution_count": null,
   "metadata": {},
   "outputs": [],
   "source": []
  },
  {
   "cell_type": "code",
   "execution_count": null,
   "metadata": {},
   "outputs": [],
   "source": []
  }
 ],
 "metadata": {
  "kernelspec": {
   "display_name": "Python 3",
   "language": "python",
   "name": "python3"
  },
  "language_info": {
   "codemirror_mode": {
    "name": "ipython",
    "version": 3
   },
   "file_extension": ".py",
   "mimetype": "text/x-python",
   "name": "python",
   "nbconvert_exporter": "python",
   "pygments_lexer": "ipython3",
   "version": "3.7.6"
  }
 },
 "nbformat": 4,
 "nbformat_minor": 4
}
