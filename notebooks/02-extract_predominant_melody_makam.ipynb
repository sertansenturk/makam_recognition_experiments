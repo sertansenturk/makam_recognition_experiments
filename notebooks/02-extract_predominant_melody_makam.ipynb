{
 "cells": [
  {
   "cell_type": "markdown",
   "metadata": {},
   "source": [
    "# 02-extract_predominant_melody_makam\n",
    "\n",
    "This notebook extracts predominant melody from the downloaded audio recordings using the [tomato v0.14.0 implementation](https://github.com/sertansenturk/tomato/tree/v0.14.0) of the method explained in:\n",
    "\n",
    "```\n",
    "Atlı, H. S., Uyar, B., Şentürk, S., Bozkurt, B., and Serra, X. (2014). Audio feature extraction for exploring Turkish makam music. In Proceedings of 3rd International Conference on Audio Technologies for Music and Media (ATMM 2014), pages 142–153, Ankara, Turkey.\n",
    "```"
   ]
  },
  {
   "cell_type": "code",
   "execution_count": 1,
   "metadata": {},
   "outputs": [],
   "source": [
    "import mre\n"
   ]
  },
  {
   "cell_type": "markdown",
   "metadata": {},
   "source": [
    "## Stop if predominant melody makam was run in the past\n",
    "\n",
    "Extracting the feature may take a long time. It is better to check if there is already a run in advance."
   ]
  },
  {
   "cell_type": "code",
   "execution_count": 2,
   "metadata": {},
   "outputs": [
    {
     "name": "stderr",
     "output_type": "stream",
     "text": [
      "No runs with the name predominant_melody_makam in experiment data_processing\n"
     ]
    }
   ],
   "source": [
    "run = mre.mlflow_common.get_run_by_name(\n",
    "    mre.data.PredominantMelodyMakam.EXPERIMENT_NAME,\n",
    "    mre.data.PredominantMelodyMakam.RUN_NAME)\n",
    "\n",
    "if run is not None:\n",
    "    raise ValueError(\n",
    "        \"There is already a run for %s:%s. Overwriting is not \"\n",
    "        \"permitted. Please delete the run manually if you want \"\n",
    "        \"to extract the predominant melody again.\"\n",
    "        % (mre.data.PredominantMelodyMakam.RUN_NAME, run.run_id))\n"
   ]
  },
  {
   "cell_type": "markdown",
   "metadata": {},
   "source": [
    "# Read audio filepaths from mlflow\n"
   ]
  },
  {
   "cell_type": "code",
   "execution_count": 3,
   "metadata": {},
   "outputs": [
    {
     "data": {
      "text/plain": [
       "['/data/artifacts/2/554e83365d9247f98721cf64011d7abd/artifacts/006536f8-bf54-4cc0-a510-5a52456d09f8.mp3',\n",
       " '/data/artifacts/2/554e83365d9247f98721cf64011d7abd/artifacts/009309d2-c260-4808-8f1d-44a5ddc6bc5f.mp3',\n",
       " '/data/artifacts/2/554e83365d9247f98721cf64011d7abd/artifacts/00a48b5f-a35a-436c-a7a0-4438130f4abf.mp3',\n",
       " '/data/artifacts/2/554e83365d9247f98721cf64011d7abd/artifacts/00ab81ec-07f8-47ba-9610-47ad56393eb9.mp3',\n",
       " '/data/artifacts/2/554e83365d9247f98721cf64011d7abd/artifacts/00be9a4b-b85f-4601-a6d5-9ce1f5b3f91c.mp3']"
      ]
     },
     "metadata": {},
     "output_type": "display_data"
    }
   ],
   "source": [
    "audio_paths = mre.data.Audio.from_mlflow()\n",
    "display(audio_paths[:5])"
   ]
  },
  {
   "cell_type": "markdown",
   "metadata": {},
   "source": [
    "# Extract predominant melody from audio recordings and log to mlflow\n"
   ]
  },
  {
   "cell_type": "code",
   "execution_count": 4,
   "metadata": {},
   "outputs": [
    {
     "name": "stderr",
     "output_type": "stream",
     "text": [
      "100%|██████████| 1000/1000 [11:26:16<00:00, 41.18s/it]  \n",
      "No runs with the name predominant_melody_makam in experiment data_processing\n"
     ]
    }
   ],
   "source": [
    "pmm = mre.data.PredominantMelodyMakam()\n",
    "pmm.transform(audio_paths)\n",
    "pmm.log()\n"
   ]
  }
 ],
 "metadata": {
  "kernelspec": {
   "display_name": "Python 3",
   "language": "python",
   "name": "python3"
  },
  "language_info": {
   "codemirror_mode": {
    "name": "ipython",
    "version": 3
   },
   "file_extension": ".py",
   "mimetype": "text/x-python",
   "name": "python",
   "nbconvert_exporter": "python",
   "pygments_lexer": "ipython3",
   "version": "3.7.6"
  },
  "toc": {
   "base_numbering": 1,
   "nav_menu": {},
   "number_sections": true,
   "sideBar": true,
   "skip_h1_title": false,
   "title_cell": "Table of Contents",
   "title_sidebar": "Contents",
   "toc_cell": false,
   "toc_position": {},
   "toc_section_display": true,
   "toc_window_display": false
  }
 },
 "nbformat": 4,
 "nbformat_minor": 4
}
