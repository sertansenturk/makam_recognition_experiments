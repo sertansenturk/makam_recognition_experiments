{
 "cells": [
  {
   "cell_type": "code",
   "execution_count": 1,
   "metadata": {},
   "outputs": [],
   "source": [
    "from pathlib import Path\n",
    "from typing import Dict\n",
    "\n",
    "import mre\n",
    "import numpy as np\n",
    "import pandas as pd\n",
    "import seaborn as sns\n",
    "\n",
    "from tomato.audio.pitchdistribution import PitchDistribution\n",
    "\n",
    "from matplotlib import pyplot as plt\n",
    "\n",
    "from sklearn.neighbors import KNeighborsClassifier\n",
    "from sklearn.neural_network import MLPClassifier\n",
    "from sklearn.svm import SVC\n",
    "from sklearn.ensemble import ExtraTreesClassifier, GradientBoostingClassifier, RandomForestClassifier\n",
    "from sklearn.linear_model import LogisticRegression\n",
    "from sklearn.tree import DecisionTreeClassifier\n",
    "\n",
    "%load_ext autoreload\n",
    "%autoreload 2\n"
   ]
  },
  {
   "cell_type": "markdown",
   "metadata": {},
   "source": [
    "## helper functions\n",
    "\n",
    "We only need these once in the experiments, therefore there is no need to add them to `mre`."
   ]
  },
  {
   "cell_type": "code",
   "execution_count": 2,
   "metadata": {},
   "outputs": [],
   "source": [
    "def bhat(mtx1, mtx2):\n",
    "    return -np.log(np.sum(np.sqrt(mtx1 * mtx2)))\n"
   ]
  },
  {
   "cell_type": "code",
   "execution_count": 3,
   "metadata": {},
   "outputs": [],
   "source": [
    "def prepare_dataset(annotations, pcd_files, pcd_tags):\n",
    "    NUM_BINS = int(1200 / float(pcd_tags[\"step_size\"]))\n",
    "    \n",
    "    # prepare features\n",
    "    X = np.zeros((len(annotations.data), NUM_BINS))\n",
    "    mbids = np.array([])\n",
    "    for ii, pf in enumerate(pcd_files):\n",
    "        vals = PitchDistribution.from_json(pf).vals\n",
    "        if len(vals) != NUM_BINS:\n",
    "            raise ValueError(\n",
    "                \"%s has %d bins instead of %d.\"\n",
    "                % (pf, len(vals), NUM_BINS)\n",
    "            )\n",
    "        X[ii, :] = PitchDistribution.from_json(pf).vals\n",
    "        mbids = np.append(mbids, Path(pf).stem)\n",
    "\n",
    "    y = annotations.data.set_index(\"mbid\").loc[mbids].makam.values\n",
    "\n",
    "    return mre.data.dataset.Dataset(X, y)\n"
   ]
  },
  {
   "cell_type": "markdown",
   "metadata": {},
   "source": [
    "# Read data"
   ]
  },
  {
   "cell_type": "markdown",
   "metadata": {},
   "source": [
    "## Annotations"
   ]
  },
  {
   "cell_type": "code",
   "execution_count": 4,
   "metadata": {},
   "outputs": [
    {
     "data": {
      "text/html": [
       "<div>\n",
       "<style scoped>\n",
       "    .dataframe tbody tr th:only-of-type {\n",
       "        vertical-align: middle;\n",
       "    }\n",
       "\n",
       "    .dataframe tbody tr th {\n",
       "        vertical-align: top;\n",
       "    }\n",
       "\n",
       "    .dataframe thead th {\n",
       "        text-align: right;\n",
       "    }\n",
       "</style>\n",
       "<table border=\"1\" class=\"dataframe\">\n",
       "  <thead>\n",
       "    <tr style=\"text-align: right;\">\n",
       "      <th></th>\n",
       "      <th>dunya_uid</th>\n",
       "      <th>makam</th>\n",
       "      <th>mb_url</th>\n",
       "      <th>mbid</th>\n",
       "      <th>observations</th>\n",
       "      <th>tonic</th>\n",
       "      <th>verified</th>\n",
       "    </tr>\n",
       "  </thead>\n",
       "  <tbody>\n",
       "    <tr>\n",
       "      <th>0</th>\n",
       "      <td>00f1c6d9-c8ee-45e3-a06f-0882ebcb4e2f</td>\n",
       "      <td>Acemasiran</td>\n",
       "      <td>http://musicbrainz.org/recording/00f1c6d9-c8ee...</td>\n",
       "      <td>00f1c6d9-c8ee-45e3-a06f-0882ebcb4e2f</td>\n",
       "      <td></td>\n",
       "      <td>256.0</td>\n",
       "      <td>False</td>\n",
       "    </tr>\n",
       "    <tr>\n",
       "      <th>1</th>\n",
       "      <td>168f7c75-84fb-4316-99d7-acabadd3b2e6</td>\n",
       "      <td>Acemasiran</td>\n",
       "      <td>http://musicbrainz.org/recording/168f7c75-84fb...</td>\n",
       "      <td>168f7c75-84fb-4316-99d7-acabadd3b2e6</td>\n",
       "      <td></td>\n",
       "      <td>115.2</td>\n",
       "      <td>False</td>\n",
       "    </tr>\n",
       "    <tr>\n",
       "      <th>2</th>\n",
       "      <td>24f549dd-3fa4-4e9b-a356-778fbbfd5cad</td>\n",
       "      <td>Acemasiran</td>\n",
       "      <td>http://musicbrainz.org/recording/24f549dd-3fa4...</td>\n",
       "      <td>24f549dd-3fa4-4e9b-a356-778fbbfd5cad</td>\n",
       "      <td></td>\n",
       "      <td>232.5</td>\n",
       "      <td>False</td>\n",
       "    </tr>\n",
       "    <tr>\n",
       "      <th>3</th>\n",
       "      <td>407bb0b4-f19b-42ab-8c0a-9f1263126951</td>\n",
       "      <td>Acemasiran</td>\n",
       "      <td>http://musicbrainz.org/recording/407bb0b4-f19b...</td>\n",
       "      <td>407bb0b4-f19b-42ab-8c0a-9f1263126951</td>\n",
       "      <td></td>\n",
       "      <td>233.5</td>\n",
       "      <td>False</td>\n",
       "    </tr>\n",
       "    <tr>\n",
       "      <th>4</th>\n",
       "      <td>443819eb-6092-420c-bd86-d946a0ad6555</td>\n",
       "      <td>Acemasiran</td>\n",
       "      <td>http://musicbrainz.org/recording/443819eb-6092...</td>\n",
       "      <td>443819eb-6092-420c-bd86-d946a0ad6555</td>\n",
       "      <td></td>\n",
       "      <td>219.6</td>\n",
       "      <td>False</td>\n",
       "    </tr>\n",
       "  </tbody>\n",
       "</table>\n",
       "</div>"
      ],
      "text/plain": [
       "                              dunya_uid       makam  \\\n",
       "0  00f1c6d9-c8ee-45e3-a06f-0882ebcb4e2f  Acemasiran   \n",
       "1  168f7c75-84fb-4316-99d7-acabadd3b2e6  Acemasiran   \n",
       "2  24f549dd-3fa4-4e9b-a356-778fbbfd5cad  Acemasiran   \n",
       "3  407bb0b4-f19b-42ab-8c0a-9f1263126951  Acemasiran   \n",
       "4  443819eb-6092-420c-bd86-d946a0ad6555  Acemasiran   \n",
       "\n",
       "                                              mb_url  \\\n",
       "0  http://musicbrainz.org/recording/00f1c6d9-c8ee...   \n",
       "1  http://musicbrainz.org/recording/168f7c75-84fb...   \n",
       "2  http://musicbrainz.org/recording/24f549dd-3fa4...   \n",
       "3  http://musicbrainz.org/recording/407bb0b4-f19b...   \n",
       "4  http://musicbrainz.org/recording/443819eb-6092...   \n",
       "\n",
       "                                   mbid observations  tonic  verified  \n",
       "0  00f1c6d9-c8ee-45e3-a06f-0882ebcb4e2f               256.0     False  \n",
       "1  168f7c75-84fb-4316-99d7-acabadd3b2e6               115.2     False  \n",
       "2  24f549dd-3fa4-4e9b-a356-778fbbfd5cad               232.5     False  \n",
       "3  407bb0b4-f19b-42ab-8c0a-9f1263126951               233.5     False  \n",
       "4  443819eb-6092-420c-bd86-d946a0ad6555               219.6     False  "
      ]
     },
     "metadata": {},
     "output_type": "display_data"
    }
   ],
   "source": [
    "annotations = mre.data.Annotation.from_mlflow()\n",
    "display(annotations.head())"
   ]
  },
  {
   "cell_type": "markdown",
   "metadata": {},
   "source": [
    "## Pitch Class Distributions"
   ]
  },
  {
   "cell_type": "code",
   "execution_count": 5,
   "metadata": {},
   "outputs": [],
   "source": [
    "pcd_files = mre.data.PitchClassDistribution.from_mlflow()\n",
    "pcd_tags = mre.data.PitchClassDistribution.get_tags()\n"
   ]
  },
  {
   "cell_type": "markdown",
   "metadata": {},
   "source": [
    "# Prepare inputs"
   ]
  },
  {
   "cell_type": "code",
   "execution_count": 6,
   "metadata": {},
   "outputs": [
    {
     "name": "stdout",
     "output_type": "stream",
     "text": [
      "Dataset with 1000 samples and 48 feature dimensions.\n"
     ]
    }
   ],
   "source": [
    "dataset = prepare_dataset(annotations, pcd_files, pcd_tags)\n",
    "print(dataset)\n"
   ]
  },
  {
   "cell_type": "markdown",
   "metadata": {},
   "source": [
    "# Experimental Setup"
   ]
  },
  {
   "cell_type": "code",
   "execution_count": 7,
   "metadata": {},
   "outputs": [],
   "source": [
    "ARCHITECTURES = [\n",
    "    mre.experimentation.Architecture(  # from yesiler et al\n",
    "        name=\"MultiLayerPerceptron\",\n",
    "        estimator=MLPClassifier(\n",
    "            momentum=0.5,\n",
    "            max_iter=10000,\n",
    "            learning_rate=\"adaptive\",\n",
    "            learning_rate_init=0.001),\n",
    "        param_grid={\n",
    "            \"hidden_layer_sizes\": [50, 100],\n",
    "            \"alpha\": [0.01, 0.001]\n",
    "        }\n",
    "    ),\n",
    "    mre.experimentation.Architecture(  # from demirel et al\n",
    "        name=\"SVM\",\n",
    "        estimator=SVC(kernel=\"rbf\"),\n",
    "        param_grid={\n",
    "            \"C\": [10, 100, 1000],  # .001, .01, .1, 1 give worse results, omitted\n",
    "            \"gamma\": [.1, 1, 10]  # .001, .01 give worse results, omitted\n",
    "        }\n",
    "    ),\n",
    "    mre.experimentation.Architecture(  # from karakurt et al (morty)\n",
    "        name=\"KNN\",\n",
    "        estimator=KNeighborsClassifier(),\n",
    "        param_grid={\n",
    "            \"n_neighbors\": [1, 3],\n",
    "            \"weights\": [\"distance\"],  # \"uniform\" give worse results, omitted \n",
    "            \"metric\": [bhat, \"manhattan\"]  # \"euclidean\" gives worse results, omitted\n",
    "        }\n",
    "    ),\n",
    "    mre.experimentation.Architecture(\n",
    "        name=\"LogisticRegression\",\n",
    "        estimator=LogisticRegression(max_iter=100, solver=\"saga\"),\n",
    "        param_grid={\n",
    "            \"penalty\": [\"l2\", 'l1'],\n",
    "            \"C\": [0.1, 1, 10]\n",
    "        }\n",
    "    ),\n",
    "#     mre.experimentation.Architecture(  # overfits heavily, omitted\n",
    "#         name=\"RandomForest\",\n",
    "#         estimator=RandomForestClassifier(),\n",
    "#         param_grid={\n",
    "#             \"n_estimators\": [5, 10, 25, 50],\n",
    "#             \"criterion\": [\"gini\", \"entropy\"],\n",
    "#             \"max_depth\": [5, 10, 25, 50]\n",
    "#         }\n",
    "#     ),\n",
    "#     mre.experimentation.Architecture(  # bad overall; commented\n",
    "#         name=\"DecisionTree\",\n",
    "#         estimator=DecisionTreeClassifier(),\n",
    "#         param_grid={\n",
    "#             \"criterion\": [\"gini\", \"entropy\"],\n",
    "#             \"max_depth\": [5, 10, 25, 50]\n",
    "#         }\n",
    "#     ),\n",
    "]\n"
   ]
  },
  {
   "cell_type": "markdown",
   "metadata": {},
   "source": [
    "## Nested 10 fold"
   ]
  },
  {
   "cell_type": "code",
   "execution_count": 8,
   "metadata": {},
   "outputs": [
    {
     "name": "stdout",
     "output_type": "stream",
     "text": [
      "Trial 0\n",
      "   MultiLayerPerceptron, Test acc: 0.72∓0.04, Train acc: 0.89∓0.02, Max fit time: 1741.4 sec, Best Params: {'alpha': 0.001, 'hidden_layer_sizes': 100}\n",
      "   SVM                 , Test acc: 0.72∓0.03, Train acc: 0.82∓0.01, Max fit time: 12.3 sec, Best Params: {'C': 10, 'gamma': 10}\n",
      "   KNN                 , Test acc: 0.68∓0.05, Train acc: 0.89∓0.00, Max fit time: 182.6 sec, Best Params: {'metric': <function bhat at 0x7fcd809c10e0>, 'n_neighbors': 3, 'weights': 'distance'}\n",
      "   LogisticRegression  , Test acc: 0.69∓0.04, Train acc: 0.74∓0.01, Max fit time: 46.9 sec, Best Params: {'C': 10, 'penalty': 'l1'}\n",
      "Trial 1\n",
      "   MultiLayerPerceptron, Test acc: 0.72∓0.03, Train acc: 0.87∓0.03, Max fit time: 1625.0 sec, Best Params: {'alpha': 0.001, 'hidden_layer_sizes': 100}\n",
      "   SVM                 , Test acc: 0.72∓0.04, Train acc: 0.82∓0.01, Max fit time: 13.4 sec, Best Params: {'C': 10, 'gamma': 10}\n",
      "   KNN                 , Test acc: 0.68∓0.03, Train acc: 0.89∓0.00, Max fit time: 182.1 sec, Best Params: {'metric': <function bhat at 0x7fcd809c1a70>, 'n_neighbors': 3, 'weights': 'distance'}\n",
      "   LogisticRegression  , Test acc: 0.69∓0.03, Train acc: 0.74∓0.00, Max fit time: 47.4 sec, Best Params: {'C': 10, 'penalty': 'l1'}\n",
      "Trial 2\n",
      "   MultiLayerPerceptron, Test acc: 0.73∓0.03, Train acc: 0.85∓0.03, Max fit time: 1612.4 sec, Best Params: {'alpha': 0.001, 'hidden_layer_sizes': 100}\n",
      "   SVM                 , Test acc: 0.71∓0.04, Train acc: 0.82∓0.02, Max fit time: 12.3 sec, Best Params: {'C': 10, 'gamma': 10}\n",
      "   KNN                 , Test acc: 0.68∓0.05, Train acc: 0.89∓0.00, Max fit time: 181.8 sec, Best Params: {'metric': <function bhat at 0x7fcd80833830>, 'n_neighbors': 3, 'weights': 'distance'}\n",
      "   LogisticRegression  , Test acc: 0.69∓0.05, Train acc: 0.74∓0.01, Max fit time: 47.7 sec, Best Params: {'C': 10, 'penalty': 'l1'}\n",
      "Trial 3\n",
      "   MultiLayerPerceptron, Test acc: 0.74∓0.03, Train acc: 0.85∓0.03, Max fit time: 1568.0 sec, Best Params: {'alpha': 0.001, 'hidden_layer_sizes': 100}\n",
      "   SVM                 , Test acc: 0.72∓0.04, Train acc: 0.82∓0.03, Max fit time: 13.9 sec, Best Params: {'C': 10, 'gamma': 10}\n",
      "   KNN                 , Test acc: 0.69∓0.03, Train acc: 0.89∓0.00, Max fit time: 180.6 sec, Best Params: {'metric': <function bhat at 0x7fcd80686680>, 'n_neighbors': 3, 'weights': 'distance'}\n",
      "   LogisticRegression  , Test acc: 0.69∓0.05, Train acc: 0.74∓0.01, Max fit time: 47.5 sec, Best Params: {'C': 10, 'penalty': 'l1'}\n",
      "Trial 4\n",
      "   MultiLayerPerceptron, Test acc: 0.72∓0.04, Train acc: 0.86∓0.03, Max fit time: 1710.8 sec, Best Params: {'alpha': 0.001, 'hidden_layer_sizes': 100}\n",
      "   SVM                 , Test acc: 0.72∓0.03, Train acc: 0.82∓0.03, Max fit time: 12.9 sec, Best Params: {'C': 10, 'gamma': 10}\n",
      "   KNN                 , Test acc: 0.69∓0.04, Train acc: 0.89∓0.00, Max fit time: 176.1 sec, Best Params: {'metric': <function bhat at 0x7fcd80545950>, 'n_neighbors': 3, 'weights': 'distance'}\n",
      "   LogisticRegression  , Test acc: 0.69∓0.06, Train acc: 0.73∓0.01, Max fit time: 46.6 sec, Best Params: {'C': 10, 'penalty': 'l1'}\n",
      "Trial 5\n",
      "   MultiLayerPerceptron, Test acc: 0.71∓0.04, Train acc: 0.88∓0.03, Max fit time: 1618.1 sec, Best Params: {'alpha': 0.001, 'hidden_layer_sizes': 100}\n",
      "   SVM                 , Test acc: 0.70∓0.03, Train acc: 0.83∓0.03, Max fit time: 14.0 sec, Best Params: {'C': 10, 'gamma': 10}\n",
      "   KNN                 , Test acc: 0.68∓0.02, Train acc: 0.89∓0.00, Max fit time: 189.6 sec, Best Params: {'metric': <function bhat at 0x7fcd80545d40>, 'n_neighbors': 3, 'weights': 'distance'}\n",
      "   LogisticRegression  , Test acc: 0.69∓0.03, Train acc: 0.74∓0.01, Max fit time: 47.8 sec, Best Params: {'C': 10, 'penalty': 'l1'}\n",
      "Trial 6\n",
      "   MultiLayerPerceptron, Test acc: 0.72∓0.03, Train acc: 0.86∓0.02, Max fit time: 1879.9 sec, Best Params: {'alpha': 0.001, 'hidden_layer_sizes': 50}\n",
      "   SVM                 , Test acc: 0.72∓0.03, Train acc: 0.83∓0.02, Max fit time: 12.9 sec, Best Params: {'C': 10, 'gamma': 10}\n",
      "   KNN                 , Test acc: 0.68∓0.04, Train acc: 0.89∓0.00, Max fit time: 217.5 sec, Best Params: {'metric': <function bhat at 0x7fcd804d6d40>, 'n_neighbors': 3, 'weights': 'distance'}\n",
      "   LogisticRegression  , Test acc: 0.69∓0.03, Train acc: 0.74∓0.01, Max fit time: 45.7 sec, Best Params: {'C': 10, 'penalty': 'l1'}\n",
      "Trial 7\n",
      "   MultiLayerPerceptron, Test acc: 0.74∓0.04, Train acc: 0.89∓0.03, Max fit time: 1808.9 sec, Best Params: {'alpha': 0.001, 'hidden_layer_sizes': 100}\n",
      "   SVM                 , Test acc: 0.72∓0.03, Train acc: 0.82∓0.01, Max fit time: 13.4 sec, Best Params: {'C': 100, 'gamma': 1}\n",
      "   KNN                 , Test acc: 0.69∓0.04, Train acc: 0.89∓0.00, Max fit time: 192.4 sec, Best Params: {'metric': <function bhat at 0x7fcd80208b00>, 'n_neighbors': 3, 'weights': 'distance'}\n",
      "   LogisticRegression  , Test acc: 0.69∓0.03, Train acc: 0.74∓0.01, Max fit time: 47.2 sec, Best Params: {'C': 10, 'penalty': 'l1'}\n",
      "Trial 8\n",
      "   MultiLayerPerceptron, Test acc: 0.73∓0.04, Train acc: 0.87∓0.03, Max fit time: 1715.4 sec, Best Params: {'alpha': 0.001, 'hidden_layer_sizes': 100}\n",
      "   SVM                 , Test acc: 0.71∓0.04, Train acc: 0.82∓0.02, Max fit time: 13.0 sec, Best Params: {'C': 10, 'gamma': 10}\n",
      "   KNN                 , Test acc: 0.68∓0.05, Train acc: 0.89∓0.00, Max fit time: 196.0 sec, Best Params: {'metric': <function bhat at 0x7fcd7bee3680>, 'n_neighbors': 3, 'weights': 'distance'}\n",
      "   LogisticRegression  , Test acc: 0.69∓0.04, Train acc: 0.74∓0.01, Max fit time: 47.5 sec, Best Params: {'C': 10, 'penalty': 'l1'}\n",
      "Trial 9\n",
      "   MultiLayerPerceptron, Test acc: 0.74∓0.04, Train acc: 0.88∓0.03, Max fit time: 1722.2 sec, Best Params: {'alpha': 0.001, 'hidden_layer_sizes': 100}\n",
      "   SVM                 , Test acc: 0.71∓0.04, Train acc: 0.83∓0.03, Max fit time: 13.4 sec, Best Params: {'C': 10, 'gamma': 10}\n",
      "   KNN                 , Test acc: 0.69∓0.05, Train acc: 0.89∓0.00, Max fit time: 191.1 sec, Best Params: {'metric': <function bhat at 0x7fcd7bca4560>, 'n_neighbors': 3, 'weights': 'distance'}\n",
      "   LogisticRegression  , Test acc: 0.69∓0.04, Train acc: 0.74∓0.01, Max fit time: 48.0 sec, Best Params: {'C': 10, 'penalty': 'l1'}\n"
     ]
    },
    {
     "data": {
      "text/html": [
       "<div>\n",
       "<style scoped>\n",
       "    .dataframe tbody tr th:only-of-type {\n",
       "        vertical-align: middle;\n",
       "    }\n",
       "\n",
       "    .dataframe tbody tr th {\n",
       "        vertical-align: top;\n",
       "    }\n",
       "\n",
       "    .dataframe thead th {\n",
       "        text-align: right;\n",
       "    }\n",
       "</style>\n",
       "<table border=\"1\" class=\"dataframe\">\n",
       "  <thead>\n",
       "    <tr style=\"text-align: right;\">\n",
       "      <th></th>\n",
       "      <th>architecture</th>\n",
       "      <th>best_params_</th>\n",
       "      <th>cv_results_</th>\n",
       "      <th>fit_time</th>\n",
       "      <th>score_time</th>\n",
       "      <th>split_id</th>\n",
       "      <th>test_score</th>\n",
       "      <th>train_score</th>\n",
       "      <th>trial_id</th>\n",
       "    </tr>\n",
       "  </thead>\n",
       "  <tbody>\n",
       "    <tr>\n",
       "      <th>0</th>\n",
       "      <td>MultiLayerPerceptron</td>\n",
       "      <td>{'alpha': 0.001, 'hidden_layer_sizes': 100}</td>\n",
       "      <td>{'mean_fit_time': [240.78394026756285, 200.119...</td>\n",
       "      <td>1522.868211</td>\n",
       "      <td>0.007163</td>\n",
       "      <td>0</td>\n",
       "      <td>0.75</td>\n",
       "      <td>0.852222</td>\n",
       "      <td>0</td>\n",
       "    </tr>\n",
       "    <tr>\n",
       "      <th>1</th>\n",
       "      <td>MultiLayerPerceptron</td>\n",
       "      <td>{'alpha': 0.001, 'hidden_layer_sizes': 100}</td>\n",
       "      <td>{'mean_fit_time': [244.10752544403076, 203.669...</td>\n",
       "      <td>1703.108196</td>\n",
       "      <td>0.011048</td>\n",
       "      <td>1</td>\n",
       "      <td>0.71</td>\n",
       "      <td>0.891111</td>\n",
       "      <td>0</td>\n",
       "    </tr>\n",
       "    <tr>\n",
       "      <th>2</th>\n",
       "      <td>MultiLayerPerceptron</td>\n",
       "      <td>{'alpha': 0.001, 'hidden_layer_sizes': 100}</td>\n",
       "      <td>{'mean_fit_time': [232.59046065807343, 206.450...</td>\n",
       "      <td>1637.239339</td>\n",
       "      <td>0.013682</td>\n",
       "      <td>2</td>\n",
       "      <td>0.73</td>\n",
       "      <td>0.900000</td>\n",
       "      <td>0</td>\n",
       "    </tr>\n",
       "    <tr>\n",
       "      <th>3</th>\n",
       "      <td>MultiLayerPerceptron</td>\n",
       "      <td>{'alpha': 0.001, 'hidden_layer_sizes': 100}</td>\n",
       "      <td>{'mean_fit_time': [257.0149509906769, 204.5143...</td>\n",
       "      <td>1741.354342</td>\n",
       "      <td>0.008712</td>\n",
       "      <td>3</td>\n",
       "      <td>0.64</td>\n",
       "      <td>0.917778</td>\n",
       "      <td>0</td>\n",
       "    </tr>\n",
       "    <tr>\n",
       "      <th>4</th>\n",
       "      <td>MultiLayerPerceptron</td>\n",
       "      <td>{'alpha': 0.001, 'hidden_layer_sizes': 100}</td>\n",
       "      <td>{'mean_fit_time': [233.08519644737243, 198.554...</td>\n",
       "      <td>1577.472941</td>\n",
       "      <td>0.006910</td>\n",
       "      <td>4</td>\n",
       "      <td>0.68</td>\n",
       "      <td>0.888889</td>\n",
       "      <td>0</td>\n",
       "    </tr>\n",
       "  </tbody>\n",
       "</table>\n",
       "</div>"
      ],
      "text/plain": [
       "           architecture                                 best_params_  \\\n",
       "0  MultiLayerPerceptron  {'alpha': 0.001, 'hidden_layer_sizes': 100}   \n",
       "1  MultiLayerPerceptron  {'alpha': 0.001, 'hidden_layer_sizes': 100}   \n",
       "2  MultiLayerPerceptron  {'alpha': 0.001, 'hidden_layer_sizes': 100}   \n",
       "3  MultiLayerPerceptron  {'alpha': 0.001, 'hidden_layer_sizes': 100}   \n",
       "4  MultiLayerPerceptron  {'alpha': 0.001, 'hidden_layer_sizes': 100}   \n",
       "\n",
       "                                         cv_results_     fit_time  score_time  \\\n",
       "0  {'mean_fit_time': [240.78394026756285, 200.119...  1522.868211    0.007163   \n",
       "1  {'mean_fit_time': [244.10752544403076, 203.669...  1703.108196    0.011048   \n",
       "2  {'mean_fit_time': [232.59046065807343, 206.450...  1637.239339    0.013682   \n",
       "3  {'mean_fit_time': [257.0149509906769, 204.5143...  1741.354342    0.008712   \n",
       "4  {'mean_fit_time': [233.08519644737243, 198.554...  1577.472941    0.006910   \n",
       "\n",
       "   split_id  test_score  train_score  trial_id  \n",
       "0         0        0.75     0.852222         0  \n",
       "1         1        0.71     0.891111         0  \n",
       "2         2        0.73     0.900000         0  \n",
       "3         3        0.64     0.917778         0  \n",
       "4         4        0.68     0.888889         0  "
      ]
     },
     "execution_count": 8,
     "metadata": {},
     "output_type": "execute_result"
    }
   ],
   "source": [
    "nested_stratified_10_fold_cv_experiment = mre.experimentation.NestedStratified10FoldCV(\n",
    "    num_splits=10, num_trials=10\n",
    ")\n",
    "\n",
    "nested_stratified_10_fold_cv_experiment.run(dataset, ARCHITECTURES)\n",
    "nested_stratified_10_fold_cv_experiment.results.head()"
   ]
  },
  {
   "cell_type": "code",
   "execution_count": 10,
   "metadata": {},
   "outputs": [
    {
     "data": {
      "image/png": "[encoded data removed]",
      "text/plain": [
       "<Figure size 432x288 with 1 Axes>"
      ]
     },
     "metadata": {
      "needs_background": "light"
     },
     "output_type": "display_data"
    }
   ],
   "source": [
    "_ = nested_stratified_10_fold_cv_experiment.boxplot_best_models()"
   ]
  },
  {
   "cell_type": "markdown",
   "metadata": {},
   "source": [
    "## 10 fold"
   ]
  },
  {
   "cell_type": "code",
   "execution_count": 11,
   "metadata": {},
   "outputs": [
    {
     "name": "stdout",
     "output_type": "stream",
     "text": [
      "Trial 0\n",
      "  MultiLayerPerceptron, Mean/std test acc : 0.72∓0.04, Mean/std train acc: 0.89∓0.01, Max fit time: 144.8 sec, Best Params: {'alpha': 0.001, 'hidden_layer_sizes': 100}\n",
      "  SVM                 , Mean/std test acc : 0.72∓0.04, Mean/std train acc: 0.81∓0.00, Max fit time: 0.2 sec, Best Params: {'C': 1000, 'gamma': 0.1}\n",
      "  KNN                 , Mean/std test acc : 0.68∓0.05, Mean/std train acc: 0.89∓0.00, Max fit time: 0.1 sec, Best Params: {'metric': <function bhat at 0x7fcd812014d0>, 'n_neighbors': 3, 'weights': 'distance'}\n"
     ]
    },
    {
     "name": "stderr",
     "output_type": "stream",
     "text": [
      "/opt/conda/lib/python3.7/site-packages/sklearn/linear_model/_sag.py:330: ConvergenceWarning: The max_iter was reached which means the coef_ did not converge\n",
      "  \"the coef_ did not converge\", ConvergenceWarning)\n"
     ]
    },
    {
     "name": "stdout",
     "output_type": "stream",
     "text": [
      "  LogisticRegression  , Mean/std test acc : 0.69∓0.04, Mean/std train acc: 0.74∓0.01, Max fit time: 1.9 sec, Best Params: {'C': 10, 'penalty': 'l1'}\n",
      "Trial 1\n",
      "  MultiLayerPerceptron, Mean/std test acc : 0.72∓0.03, Mean/std train acc: 0.82∓0.01, Max fit time: 157.0 sec, Best Params: {'alpha': 0.01, 'hidden_layer_sizes': 100}\n",
      "  SVM                 , Mean/std test acc : 0.72∓0.03, Mean/std train acc: 0.82∓0.01, Max fit time: 0.2 sec, Best Params: {'C': 10, 'gamma': 10}\n",
      "  KNN                 , Mean/std test acc : 0.68∓0.03, Mean/std train acc: 0.89∓0.00, Max fit time: 0.1 sec, Best Params: {'metric': <function bhat at 0x7fcd812014d0>, 'n_neighbors': 3, 'weights': 'distance'}\n"
     ]
    },
    {
     "name": "stderr",
     "output_type": "stream",
     "text": [
      "/opt/conda/lib/python3.7/site-packages/sklearn/linear_model/_sag.py:330: ConvergenceWarning: The max_iter was reached which means the coef_ did not converge\n",
      "  \"the coef_ did not converge\", ConvergenceWarning)\n"
     ]
    },
    {
     "name": "stdout",
     "output_type": "stream",
     "text": [
      "  LogisticRegression  , Mean/std test acc : 0.69∓0.03, Mean/std train acc: 0.74∓0.00, Max fit time: 2.1 sec, Best Params: {'C': 10, 'penalty': 'l1'}\n",
      "Trial 2\n",
      "  MultiLayerPerceptron, Mean/std test acc : 0.73∓0.04, Mean/std train acc: 0.83∓0.02, Max fit time: 153.2 sec, Best Params: {'alpha': 0.01, 'hidden_layer_sizes': 100}\n",
      "  SVM                 , Mean/std test acc : 0.72∓0.03, Mean/std train acc: 0.82∓0.00, Max fit time: 0.2 sec, Best Params: {'C': 10, 'gamma': 10}\n",
      "  KNN                 , Mean/std test acc : 0.68∓0.05, Mean/std train acc: 0.89∓0.00, Max fit time: 0.1 sec, Best Params: {'metric': <function bhat at 0x7fcd812014d0>, 'n_neighbors': 3, 'weights': 'distance'}\n"
     ]
    },
    {
     "name": "stderr",
     "output_type": "stream",
     "text": [
      "/opt/conda/lib/python3.7/site-packages/sklearn/linear_model/_sag.py:330: ConvergenceWarning: The max_iter was reached which means the coef_ did not converge\n",
      "  \"the coef_ did not converge\", ConvergenceWarning)\n"
     ]
    },
    {
     "name": "stdout",
     "output_type": "stream",
     "text": [
      "  LogisticRegression  , Mean/std test acc : 0.69∓0.05, Mean/std train acc: 0.74∓0.01, Max fit time: 1.9 sec, Best Params: {'C': 10, 'penalty': 'l1'}\n",
      "Trial 3\n",
      "  MultiLayerPerceptron, Mean/std test acc : 0.74∓0.03, Mean/std train acc: 0.82∓0.01, Max fit time: 138.9 sec, Best Params: {'alpha': 0.01, 'hidden_layer_sizes': 100}\n",
      "  SVM                 , Mean/std test acc : 0.73∓0.04, Mean/std train acc: 0.82∓0.01, Max fit time: 0.2 sec, Best Params: {'C': 10, 'gamma': 10}\n",
      "  KNN                 , Mean/std test acc : 0.69∓0.03, Mean/std train acc: 0.89∓0.00, Max fit time: 0.1 sec, Best Params: {'metric': <function bhat at 0x7fcd812014d0>, 'n_neighbors': 3, 'weights': 'distance'}\n"
     ]
    },
    {
     "name": "stderr",
     "output_type": "stream",
     "text": [
      "/opt/conda/lib/python3.7/site-packages/sklearn/linear_model/_sag.py:330: ConvergenceWarning: The max_iter was reached which means the coef_ did not converge\n",
      "  \"the coef_ did not converge\", ConvergenceWarning)\n"
     ]
    },
    {
     "name": "stdout",
     "output_type": "stream",
     "text": [
      "  LogisticRegression  , Mean/std test acc : 0.69∓0.05, Mean/std train acc: 0.74∓0.01, Max fit time: 1.9 sec, Best Params: {'C': 10, 'penalty': 'l1'}\n",
      "Trial 4\n",
      "  MultiLayerPerceptron, Mean/std test acc : 0.73∓0.04, Mean/std train acc: 0.82∓0.01, Max fit time: 130.6 sec, Best Params: {'alpha': 0.01, 'hidden_layer_sizes': 100}\n",
      "  SVM                 , Mean/std test acc : 0.73∓0.02, Mean/std train acc: 0.82∓0.01, Max fit time: 0.2 sec, Best Params: {'C': 10, 'gamma': 10}\n",
      "  KNN                 , Mean/std test acc : 0.69∓0.04, Mean/std train acc: 0.89∓0.00, Max fit time: 0.1 sec, Best Params: {'metric': <function bhat at 0x7fcd812014d0>, 'n_neighbors': 3, 'weights': 'distance'}\n"
     ]
    },
    {
     "name": "stderr",
     "output_type": "stream",
     "text": [
      "/opt/conda/lib/python3.7/site-packages/sklearn/linear_model/_sag.py:330: ConvergenceWarning: The max_iter was reached which means the coef_ did not converge\n",
      "  \"the coef_ did not converge\", ConvergenceWarning)\n"
     ]
    },
    {
     "name": "stdout",
     "output_type": "stream",
     "text": [
      "  LogisticRegression  , Mean/std test acc : 0.69∓0.06, Mean/std train acc: 0.73∓0.01, Max fit time: 1.9 sec, Best Params: {'C': 10, 'penalty': 'l1'}\n",
      "Trial 5\n",
      "  MultiLayerPerceptron, Mean/std test acc : 0.72∓0.04, Mean/std train acc: 0.82∓0.01, Max fit time: 110.4 sec, Best Params: {'alpha': 0.01, 'hidden_layer_sizes': 100}\n",
      "  SVM                 , Mean/std test acc : 0.71∓0.03, Mean/std train acc: 0.82∓0.00, Max fit time: 0.2 sec, Best Params: {'C': 10, 'gamma': 10}\n",
      "  KNN                 , Mean/std test acc : 0.68∓0.02, Mean/std train acc: 0.89∓0.00, Max fit time: 0.1 sec, Best Params: {'metric': <function bhat at 0x7fcd812014d0>, 'n_neighbors': 3, 'weights': 'distance'}\n"
     ]
    },
    {
     "name": "stderr",
     "output_type": "stream",
     "text": [
      "/opt/conda/lib/python3.7/site-packages/sklearn/linear_model/_sag.py:330: ConvergenceWarning: The max_iter was reached which means the coef_ did not converge\n",
      "  \"the coef_ did not converge\", ConvergenceWarning)\n"
     ]
    },
    {
     "name": "stdout",
     "output_type": "stream",
     "text": [
      "  LogisticRegression  , Mean/std test acc : 0.68∓0.03, Mean/std train acc: 0.74∓0.01, Max fit time: 1.9 sec, Best Params: {'C': 10, 'penalty': 'l1'}\n",
      "Trial 6\n",
      "  MultiLayerPerceptron, Mean/std test acc : 0.73∓0.03, Mean/std train acc: 0.82∓0.01, Max fit time: 140.4 sec, Best Params: {'alpha': 0.01, 'hidden_layer_sizes': 100}\n",
      "  SVM                 , Mean/std test acc : 0.73∓0.02, Mean/std train acc: 0.81∓0.01, Max fit time: 0.2 sec, Best Params: {'C': 1000, 'gamma': 0.1}\n",
      "  KNN                 , Mean/std test acc : 0.68∓0.04, Mean/std train acc: 0.89∓0.00, Max fit time: 0.1 sec, Best Params: {'metric': <function bhat at 0x7fcd812014d0>, 'n_neighbors': 3, 'weights': 'distance'}\n"
     ]
    },
    {
     "name": "stderr",
     "output_type": "stream",
     "text": [
      "/opt/conda/lib/python3.7/site-packages/sklearn/linear_model/_sag.py:330: ConvergenceWarning: The max_iter was reached which means the coef_ did not converge\n",
      "  \"the coef_ did not converge\", ConvergenceWarning)\n"
     ]
    },
    {
     "name": "stdout",
     "output_type": "stream",
     "text": [
      "  LogisticRegression  , Mean/std test acc : 0.69∓0.03, Mean/std train acc: 0.74∓0.01, Max fit time: 1.9 sec, Best Params: {'C': 10, 'penalty': 'l1'}\n",
      "Trial 7\n",
      "  MultiLayerPerceptron, Mean/std test acc : 0.72∓0.04, Mean/std train acc: 0.83∓0.02, Max fit time: 121.9 sec, Best Params: {'alpha': 0.001, 'hidden_layer_sizes': 50}\n",
      "  SVM                 , Mean/std test acc : 0.73∓0.03, Mean/std train acc: 0.90∓0.00, Max fit time: 0.2 sec, Best Params: {'C': 100, 'gamma': 10}\n",
      "  KNN                 , Mean/std test acc : 0.69∓0.04, Mean/std train acc: 0.89∓0.00, Max fit time: 0.1 sec, Best Params: {'metric': <function bhat at 0x7fcd812014d0>, 'n_neighbors': 3, 'weights': 'distance'}\n"
     ]
    },
    {
     "name": "stderr",
     "output_type": "stream",
     "text": [
      "/opt/conda/lib/python3.7/site-packages/sklearn/linear_model/_sag.py:330: ConvergenceWarning: The max_iter was reached which means the coef_ did not converge\n",
      "  \"the coef_ did not converge\", ConvergenceWarning)\n"
     ]
    },
    {
     "name": "stdout",
     "output_type": "stream",
     "text": [
      "  LogisticRegression  , Mean/std test acc : 0.69∓0.03, Mean/std train acc: 0.74∓0.01, Max fit time: 1.9 sec, Best Params: {'C': 10, 'penalty': 'l1'}\n",
      "Trial 8\n",
      "  MultiLayerPerceptron, Mean/std test acc : 0.73∓0.04, Mean/std train acc: 0.82∓0.01, Max fit time: 118.6 sec, Best Params: {'alpha': 0.01, 'hidden_layer_sizes': 100}\n",
      "  SVM                 , Mean/std test acc : 0.72∓0.04, Mean/std train acc: 0.82∓0.01, Max fit time: 0.2 sec, Best Params: {'C': 10, 'gamma': 10}\n",
      "  KNN                 , Mean/std test acc : 0.68∓0.05, Mean/std train acc: 0.89∓0.00, Max fit time: 0.1 sec, Best Params: {'metric': <function bhat at 0x7fcd812014d0>, 'n_neighbors': 3, 'weights': 'distance'}\n"
     ]
    },
    {
     "name": "stderr",
     "output_type": "stream",
     "text": [
      "/opt/conda/lib/python3.7/site-packages/sklearn/linear_model/_sag.py:330: ConvergenceWarning: The max_iter was reached which means the coef_ did not converge\n",
      "  \"the coef_ did not converge\", ConvergenceWarning)\n"
     ]
    },
    {
     "name": "stdout",
     "output_type": "stream",
     "text": [
      "  LogisticRegression  , Mean/std test acc : 0.69∓0.04, Mean/std train acc: 0.74∓0.01, Max fit time: 1.9 sec, Best Params: {'C': 10, 'penalty': 'l1'}\n",
      "Trial 9\n",
      "  MultiLayerPerceptron, Mean/std test acc : 0.73∓0.04, Mean/std train acc: 0.80∓0.01, Max fit time: 142.5 sec, Best Params: {'alpha': 0.01, 'hidden_layer_sizes': 50}\n",
      "  SVM                 , Mean/std test acc : 0.73∓0.04, Mean/std train acc: 0.81∓0.01, Max fit time: 0.2 sec, Best Params: {'C': 100, 'gamma': 1}\n",
      "  KNN                 , Mean/std test acc : 0.69∓0.05, Mean/std train acc: 0.89∓0.00, Max fit time: 0.1 sec, Best Params: {'metric': <function bhat at 0x7fcd812014d0>, 'n_neighbors': 3, 'weights': 'distance'}\n",
      "  LogisticRegression  , Mean/std test acc : 0.69∓0.04, Mean/std train acc: 0.74∓0.01, Max fit time: 2.0 sec, Best Params: {'C': 10, 'penalty': 'l1'}\n"
     ]
    },
    {
     "name": "stderr",
     "output_type": "stream",
     "text": [
      "/opt/conda/lib/python3.7/site-packages/sklearn/linear_model/_sag.py:330: ConvergenceWarning: The max_iter was reached which means the coef_ did not converge\n",
      "  \"the coef_ did not converge\", ConvergenceWarning)\n"
     ]
    },
    {
     "data": {
      "text/html": [
       "<div>\n",
       "<style scoped>\n",
       "    .dataframe tbody tr th:only-of-type {\n",
       "        vertical-align: middle;\n",
       "    }\n",
       "\n",
       "    .dataframe tbody tr th {\n",
       "        vertical-align: top;\n",
       "    }\n",
       "\n",
       "    .dataframe thead th {\n",
       "        text-align: right;\n",
       "    }\n",
       "</style>\n",
       "<table border=\"1\" class=\"dataframe\">\n",
       "  <thead>\n",
       "    <tr style=\"text-align: right;\">\n",
       "      <th></th>\n",
       "      <th>architecture</th>\n",
       "      <th>best_params_</th>\n",
       "      <th>cv_results_</th>\n",
       "      <th>fit_time</th>\n",
       "      <th>score_time</th>\n",
       "      <th>split_id</th>\n",
       "      <th>test_score</th>\n",
       "      <th>train_score</th>\n",
       "      <th>trial_id</th>\n",
       "    </tr>\n",
       "  </thead>\n",
       "  <tbody>\n",
       "    <tr>\n",
       "      <th>0</th>\n",
       "      <td>MultiLayerPerceptron</td>\n",
       "      <td>{'alpha': 0.001, 'hidden_layer_sizes': 100}</td>\n",
       "      <td>{'mean_fit_time': [17.19892852306366, 24.22080...</td>\n",
       "      <td>144.83799</td>\n",
       "      <td>0.006953</td>\n",
       "      <td>0</td>\n",
       "      <td>0.78</td>\n",
       "      <td>0.888889</td>\n",
       "      <td>0</td>\n",
       "    </tr>\n",
       "    <tr>\n",
       "      <th>1</th>\n",
       "      <td>MultiLayerPerceptron</td>\n",
       "      <td>{'alpha': 0.001, 'hidden_layer_sizes': 100}</td>\n",
       "      <td>{'mean_fit_time': [17.19892852306366, 24.22080...</td>\n",
       "      <td>144.83799</td>\n",
       "      <td>0.006953</td>\n",
       "      <td>1</td>\n",
       "      <td>0.75</td>\n",
       "      <td>0.898889</td>\n",
       "      <td>0</td>\n",
       "    </tr>\n",
       "    <tr>\n",
       "      <th>2</th>\n",
       "      <td>MultiLayerPerceptron</td>\n",
       "      <td>{'alpha': 0.001, 'hidden_layer_sizes': 100}</td>\n",
       "      <td>{'mean_fit_time': [17.19892852306366, 24.22080...</td>\n",
       "      <td>144.83799</td>\n",
       "      <td>0.006953</td>\n",
       "      <td>2</td>\n",
       "      <td>0.68</td>\n",
       "      <td>0.883333</td>\n",
       "      <td>0</td>\n",
       "    </tr>\n",
       "    <tr>\n",
       "      <th>3</th>\n",
       "      <td>MultiLayerPerceptron</td>\n",
       "      <td>{'alpha': 0.001, 'hidden_layer_sizes': 100}</td>\n",
       "      <td>{'mean_fit_time': [17.19892852306366, 24.22080...</td>\n",
       "      <td>144.83799</td>\n",
       "      <td>0.006953</td>\n",
       "      <td>3</td>\n",
       "      <td>0.64</td>\n",
       "      <td>0.910000</td>\n",
       "      <td>0</td>\n",
       "    </tr>\n",
       "    <tr>\n",
       "      <th>4</th>\n",
       "      <td>MultiLayerPerceptron</td>\n",
       "      <td>{'alpha': 0.001, 'hidden_layer_sizes': 100}</td>\n",
       "      <td>{'mean_fit_time': [17.19892852306366, 24.22080...</td>\n",
       "      <td>144.83799</td>\n",
       "      <td>0.006953</td>\n",
       "      <td>4</td>\n",
       "      <td>0.70</td>\n",
       "      <td>0.867778</td>\n",
       "      <td>0</td>\n",
       "    </tr>\n",
       "  </tbody>\n",
       "</table>\n",
       "</div>"
      ],
      "text/plain": [
       "           architecture                                 best_params_  \\\n",
       "0  MultiLayerPerceptron  {'alpha': 0.001, 'hidden_layer_sizes': 100}   \n",
       "1  MultiLayerPerceptron  {'alpha': 0.001, 'hidden_layer_sizes': 100}   \n",
       "2  MultiLayerPerceptron  {'alpha': 0.001, 'hidden_layer_sizes': 100}   \n",
       "3  MultiLayerPerceptron  {'alpha': 0.001, 'hidden_layer_sizes': 100}   \n",
       "4  MultiLayerPerceptron  {'alpha': 0.001, 'hidden_layer_sizes': 100}   \n",
       "\n",
       "                                         cv_results_   fit_time  score_time  \\\n",
       "0  {'mean_fit_time': [17.19892852306366, 24.22080...  144.83799    0.006953   \n",
       "1  {'mean_fit_time': [17.19892852306366, 24.22080...  144.83799    0.006953   \n",
       "2  {'mean_fit_time': [17.19892852306366, 24.22080...  144.83799    0.006953   \n",
       "3  {'mean_fit_time': [17.19892852306366, 24.22080...  144.83799    0.006953   \n",
       "4  {'mean_fit_time': [17.19892852306366, 24.22080...  144.83799    0.006953   \n",
       "\n",
       "   split_id  test_score  train_score  trial_id  \n",
       "0         0        0.78     0.888889         0  \n",
       "1         1        0.75     0.898889         0  \n",
       "2         2        0.68     0.883333         0  \n",
       "3         3        0.64     0.910000         0  \n",
       "4         4        0.70     0.867778         0  "
      ]
     },
     "execution_count": 11,
     "metadata": {},
     "output_type": "execute_result"
    }
   ],
   "source": [
    "stratified_10_fold_cv_experiment = mre.experimentation.Stratified10FoldCV(\n",
    "    num_splits=10, num_trials=10\n",
    ")\n",
    "\n",
    "stratified_10_fold_cv_experiment.run(dataset, ARCHITECTURES)\n",
    "stratified_10_fold_cv_experiment.results.head()"
   ]
  },
  {
   "cell_type": "code",
   "execution_count": 13,
   "metadata": {},
   "outputs": [
    {
     "data": {
      "image/png": "[encoded data removed]",
      "text/plain": [
       "<Figure size 432x288 with 1 Axes>"
      ]
     },
     "metadata": {
      "needs_background": "light"
     },
     "output_type": "display_data"
    }
   ],
   "source": [
    "_ = stratified_10_fold_cv_experiment.boxplot_best_models()"
   ]
  },
  {
   "cell_type": "markdown",
   "metadata": {},
   "source": [
    "## Shuffle CV with 10 splits"
   ]
  },
  {
   "cell_type": "code",
   "execution_count": 14,
   "metadata": {},
   "outputs": [
    {
     "name": "stdout",
     "output_type": "stream",
     "text": [
      "Trial 0\n",
      "   MultiLayerPerceptron, Test acc: 0.72∓0.03, Train acc: 0.82∓0.02, Max fit time: 2530.0 sec, Best Params: {'alpha': 0.01, 'hidden_layer_sizes': 50}\n",
      "   SVM                 , Test acc: 0.72∓0.02, Train acc: 0.82∓0.01, Max fit time: 6.3 sec, Best Params: {'C': 10, 'gamma': 10}\n",
      "   KNN                 , Test acc: 0.67∓0.03, Train acc: 0.89∓0.00, Max fit time: 427.8 sec, Best Params: {'metric': <function bhat at 0x7fcd7bade950>, 'n_neighbors': 3, 'weights': 'distance'}\n",
      "   LogisticRegression  , Test acc: 0.62∓0.04, Train acc: 0.68∓0.01, Max fit time: 22.3 sec, Best Params: {'C': 10, 'penalty': 'l2'}\n",
      "Trial 1\n",
      "   MultiLayerPerceptron, Test acc: 0.71∓0.02, Train acc: 0.83∓0.02, Max fit time: 2728.5 sec, Best Params: {'alpha': 0.01, 'hidden_layer_sizes': 50}\n",
      "   SVM                 , Test acc: 0.71∓0.03, Train acc: 0.82∓0.01, Max fit time: 6.7 sec, Best Params: {'C': 10, 'gamma': 10}\n",
      "   KNN                 , Test acc: 0.68∓0.03, Train acc: 0.89∓0.00, Max fit time: 422.0 sec, Best Params: {'metric': <function bhat at 0x7fcd805a4440>, 'n_neighbors': 3, 'weights': 'distance'}\n",
      "   LogisticRegression  , Test acc: 0.66∓0.03, Train acc: 0.71∓0.03, Max fit time: 18.8 sec, Best Params: {'C': 10, 'penalty': 'l2'}\n",
      "Trial 2\n",
      "   MultiLayerPerceptron, Test acc: 0.72∓0.03, Train acc: 0.83∓0.02, Max fit time: 2498.6 sec, Best Params: {'alpha': 0.01, 'hidden_layer_sizes': 100}\n",
      "   SVM                 , Test acc: 0.72∓0.03, Train acc: 0.82∓0.01, Max fit time: 6.0 sec, Best Params: {'C': 10, 'gamma': 10}\n",
      "   KNN                 , Test acc: 0.68∓0.04, Train acc: 0.88∓0.00, Max fit time: 529.4 sec, Best Params: {'metric': <function bhat at 0x7fcd805a4b00>, 'n_neighbors': 3, 'weights': 'distance'}\n",
      "   LogisticRegression  , Test acc: 0.64∓0.03, Train acc: 0.69∓0.02, Max fit time: 30.7 sec, Best Params: {'C': 10, 'penalty': 'l2'}\n",
      "Trial 3\n",
      "   MultiLayerPerceptron, Test acc: 0.72∓0.03, Train acc: 0.82∓0.02, Max fit time: 3558.9 sec, Best Params: {'alpha': 0.01, 'hidden_layer_sizes': 50}\n",
      "   SVM                 , Test acc: 0.73∓0.03, Train acc: 0.82∓0.01, Max fit time: 8.9 sec, Best Params: {'C': 10, 'gamma': 10}\n",
      "   KNN                 , Test acc: 0.69∓0.02, Train acc: 0.89∓0.00, Max fit time: 395.1 sec, Best Params: {'metric': <function bhat at 0x7fcd802b30e0>, 'n_neighbors': 3, 'weights': 'distance'}\n",
      "   LogisticRegression  , Test acc: 0.65∓0.03, Train acc: 0.69∓0.03, Max fit time: 15.4 sec, Best Params: {'C': 10, 'penalty': 'l2'}\n",
      "Trial 4\n",
      "   MultiLayerPerceptron, Test acc: 0.73∓0.03, Train acc: 0.83∓0.02, Max fit time: 2505.7 sec, Best Params: {'alpha': 0.01, 'hidden_layer_sizes': 100}\n",
      "   SVM                 , Test acc: 0.72∓0.04, Train acc: 0.81∓0.01, Max fit time: 5.9 sec, Best Params: {'C': 10, 'gamma': 10}\n",
      "   KNN                 , Test acc: 0.68∓0.03, Train acc: 0.89∓0.00, Max fit time: 385.2 sec, Best Params: {'metric': <function bhat at 0x7fcd802b3b00>, 'n_neighbors': 3, 'weights': 'distance'}\n",
      "   LogisticRegression  , Test acc: 0.64∓0.04, Train acc: 0.69∓0.02, Max fit time: 20.3 sec, Best Params: {'C': 10, 'penalty': 'l2'}\n",
      "Trial 5\n",
      "   MultiLayerPerceptron, Test acc: 0.72∓0.02, Train acc: 0.82∓0.02, Max fit time: 2508.3 sec, Best Params: {'alpha': 0.01, 'hidden_layer_sizes': 100}\n",
      "   SVM                 , Test acc: 0.72∓0.03, Train acc: 0.81∓0.01, Max fit time: 6.5 sec, Best Params: {'C': 10, 'gamma': 10}\n",
      "   KNN                 , Test acc: 0.68∓0.03, Train acc: 0.89∓0.00, Max fit time: 426.2 sec, Best Params: {'metric': <function bhat at 0x7fcd80786440>, 'n_neighbors': 3, 'weights': 'distance'}\n",
      "   LogisticRegression  , Test acc: 0.66∓0.03, Train acc: 0.70∓0.03, Max fit time: 19.0 sec, Best Params: {'C': 10, 'penalty': 'l2'}\n",
      "Trial 6\n",
      "   MultiLayerPerceptron, Test acc: 0.73∓0.03, Train acc: 0.83∓0.02, Max fit time: 2518.7 sec, Best Params: {'alpha': 0.01, 'hidden_layer_sizes': 100}\n",
      "   SVM                 , Test acc: 0.72∓0.03, Train acc: 0.82∓0.01, Max fit time: 7.5 sec, Best Params: {'C': 100, 'gamma': 1}\n",
      "   KNN                 , Test acc: 0.70∓0.02, Train acc: 0.89∓0.01, Max fit time: 537.4 sec, Best Params: {'metric': <function bhat at 0x7fcd7bc7d9e0>, 'n_neighbors': 3, 'weights': 'distance'}\n",
      "   LogisticRegression  , Test acc: 0.66∓0.04, Train acc: 0.69∓0.03, Max fit time: 22.6 sec, Best Params: {'C': 10, 'penalty': 'l2'}\n",
      "Trial 7\n",
      "   MultiLayerPerceptron, Test acc: 0.72∓0.02, Train acc: 0.83∓0.02, Max fit time: 2723.9 sec, Best Params: {'alpha': 0.01, 'hidden_layer_sizes': 100}\n",
      "   SVM                 , Test acc: 0.73∓0.03, Train acc: 0.81∓0.01, Max fit time: 7.7 sec, Best Params: {'C': 100, 'gamma': 1}\n",
      "   KNN                 , Test acc: 0.68∓0.03, Train acc: 0.89∓0.00, Max fit time: 469.7 sec, Best Params: {'metric': <function bhat at 0x7fcd8065e680>, 'n_neighbors': 3, 'weights': 'distance'}\n",
      "   LogisticRegression  , Test acc: 0.65∓0.04, Train acc: 0.69∓0.03, Max fit time: 17.4 sec, Best Params: {'C': 10, 'penalty': 'l2'}\n",
      "Trial 8\n",
      "   MultiLayerPerceptron, Test acc: 0.71∓0.01, Train acc: 0.82∓0.02, Max fit time: 2794.7 sec, Best Params: {'alpha': 0.01, 'hidden_layer_sizes': 50}\n",
      "   SVM                 , Test acc: 0.71∓0.03, Train acc: 0.82∓0.01, Max fit time: 5.8 sec, Best Params: {'C': 10, 'gamma': 10}\n",
      "   KNN                 , Test acc: 0.68∓0.02, Train acc: 0.89∓0.01, Max fit time: 393.1 sec, Best Params: {'metric': <function bhat at 0x7fcd80b94200>, 'n_neighbors': 3, 'weights': 'distance'}\n",
      "   LogisticRegression  , Test acc: 0.65∓0.03, Train acc: 0.70∓0.03, Max fit time: 18.6 sec, Best Params: {'C': 10, 'penalty': 'l2'}\n",
      "Trial 9\n",
      "   MultiLayerPerceptron, Test acc: 0.71∓0.02, Train acc: 0.82∓0.01, Max fit time: 2463.0 sec, Best Params: {'alpha': 0.01, 'hidden_layer_sizes': 50}\n",
      "   SVM                 , Test acc: 0.72∓0.03, Train acc: 0.83∓0.02, Max fit time: 5.8 sec, Best Params: {'C': 10, 'gamma': 10}\n",
      "   KNN                 , Test acc: 0.68∓0.02, Train acc: 0.88∓0.01, Max fit time: 380.0 sec, Best Params: {'metric': <function bhat at 0x7fcd80b660e0>, 'n_neighbors': 3, 'weights': 'distance'}\n",
      "   LogisticRegression  , Test acc: 0.64∓0.04, Train acc: 0.69∓0.03, Max fit time: 21.4 sec, Best Params: {'C': 10, 'penalty': 'l2'}\n"
     ]
    },
    {
     "data": {
      "text/html": [
       "<div>\n",
       "<style scoped>\n",
       "    .dataframe tbody tr th:only-of-type {\n",
       "        vertical-align: middle;\n",
       "    }\n",
       "\n",
       "    .dataframe tbody tr th {\n",
       "        vertical-align: top;\n",
       "    }\n",
       "\n",
       "    .dataframe thead th {\n",
       "        text-align: right;\n",
       "    }\n",
       "</style>\n",
       "<table border=\"1\" class=\"dataframe\">\n",
       "  <thead>\n",
       "    <tr style=\"text-align: right;\">\n",
       "      <th></th>\n",
       "      <th>architecture</th>\n",
       "      <th>best_params_</th>\n",
       "      <th>cv_results_</th>\n",
       "      <th>fit_time</th>\n",
       "      <th>score_time</th>\n",
       "      <th>split_id</th>\n",
       "      <th>test_score</th>\n",
       "      <th>train_score</th>\n",
       "      <th>trial_id</th>\n",
       "    </tr>\n",
       "  </thead>\n",
       "  <tbody>\n",
       "    <tr>\n",
       "      <th>0</th>\n",
       "      <td>MultiLayerPerceptron</td>\n",
       "      <td>{'alpha': 0.01, 'hidden_layer_sizes': 100}</td>\n",
       "      <td>{'mean_fit_time': [280.765830540657, 330.52451...</td>\n",
       "      <td>2409.897316</td>\n",
       "      <td>0.002639</td>\n",
       "      <td>0</td>\n",
       "      <td>0.735</td>\n",
       "      <td>0.84625</td>\n",
       "      <td>0</td>\n",
       "    </tr>\n",
       "    <tr>\n",
       "      <th>1</th>\n",
       "      <td>MultiLayerPerceptron</td>\n",
       "      <td>{'alpha': 0.01, 'hidden_layer_sizes': 50}</td>\n",
       "      <td>{'mean_fit_time': [290.91307566165926, 359.939...</td>\n",
       "      <td>2510.888942</td>\n",
       "      <td>0.001623</td>\n",
       "      <td>1</td>\n",
       "      <td>0.700</td>\n",
       "      <td>0.78500</td>\n",
       "      <td>0</td>\n",
       "    </tr>\n",
       "    <tr>\n",
       "      <th>2</th>\n",
       "      <td>MultiLayerPerceptron</td>\n",
       "      <td>{'alpha': 0.01, 'hidden_layer_sizes': 50}</td>\n",
       "      <td>{'mean_fit_time': [296.96079099178314, 342.187...</td>\n",
       "      <td>2530.028131</td>\n",
       "      <td>0.001957</td>\n",
       "      <td>2</td>\n",
       "      <td>0.730</td>\n",
       "      <td>0.81125</td>\n",
       "      <td>0</td>\n",
       "    </tr>\n",
       "    <tr>\n",
       "      <th>3</th>\n",
       "      <td>MultiLayerPerceptron</td>\n",
       "      <td>{'alpha': 0.01, 'hidden_layer_sizes': 100}</td>\n",
       "      <td>{'mean_fit_time': [259.22386636734007, 319.853...</td>\n",
       "      <td>2405.627091</td>\n",
       "      <td>0.004617</td>\n",
       "      <td>3</td>\n",
       "      <td>0.745</td>\n",
       "      <td>0.82250</td>\n",
       "      <td>0</td>\n",
       "    </tr>\n",
       "    <tr>\n",
       "      <th>4</th>\n",
       "      <td>MultiLayerPerceptron</td>\n",
       "      <td>{'alpha': 0.01, 'hidden_layer_sizes': 50}</td>\n",
       "      <td>{'mean_fit_time': [285.17727732658386, 344.127...</td>\n",
       "      <td>2443.511315</td>\n",
       "      <td>0.002044</td>\n",
       "      <td>4</td>\n",
       "      <td>0.705</td>\n",
       "      <td>0.79750</td>\n",
       "      <td>0</td>\n",
       "    </tr>\n",
       "  </tbody>\n",
       "</table>\n",
       "</div>"
      ],
      "text/plain": [
       "           architecture                                best_params_  \\\n",
       "0  MultiLayerPerceptron  {'alpha': 0.01, 'hidden_layer_sizes': 100}   \n",
       "1  MultiLayerPerceptron   {'alpha': 0.01, 'hidden_layer_sizes': 50}   \n",
       "2  MultiLayerPerceptron   {'alpha': 0.01, 'hidden_layer_sizes': 50}   \n",
       "3  MultiLayerPerceptron  {'alpha': 0.01, 'hidden_layer_sizes': 100}   \n",
       "4  MultiLayerPerceptron   {'alpha': 0.01, 'hidden_layer_sizes': 50}   \n",
       "\n",
       "                                         cv_results_     fit_time  score_time  \\\n",
       "0  {'mean_fit_time': [280.765830540657, 330.52451...  2409.897316    0.002639   \n",
       "1  {'mean_fit_time': [290.91307566165926, 359.939...  2510.888942    0.001623   \n",
       "2  {'mean_fit_time': [296.96079099178314, 342.187...  2530.028131    0.001957   \n",
       "3  {'mean_fit_time': [259.22386636734007, 319.853...  2405.627091    0.004617   \n",
       "4  {'mean_fit_time': [285.17727732658386, 344.127...  2443.511315    0.002044   \n",
       "\n",
       "   split_id  test_score  train_score  trial_id  \n",
       "0         0       0.735      0.84625         0  \n",
       "1         1       0.700      0.78500         0  \n",
       "2         2       0.730      0.81125         0  \n",
       "3         3       0.745      0.82250         0  \n",
       "4         4       0.705      0.79750         0  "
      ]
     },
     "execution_count": 14,
     "metadata": {},
     "output_type": "execute_result"
    }
   ],
   "source": [
    "stratified_shuffle_cv_experiment = mre.experimentation.StratifiedShuffleCV(\n",
    "    num_splits=10, num_trials=10\n",
    ")\n",
    "\n",
    "stratified_shuffle_cv_experiment.run(dataset, ARCHITECTURES)\n",
    "stratified_shuffle_cv_experiment.results.head()"
   ]
  },
  {
   "cell_type": "code",
   "execution_count": 16,
   "metadata": {},
   "outputs": [
    {
     "data": {
      "image/png": "[encoded data removed]",
      "text/plain": [
       "<Figure size 432x288 with 1 Axes>"
      ]
     },
     "metadata": {
      "needs_background": "light"
     },
     "output_type": "display_data"
    }
   ],
   "source": [
    "_ = stratified_shuffle_cv_experiment.boxplot_best_models()"
   ]
  },
  {
   "cell_type": "code",
   "execution_count": 19,
   "metadata": {},
   "outputs": [
    {
     "name": "stderr",
     "output_type": "stream",
     "text": [
      "INFO:numexpr.utils:NumExpr defaulting to 8 threads.\n"
     ]
    },
    {
     "data": {
      "text/plain": [
       "<matplotlib.axes._subplots.AxesSubplot at 0x7fd7bae07d90>"
      ]
     },
     "execution_count": 19,
     "metadata": {},
     "output_type": "execute_result"
    },
    {
     "data": {
      "image/png": "[encoded data removed]",
      "text/plain": [
       "<Figure size 432x288 with 1 Axes>"
      ]
     },
     "metadata": {
      "needs_background": "light"
     },
     "output_type": "display_data"
    }
   ],
   "source": [
    "stratified_shuffle_cv_experiment.plot_confusion_matrix(architecture=\"SVM\")"
   ]
  },
  {
   "cell_type": "markdown",
   "metadata": {},
   "source": [
    "## Shuffled CV with single split"
   ]
  },
  {
   "cell_type": "code",
   "execution_count": 17,
   "metadata": {},
   "outputs": [
    {
     "name": "stdout",
     "output_type": "stream",
     "text": [
      "Trial 0\n",
      "   MultiLayerPerceptron, Test acc: 0.71∓0.02, Train acc: 0.82∓0.02, Max fit time: 2942.9 sec, Best Params: {'alpha': 0.01, 'hidden_layer_sizes': 50}\n",
      "   SVM                 , Test acc: 0.72∓0.02, Train acc: 0.82∓0.01, Max fit time: 8.8 sec, Best Params: {'C': 10, 'gamma': 10}\n",
      "   KNN                 , Test acc: 0.67∓0.03, Train acc: 0.89∓0.00, Max fit time: 419.0 sec, Best Params: {'metric': <function bhat at 0x7fcd7ba68ef0>, 'n_neighbors': 3, 'weights': 'distance'}\n",
      "   LogisticRegression  , Test acc: 0.62∓0.04, Train acc: 0.69∓0.01, Max fit time: 18.6 sec, Best Params: {'C': 10, 'penalty': 'l2'}\n"
     ]
    },
    {
     "data": {
      "text/html": [
       "<div>\n",
       "<style scoped>\n",
       "    .dataframe tbody tr th:only-of-type {\n",
       "        vertical-align: middle;\n",
       "    }\n",
       "\n",
       "    .dataframe tbody tr th {\n",
       "        vertical-align: top;\n",
       "    }\n",
       "\n",
       "    .dataframe thead th {\n",
       "        text-align: right;\n",
       "    }\n",
       "</style>\n",
       "<table border=\"1\" class=\"dataframe\">\n",
       "  <thead>\n",
       "    <tr style=\"text-align: right;\">\n",
       "      <th></th>\n",
       "      <th>architecture</th>\n",
       "      <th>best_params_</th>\n",
       "      <th>cv_results_</th>\n",
       "      <th>fit_time</th>\n",
       "      <th>score_time</th>\n",
       "      <th>split_id</th>\n",
       "      <th>test_score</th>\n",
       "      <th>train_score</th>\n",
       "      <th>trial_id</th>\n",
       "    </tr>\n",
       "  </thead>\n",
       "  <tbody>\n",
       "    <tr>\n",
       "      <th>0</th>\n",
       "      <td>MultiLayerPerceptron</td>\n",
       "      <td>{'alpha': 0.01, 'hidden_layer_sizes': 100}</td>\n",
       "      <td>{'mean_fit_time': [287.61223142147065, 383.985...</td>\n",
       "      <td>2791.701989</td>\n",
       "      <td>0.003729</td>\n",
       "      <td>0</td>\n",
       "      <td>0.715</td>\n",
       "      <td>0.82625</td>\n",
       "      <td>0</td>\n",
       "    </tr>\n",
       "    <tr>\n",
       "      <th>1</th>\n",
       "      <td>MultiLayerPerceptron</td>\n",
       "      <td>{'alpha': 0.01, 'hidden_layer_sizes': 50}</td>\n",
       "      <td>{'mean_fit_time': [317.9943726301193, 419.4593...</td>\n",
       "      <td>2942.875522</td>\n",
       "      <td>0.001600</td>\n",
       "      <td>1</td>\n",
       "      <td>0.705</td>\n",
       "      <td>0.81500</td>\n",
       "      <td>0</td>\n",
       "    </tr>\n",
       "    <tr>\n",
       "      <th>2</th>\n",
       "      <td>MultiLayerPerceptron</td>\n",
       "      <td>{'alpha': 0.01, 'hidden_layer_sizes': 100}</td>\n",
       "      <td>{'mean_fit_time': [309.62239799499514, 403.585...</td>\n",
       "      <td>2862.673219</td>\n",
       "      <td>0.002984</td>\n",
       "      <td>2</td>\n",
       "      <td>0.715</td>\n",
       "      <td>0.84500</td>\n",
       "      <td>0</td>\n",
       "    </tr>\n",
       "    <tr>\n",
       "      <th>3</th>\n",
       "      <td>MultiLayerPerceptron</td>\n",
       "      <td>{'alpha': 0.01, 'hidden_layer_sizes': 100}</td>\n",
       "      <td>{'mean_fit_time': [293.74264149665834, 384.274...</td>\n",
       "      <td>2790.289642</td>\n",
       "      <td>0.002573</td>\n",
       "      <td>3</td>\n",
       "      <td>0.735</td>\n",
       "      <td>0.83750</td>\n",
       "      <td>0</td>\n",
       "    </tr>\n",
       "    <tr>\n",
       "      <th>4</th>\n",
       "      <td>MultiLayerPerceptron</td>\n",
       "      <td>{'alpha': 0.01, 'hidden_layer_sizes': 50}</td>\n",
       "      <td>{'mean_fit_time': [298.19014568328856, 390.056...</td>\n",
       "      <td>2805.909331</td>\n",
       "      <td>0.006360</td>\n",
       "      <td>4</td>\n",
       "      <td>0.725</td>\n",
       "      <td>0.80750</td>\n",
       "      <td>0</td>\n",
       "    </tr>\n",
       "  </tbody>\n",
       "</table>\n",
       "</div>"
      ],
      "text/plain": [
       "           architecture                                best_params_  \\\n",
       "0  MultiLayerPerceptron  {'alpha': 0.01, 'hidden_layer_sizes': 100}   \n",
       "1  MultiLayerPerceptron   {'alpha': 0.01, 'hidden_layer_sizes': 50}   \n",
       "2  MultiLayerPerceptron  {'alpha': 0.01, 'hidden_layer_sizes': 100}   \n",
       "3  MultiLayerPerceptron  {'alpha': 0.01, 'hidden_layer_sizes': 100}   \n",
       "4  MultiLayerPerceptron   {'alpha': 0.01, 'hidden_layer_sizes': 50}   \n",
       "\n",
       "                                         cv_results_     fit_time  score_time  \\\n",
       "0  {'mean_fit_time': [287.61223142147065, 383.985...  2791.701989    0.003729   \n",
       "1  {'mean_fit_time': [317.9943726301193, 419.4593...  2942.875522    0.001600   \n",
       "2  {'mean_fit_time': [309.62239799499514, 403.585...  2862.673219    0.002984   \n",
       "3  {'mean_fit_time': [293.74264149665834, 384.274...  2790.289642    0.002573   \n",
       "4  {'mean_fit_time': [298.19014568328856, 390.056...  2805.909331    0.006360   \n",
       "\n",
       "   split_id  test_score  train_score  trial_id  \n",
       "0         0       0.715      0.82625         0  \n",
       "1         1       0.705      0.81500         0  \n",
       "2         2       0.715      0.84500         0  \n",
       "3         3       0.735      0.83750         0  \n",
       "4         4       0.725      0.80750         0  "
      ]
     },
     "execution_count": 17,
     "metadata": {},
     "output_type": "execute_result"
    }
   ],
   "source": [
    "single_stratified_shuffle_cv_experiment = mre.experimentation.StratifiedShuffleCV(\n",
    "    num_splits=1, num_trials=10\n",
    ")\n",
    "\n",
    "scores = single_stratified_shuffle_cv_experiment.run(dataset, ARCHITECTURES)\n",
    "single_stratified_shuffle_cv_experiment.results.head()"
   ]
  },
  {
   "cell_type": "code",
   "execution_count": 18,
   "metadata": {},
   "outputs": [
    {
     "data": {
      "image/png": "[encoded data removed]",
      "text/plain": [
       "<Figure size 432x288 with 1 Axes>"
      ]
     },
     "metadata": {
      "needs_background": "light"
     },
     "output_type": "display_data"
    }
   ],
   "source": [
    "_ = single_stratified_shuffle_cv_experiment.boxplot_best_models_by_trial()"
   ]
  },
  {
   "cell_type": "code",
   "execution_count": 21,
   "metadata": {},
   "outputs": [
    {
     "data": {
      "text/plain": [
       "<matplotlib.axes._subplots.AxesSubplot at 0x7fd7b8364cd0>"
      ]
     },
     "execution_count": 21,
     "metadata": {},
     "output_type": "execute_result"
    },
    {
     "data": {
      "image/png": "[encoded data removed]",
      "text/plain": [
       "<Figure size 432x288 with 1 Axes>"
      ]
     },
     "metadata": {
      "needs_background": "light"
     },
     "output_type": "display_data"
    }
   ],
   "source": [
    "single_stratified_shuffle_cv_experiment.plot_confusion_matrix(architecture=\"SVM\")"
   ]
  }
 ],
 "metadata": {
  "kernelspec": {
   "display_name": "Python 3",
   "language": "python",
   "name": "python3"
  },
  "language_info": {
   "codemirror_mode": {
    "name": "ipython",
    "version": 3
   },
   "file_extension": ".py",
   "mimetype": "text/x-python",
   "name": "python",
   "nbconvert_exporter": "python",
   "pygments_lexer": "ipython3",
   "version": "3.7.6"
  }
 },
 "nbformat": 4,
 "nbformat_minor": 4
}
