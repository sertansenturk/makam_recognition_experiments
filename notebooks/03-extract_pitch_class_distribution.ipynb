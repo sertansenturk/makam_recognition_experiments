{
 "cells": [
  {
   "cell_type": "markdown",
   "metadata": {},
   "source": [
    "# 03-extract_pitch_class_distribution\n",
    "\n",
    "This notebook extracts pitch class distribution from the predominant melody of each audio recording using [tomato v0.14.0](https://github.com/sertansenturk/tomato/tree/v0.14.0):\n"
   ]
  },
  {
   "cell_type": "code",
   "execution_count": 1,
   "metadata": {},
   "outputs": [],
   "source": [
    "import mre\n"
   ]
  },
  {
   "cell_type": "markdown",
   "metadata": {},
   "source": [
    "## Stop if pitch class distibution was run in the past\n",
    "\n",
    "Extracting the feature may take a long time. It is better to check if there is already a run in advance."
   ]
  },
  {
   "cell_type": "code",
   "execution_count": 2,
   "metadata": {},
   "outputs": [
    {
     "name": "stderr",
     "output_type": "stream",
     "text": [
      "No runs with the name pitch_class_distribution in experiment data_processing\n"
     ]
    }
   ],
   "source": [
    "run = mre.mlflow_common.get_run_by_name(\n",
    "    mre.data.PitchClassDistribution.EXPERIMENT_NAME,\n",
    "    mre.data.PitchClassDistribution.RUN_NAME)\n",
    "\n",
    "if run is not None:\n",
    "    raise ValueError(\n",
    "        \"There is already a run for %s:%s. Overwriting is not \"\n",
    "        \"permitted. Please delete the run manually if you want \"\n",
    "        \"to extract the pitch class distribution again.\"\n",
    "        % (mre.data.PitchClassDistribution.RUN_NAME, run.run_id))\n"
   ]
  },
  {
   "cell_type": "markdown",
   "metadata": {},
   "source": [
    "# Read predominant melody filepaths from mlflow\n"
   ]
  },
  {
   "cell_type": "code",
   "execution_count": 3,
   "metadata": {},
   "outputs": [
    {
     "data": {
      "text/plain": [
       "['/data/artifacts/2/c2f9cc075e2648009cc274eb75c6807c/artifacts/006536f8-bf54-4cc0-a510-5a52456d09f8.npy',\n",
       " '/data/artifacts/2/c2f9cc075e2648009cc274eb75c6807c/artifacts/009309d2-c260-4808-8f1d-44a5ddc6bc5f.npy',\n",
       " '/data/artifacts/2/c2f9cc075e2648009cc274eb75c6807c/artifacts/00a48b5f-a35a-436c-a7a0-4438130f4abf.npy',\n",
       " '/data/artifacts/2/c2f9cc075e2648009cc274eb75c6807c/artifacts/00ab81ec-07f8-47ba-9610-47ad56393eb9.npy',\n",
       " '/data/artifacts/2/c2f9cc075e2648009cc274eb75c6807c/artifacts/00be9a4b-b85f-4601-a6d5-9ce1f5b3f91c.npy']"
      ]
     },
     "metadata": {},
     "output_type": "display_data"
    }
   ],
   "source": [
    "melody_paths = mre.data.PredominantMelodyMakam.from_mlflow()\n",
    "display(melody_paths[:5])"
   ]
  },
  {
   "cell_type": "markdown",
   "metadata": {},
   "source": [
    "# Read tonic annotations from mlflow"
   ]
  },
  {
   "cell_type": "code",
   "execution_count": 4,
   "metadata": {},
   "outputs": [
    {
     "data": {
      "text/plain": [
       "mbid\n",
       "00f1c6d9-c8ee-45e3-a06f-0882ebcb4e2f    256.0\n",
       "168f7c75-84fb-4316-99d7-acabadd3b2e6    115.2\n",
       "24f549dd-3fa4-4e9b-a356-778fbbfd5cad    232.5\n",
       "407bb0b4-f19b-42ab-8c0a-9f1263126951    233.5\n",
       "443819eb-6092-420c-bd86-d946a0ad6555    219.6\n",
       "Name: tonic, dtype: float64"
      ]
     },
     "execution_count": 4,
     "metadata": {},
     "output_type": "execute_result"
    }
   ],
   "source": [
    "annotations = mre.data.Annotation.from_mlflow()\n",
    "tonic_frequencies = annotations.data.set_index(\"mbid\")[\"tonic\"]\n",
    "tonic_frequencies.head()\n"
   ]
  },
  {
   "cell_type": "markdown",
   "metadata": {},
   "source": [
    "# Extract pitch class distributions from normalized predominant melody features and log to mlflow\n"
   ]
  },
  {
   "cell_type": "code",
   "execution_count": 5,
   "metadata": {},
   "outputs": [
    {
     "name": "stderr",
     "output_type": "stream",
     "text": [
      "100%|██████████| 1000/1000 [00:39<00:00, 25.14it/s]\n",
      "No runs with the name pitch_class_distribution in experiment data_processing\n"
     ]
    }
   ],
   "source": [
    "pcd = mre.data.PitchClassDistribution()\n",
    "pcd.transform(melody_paths, tonic_frequencies)\n",
    "pcd.log()\n"
   ]
  }
 ],
 "metadata": {
  "kernelspec": {
   "display_name": "Python 3",
   "language": "python",
   "name": "python3"
  },
  "language_info": {
   "codemirror_mode": {
    "name": "ipython",
    "version": 3
   },
   "file_extension": ".py",
   "mimetype": "text/x-python",
   "name": "python",
   "nbconvert_exporter": "python",
   "pygments_lexer": "ipython3",
   "version": "3.7.6"
  },
  "toc": {
   "base_numbering": 1,
   "nav_menu": {},
   "number_sections": true,
   "sideBar": true,
   "skip_h1_title": false,
   "title_cell": "Table of Contents",
   "title_sidebar": "Contents",
   "toc_cell": false,
   "toc_position": {},
   "toc_section_display": true,
   "toc_window_display": false
  }
 },
 "nbformat": 4,
 "nbformat_minor": 4
}
