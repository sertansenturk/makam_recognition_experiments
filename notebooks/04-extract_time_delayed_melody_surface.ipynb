{
 "cells": [
  {
   "cell_type": "markdown",
   "metadata": {},
   "source": [
    "# 04-extract_tdms\n",
    "\n",
    "This notebook extracts time delayed melody surface from the predominant melody of each audio recording. The feature was introduced in:\n",
    "\n",
    "> Gulati S, Serrà J, Ganguli K K, Şentürk S, Serra X. Time-delayed melody surfaces for Rāga recognition. In Proceedings of the 17th International Society for Music Information Retrieval Conference (ISMIR 2016); 2016 Aug 7-11; New York City (NY). p. 751-7.\n"
   ]
  },
  {
   "cell_type": "code",
   "execution_count": 1,
   "metadata": {},
   "outputs": [],
   "source": [
    "import mre\n",
    "import logging\n",
    "\n",
    "%load_ext autoreload\n",
    "%autoreload 2\n"
   ]
  },
  {
   "cell_type": "code",
   "execution_count": 2,
   "metadata": {},
   "outputs": [
    {
     "name": "stderr",
     "output_type": "stream",
     "text": [
      "INFO:root:Init logger\n"
     ]
    }
   ],
   "source": [
    "logger = logging.getLogger()\n",
    "logger.info(\"Init logger\")"
   ]
  },
  {
   "cell_type": "markdown",
   "metadata": {},
   "source": [
    "## Display TDMS features computed in the past\n",
    "\n",
    "Unlike the other features, we experiment with different TDMS settings to optimize the feature for OTMM. We will create multiple runs with the same name.\n",
    "\n",
    "We display the runs below:\n"
   ]
  },
  {
   "cell_type": "code",
   "execution_count": 3,
   "metadata": {},
   "outputs": [
    {
     "name": "stderr",
     "output_type": "stream",
     "text": [
      "No runs with the name time_delayed_melody_surface in experiment data_processing\n"
     ]
    },
    {
     "data": {
      "text/plain": [
       "None"
      ]
     },
     "metadata": {},
     "output_type": "display_data"
    }
   ],
   "source": [
    "run = mre.mlflow_common.get_runs_with_same_name(\n",
    "    mre.data.TimeDelayedMelodySurface.EXPERIMENT_NAME,\n",
    "    mre.data.TimeDelayedMelodySurface.RUN_NAME)\n",
    "display(run)"
   ]
  },
  {
   "cell_type": "markdown",
   "metadata": {},
   "source": [
    "# Read predominant melody filepaths from mlflow\n"
   ]
  },
  {
   "cell_type": "code",
   "execution_count": 4,
   "metadata": {},
   "outputs": [
    {
     "data": {
      "text/plain": [
       "['/data/artifacts/1/2608c404325846309549b68e5020bd17/artifacts/006536f8-bf54-4cc0-a510-5a52456d09f8.npy',\n",
       " '/data/artifacts/1/2608c404325846309549b68e5020bd17/artifacts/009309d2-c260-4808-8f1d-44a5ddc6bc5f.npy',\n",
       " '/data/artifacts/1/2608c404325846309549b68e5020bd17/artifacts/00a48b5f-a35a-436c-a7a0-4438130f4abf.npy',\n",
       " '/data/artifacts/1/2608c404325846309549b68e5020bd17/artifacts/00ab81ec-07f8-47ba-9610-47ad56393eb9.npy',\n",
       " '/data/artifacts/1/2608c404325846309549b68e5020bd17/artifacts/00be9a4b-b85f-4601-a6d5-9ce1f5b3f91c.npy']"
      ]
     },
     "metadata": {},
     "output_type": "display_data"
    }
   ],
   "source": [
    "melody_paths = mre.data.PredominantMelodyMakam.from_mlflow()\n",
    "display(melody_paths[:5])"
   ]
  },
  {
   "cell_type": "markdown",
   "metadata": {},
   "source": [
    "# Read tonic annotations from mlflow"
   ]
  },
  {
   "cell_type": "code",
   "execution_count": 5,
   "metadata": {},
   "outputs": [
    {
     "data": {
      "text/plain": [
       "mbid\n",
       "00f1c6d9-c8ee-45e3-a06f-0882ebcb4e2f    256.0\n",
       "168f7c75-84fb-4316-99d7-acabadd3b2e6    115.2\n",
       "24f549dd-3fa4-4e9b-a356-778fbbfd5cad    232.5\n",
       "407bb0b4-f19b-42ab-8c0a-9f1263126951    233.5\n",
       "443819eb-6092-420c-bd86-d946a0ad6555    219.6\n",
       "Name: tonic, dtype: float64"
      ]
     },
     "execution_count": 5,
     "metadata": {},
     "output_type": "execute_result"
    }
   ],
   "source": [
    "annotations = mre.data.Annotation.from_mlflow()\n",
    "tonic_frequencies = annotations.data.set_index(\"mbid\")[\"tonic\"]\n",
    "tonic_frequencies.head()\n"
   ]
  },
  {
   "cell_type": "markdown",
   "metadata": {},
   "source": [
    "# Extract TDMSs from normalized predominant melody features and log to mlflow\n"
   ]
  },
  {
   "cell_type": "code",
   "execution_count": 6,
   "metadata": {},
   "outputs": [
    {
     "name": "stderr",
     "output_type": "stream",
     "text": [
      "INFO:root:Computing TDMS with parameters: {'time_delay_index': 0.25, 'compression_exponent': None, 'kernel_width': None}\n",
      "100%|██████████| 1000/1000 [06:46<00:00,  2.46it/s]\n",
      "No runs with the name time_delayed_melody_surface in experiment data_processing\n",
      "INFO:root:Computing TDMS with parameters: {'time_delay_index': 0.5, 'compression_exponent': None, 'kernel_width': None}\n",
      "100%|██████████| 1000/1000 [03:26<00:00,  4.83it/s]\n",
      "INFO:root:Computing TDMS with parameters: {'time_delay_index': 1.0, 'compression_exponent': None, 'kernel_width': None}\n",
      "100%|██████████| 1000/1000 [05:05<00:00,  3.27it/s]\n",
      "INFO:root:Computing TDMS with parameters: {'time_delay_index': 1.5, 'compression_exponent': None, 'kernel_width': None}\n",
      "100%|██████████| 1000/1000 [03:41<00:00,  4.51it/s]\n",
      "INFO:root:Computing TDMS with parameters: {'time_delay_index': 2.5, 'compression_exponent': None, 'kernel_width': None}\n",
      "100%|██████████| 1000/1000 [04:31<00:00,  3.69it/s]\n",
      "INFO:root:Computing TDMS with parameters: {'time_delay_index': 5, 'compression_exponent': None, 'kernel_width': None}\n",
      "100%|██████████| 1000/1000 [05:40<00:00,  2.94it/s]\n"
     ]
    }
   ],
   "source": [
    "for tau in [0.25, 0.5, 1.0, 1.5, 2.5, 5]:\n",
    "    tdms_params = {\n",
    "        \"time_delay_index\": tau,\n",
    "        # no compression; will be done later during the experiments\n",
    "        \"compression_exponent\": None,\n",
    "        # smoothing; will be done later during the experiments\n",
    "        \"kernel_width\": None,\n",
    "    }\n",
    "    logger.info(f\"Computing TDMS with parameters: {tdms_params}\")\n",
    "    tdms = mre.data.TimeDelayedMelodySurface(\n",
    "        **tdms_params\n",
    "    )\n",
    "    tdms.transform(melody_paths, tonic_frequencies)\n",
    "    tdms.log()\n"
   ]
  }
 ],
 "metadata": {
  "kernelspec": {
   "display_name": "Python 3",
   "language": "python",
   "name": "python3"
  },
  "language_info": {
   "codemirror_mode": {
    "name": "ipython",
    "version": 3
   },
   "file_extension": ".py",
   "mimetype": "text/x-python",
   "name": "python",
   "nbconvert_exporter": "python",
   "pygments_lexer": "ipython3",
   "version": "3.7.6"
  },
  "toc": {
   "base_numbering": 1,
   "nav_menu": {},
   "number_sections": true,
   "sideBar": true,
   "skip_h1_title": false,
   "title_cell": "Table of Contents",
   "title_sidebar": "Contents",
   "toc_cell": false,
   "toc_position": {},
   "toc_section_display": true,
   "toc_window_display": false
  }
 },
 "nbformat": 4,
 "nbformat_minor": 4
}
