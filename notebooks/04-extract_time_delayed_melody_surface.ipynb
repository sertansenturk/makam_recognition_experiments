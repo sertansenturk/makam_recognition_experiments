{
 "cells": [
  {
   "cell_type": "markdown",
   "metadata": {},
   "source": [
    "# 04-extract_tdms\n",
    "\n",
    "This notebook extracts time delayed melody surface from the predominant melody of each audio recording. The feature was introduced in:\n",
    "\n",
    "> Gulati S, Serrà J, Ganguli K K, Şentürk S, Serra X. Time-delayed melody surfaces for Rāga recognition. In Proceedings of the 17th International Society for Music Information Retrieval Conference (ISMIR 2016); 2016 Aug 7-11; New York City (NY). p. 751-7.\n"
   ]
  },
  {
   "cell_type": "code",
   "execution_count": 1,
   "metadata": {},
   "outputs": [],
   "source": [
    "import mre\n",
    "import logging\n",
    "\n",
    "%load_ext autoreload\n",
    "%autoreload 2\n"
   ]
  },
  {
   "cell_type": "code",
   "execution_count": 2,
   "metadata": {},
   "outputs": [
    {
     "name": "stderr",
     "output_type": "stream",
     "text": [
      "INFO:root:Init logger\n"
     ]
    }
   ],
   "source": [
    "logger = logging.getLogger()\n",
    "logger.info(\"Init logger\")"
   ]
  },
  {
   "cell_type": "markdown",
   "metadata": {},
   "source": [
    "## Display TDMS features computed in the past\n",
    "\n",
    "Unlike the other features, we experiment with different TDMS settings to optimize the feature for OTMM. We will create multiple runs with the same name.\n",
    "\n",
    "We display the runs below:\n"
   ]
  },
  {
   "cell_type": "code",
   "execution_count": 7,
   "metadata": {},
   "outputs": [
    {
     "data": {
      "text/html": [
       "<div>\n",
       "<style scoped>\n",
       "    .dataframe tbody tr th:only-of-type {\n",
       "        vertical-align: middle;\n",
       "    }\n",
       "\n",
       "    .dataframe tbody tr th {\n",
       "        vertical-align: top;\n",
       "    }\n",
       "\n",
       "    .dataframe thead th {\n",
       "        text-align: right;\n",
       "    }\n",
       "</style>\n",
       "<table border=\"1\" class=\"dataframe\">\n",
       "  <thead>\n",
       "    <tr style=\"text-align: right;\">\n",
       "      <th></th>\n",
       "      <th>run_id</th>\n",
       "      <th>experiment_id</th>\n",
       "      <th>status</th>\n",
       "      <th>artifact_uri</th>\n",
       "      <th>start_time</th>\n",
       "      <th>end_time</th>\n",
       "      <th>tags.kernel_width</th>\n",
       "      <th>tags.mlflow.source.type</th>\n",
       "      <th>tags.mlflow.user</th>\n",
       "      <th>tags.step_size</th>\n",
       "      <th>tags.time_delay_index</th>\n",
       "      <th>tags.mlflow.source.name</th>\n",
       "      <th>tags.compression_exponent</th>\n",
       "      <th>tags.mlflow.runName</th>\n",
       "    </tr>\n",
       "  </thead>\n",
       "  <tbody>\n",
       "    <tr>\n",
       "      <th>0</th>\n",
       "      <td>9c4eddc076fb416bb46c8cc5c137f644</td>\n",
       "      <td>1</td>\n",
       "      <td>FINISHED</td>\n",
       "      <td>/data/artifacts/1/9c4eddc076fb416bb46c8cc5c137...</td>\n",
       "      <td>2022-05-16 01:20:13.497000+00:00</td>\n",
       "      <td>2022-05-16 01:20:24.817000+00:00</td>\n",
       "      <td>None</td>\n",
       "      <td>LOCAL</td>\n",
       "      <td>sertan.senturk</td>\n",
       "      <td>25.0</td>\n",
       "      <td>1.0</td>\n",
       "      <td>/opt/conda/lib/python3.7/site-packages/ipykern...</td>\n",
       "      <td>None</td>\n",
       "      <td>time_delayed_melody_surface</td>\n",
       "    </tr>\n",
       "    <tr>\n",
       "      <th>1</th>\n",
       "      <td>f58abf754683402295164df3747e3ea1</td>\n",
       "      <td>1</td>\n",
       "      <td>FINISHED</td>\n",
       "      <td>/data/artifacts/1/f58abf754683402295164df3747e...</td>\n",
       "      <td>2022-05-16 01:17:14.190000+00:00</td>\n",
       "      <td>2022-05-16 01:17:23.611000+00:00</td>\n",
       "      <td>None</td>\n",
       "      <td>LOCAL</td>\n",
       "      <td>sertan.senturk</td>\n",
       "      <td>25.0</td>\n",
       "      <td>0.5</td>\n",
       "      <td>/opt/conda/lib/python3.7/site-packages/ipykern...</td>\n",
       "      <td>None</td>\n",
       "      <td>time_delayed_melody_surface</td>\n",
       "    </tr>\n",
       "    <tr>\n",
       "      <th>2</th>\n",
       "      <td>8e2e0b78f61941beb26d8f2b0a1e3019</td>\n",
       "      <td>1</td>\n",
       "      <td>FINISHED</td>\n",
       "      <td>/data/artifacts/1/8e2e0b78f61941beb26d8f2b0a1e...</td>\n",
       "      <td>2022-05-16 01:13:47.381000+00:00</td>\n",
       "      <td>2022-05-16 01:13:56.420000+00:00</td>\n",
       "      <td>None</td>\n",
       "      <td>LOCAL</td>\n",
       "      <td>sertan.senturk</td>\n",
       "      <td>25.0</td>\n",
       "      <td>0.25</td>\n",
       "      <td>/opt/conda/lib/python3.7/site-packages/ipykern...</td>\n",
       "      <td>None</td>\n",
       "      <td>time_delayed_melody_surface</td>\n",
       "    </tr>\n",
       "  </tbody>\n",
       "</table>\n",
       "</div>"
      ],
      "text/plain": [
       "                             run_id experiment_id    status  \\\n",
       "0  9c4eddc076fb416bb46c8cc5c137f644             1  FINISHED   \n",
       "1  f58abf754683402295164df3747e3ea1             1  FINISHED   \n",
       "2  8e2e0b78f61941beb26d8f2b0a1e3019             1  FINISHED   \n",
       "\n",
       "                                        artifact_uri  \\\n",
       "0  /data/artifacts/1/9c4eddc076fb416bb46c8cc5c137...   \n",
       "1  /data/artifacts/1/f58abf754683402295164df3747e...   \n",
       "2  /data/artifacts/1/8e2e0b78f61941beb26d8f2b0a1e...   \n",
       "\n",
       "                        start_time                         end_time  \\\n",
       "0 2022-05-16 01:20:13.497000+00:00 2022-05-16 01:20:24.817000+00:00   \n",
       "1 2022-05-16 01:17:14.190000+00:00 2022-05-16 01:17:23.611000+00:00   \n",
       "2 2022-05-16 01:13:47.381000+00:00 2022-05-16 01:13:56.420000+00:00   \n",
       "\n",
       "  tags.kernel_width tags.mlflow.source.type tags.mlflow.user tags.step_size  \\\n",
       "0              None                   LOCAL   sertan.senturk           25.0   \n",
       "1              None                   LOCAL   sertan.senturk           25.0   \n",
       "2              None                   LOCAL   sertan.senturk           25.0   \n",
       "\n",
       "  tags.time_delay_index                            tags.mlflow.source.name  \\\n",
       "0                   1.0  /opt/conda/lib/python3.7/site-packages/ipykern...   \n",
       "1                   0.5  /opt/conda/lib/python3.7/site-packages/ipykern...   \n",
       "2                  0.25  /opt/conda/lib/python3.7/site-packages/ipykern...   \n",
       "\n",
       "  tags.compression_exponent          tags.mlflow.runName  \n",
       "0                      None  time_delayed_melody_surface  \n",
       "1                      None  time_delayed_melody_surface  \n",
       "2                      None  time_delayed_melody_surface  "
      ]
     },
     "metadata": {},
     "output_type": "display_data"
    }
   ],
   "source": [
    "run = mre.mlflow_common.get_runs_with_same_name(\n",
    "    mre.data.TimeDelayedMelodySurface.EXPERIMENT_NAME,\n",
    "    mre.data.TimeDelayedMelodySurface.RUN_NAME)\n",
    "display(run)"
   ]
  },
  {
   "cell_type": "code",
   "execution_count": 15,
   "metadata": {},
   "outputs": [
    {
     "data": {
      "text/plain": [
       "'None'"
      ]
     },
     "execution_count": 15,
     "metadata": {},
     "output_type": "execute_result"
    }
   ],
   "source": [
    "run[\"tags.compression_exponent\"].iloc[0]\n",
    "\n"
   ]
  },
  {
   "cell_type": "markdown",
   "metadata": {},
   "source": [
    "# Read predominant melody filepaths from mlflow\n"
   ]
  },
  {
   "cell_type": "code",
   "execution_count": 4,
   "metadata": {},
   "outputs": [
    {
     "data": {
      "text/plain": [
       "['/data/artifacts/1/2608c404325846309549b68e5020bd17/artifacts/006536f8-bf54-4cc0-a510-5a52456d09f8.npy',\n",
       " '/data/artifacts/1/2608c404325846309549b68e5020bd17/artifacts/009309d2-c260-4808-8f1d-44a5ddc6bc5f.npy',\n",
       " '/data/artifacts/1/2608c404325846309549b68e5020bd17/artifacts/00a48b5f-a35a-436c-a7a0-4438130f4abf.npy',\n",
       " '/data/artifacts/1/2608c404325846309549b68e5020bd17/artifacts/00ab81ec-07f8-47ba-9610-47ad56393eb9.npy',\n",
       " '/data/artifacts/1/2608c404325846309549b68e5020bd17/artifacts/00be9a4b-b85f-4601-a6d5-9ce1f5b3f91c.npy']"
      ]
     },
     "metadata": {},
     "output_type": "display_data"
    }
   ],
   "source": [
    "melody_paths = mre.data.PredominantMelodyMakam.from_mlflow()\n",
    "display(melody_paths[:5])"
   ]
  },
  {
   "cell_type": "markdown",
   "metadata": {},
   "source": [
    "# Read tonic annotations from mlflow"
   ]
  },
  {
   "cell_type": "code",
   "execution_count": 5,
   "metadata": {},
   "outputs": [
    {
     "data": {
      "text/plain": [
       "mbid\n",
       "00f1c6d9-c8ee-45e3-a06f-0882ebcb4e2f    256.0\n",
       "168f7c75-84fb-4316-99d7-acabadd3b2e6    115.2\n",
       "24f549dd-3fa4-4e9b-a356-778fbbfd5cad    232.5\n",
       "407bb0b4-f19b-42ab-8c0a-9f1263126951    233.5\n",
       "443819eb-6092-420c-bd86-d946a0ad6555    219.6\n",
       "Name: tonic, dtype: float64"
      ]
     },
     "execution_count": 5,
     "metadata": {},
     "output_type": "execute_result"
    }
   ],
   "source": [
    "annotations = mre.data.Annotation.from_mlflow()\n",
    "tonic_frequencies = annotations.data.set_index(\"mbid\")[\"tonic\"]\n",
    "tonic_frequencies.head()\n"
   ]
  },
  {
   "cell_type": "markdown",
   "metadata": {},
   "source": [
    "# Extract TDMSs from normalized predominant melody features and log to mlflow\n"
   ]
  },
  {
   "cell_type": "code",
   "execution_count": 6,
   "metadata": {},
   "outputs": [
    {
     "name": "stderr",
     "output_type": "stream",
     "text": [
      "INFO:root:Computing TDMS with parameters: {'time_delay_index': 0.25, 'compression_exponent': None, 'kernel_width': None}\n",
      "100%|██████████| 1000/1000 [03:12<00:00,  5.20it/s]\n",
      "No runs with the name time_delayed_melody_surface in experiment data_processing\n",
      "INFO:root:Computing TDMS with parameters: {'time_delay_index': 0.5, 'compression_exponent': None, 'kernel_width': None}\n",
      "100%|██████████| 1000/1000 [03:17<00:00,  5.06it/s]\n",
      "INFO:root:Computing TDMS with parameters: {'time_delay_index': 1.0, 'compression_exponent': None, 'kernel_width': None}\n",
      "100%|██████████| 1000/1000 [02:49<00:00,  5.89it/s]\n"
     ]
    }
   ],
   "source": [
    "for tau in [0.25, 0.5, 1.0]:\n",
    "    tdms_params = {\n",
    "        \"time_delay_index\": tau,\n",
    "        # no compression; will be done later during the experiments\n",
    "        \"compression_exponent\": None,\n",
    "        # smoothing; will be done later during the experiments\n",
    "        \"kernel_width\": None,\n",
    "    }\n",
    "    logger.info(f\"Computing TDMS with parameters: {tdms_params}\")\n",
    "    tdms = mre.data.TimeDelayedMelodySurface(\n",
    "        **tdms_params\n",
    "    )\n",
    "    tdms.transform(melody_paths, tonic_frequencies)\n",
    "    tdms.log()\n"
   ]
  }
 ],
 "metadata": {
  "kernelspec": {
   "display_name": "Python 3",
   "language": "python",
   "name": "python3"
  },
  "language_info": {
   "codemirror_mode": {
    "name": "ipython",
    "version": 3
   },
   "file_extension": ".py",
   "mimetype": "text/x-python",
   "name": "python",
   "nbconvert_exporter": "python",
   "pygments_lexer": "ipython3",
   "version": "3.7.6"
  },
  "toc": {
   "base_numbering": 1,
   "nav_menu": {},
   "number_sections": true,
   "sideBar": true,
   "skip_h1_title": false,
   "title_cell": "Table of Contents",
   "title_sidebar": "Contents",
   "toc_cell": false,
   "toc_position": {},
   "toc_section_display": true,
   "toc_window_display": false
  }
 },
 "nbformat": 4,
 "nbformat_minor": 4
}
