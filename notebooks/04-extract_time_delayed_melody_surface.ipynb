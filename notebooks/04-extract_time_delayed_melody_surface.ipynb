{
 "cells": [
  {
   "cell_type": "markdown",
   "metadata": {},
   "source": [
    "# 04-extract_tdml\n",
    "\n",
    "This notebook extracts time delayed melody surface from the predominant melody of each audio recording. The feature was introduced in:\n",
    "\n",
    "> Gulati S, Serrà J, Ganguli K K, Şentürk S, Serra X. Time-delayed melody surfaces for Rāga recognition. In Proceedings of the 17th International Society for Music Information Retrieval Conference (ISMIR 2016); 2016 Aug 7-11; New York City (NY). p. 751-7.\n"
   ]
  },
  {
   "cell_type": "code",
   "execution_count": 1,
   "metadata": {},
   "outputs": [],
   "source": [
    "import mre\n",
    "\n",
    "%load_ext autoreload\n",
    "%autoreload 2"
   ]
  },
  {
   "cell_type": "code",
   "execution_count": 2,
   "metadata": {},
   "outputs": [],
   "source": [
    "import numpy as np"
   ]
  },
  {
   "cell_type": "code",
   "execution_count": 3,
   "metadata": {},
   "outputs": [],
   "source": [
    "# def bhat(mtx1, mtx2):\n",
    "#     return -np.log(np.sum(np.sqrt(mtx1 * mtx2)))\n",
    "\n",
    "# # code ported from https://github.com/sankalpg/Library_PythonNew\n",
    "# EPS = np.finfo(np.float).resolution\n",
    "# def sym_kld(mtx1, mtx2):\n",
    "#     mtx1 = mtx1 + EPS\n",
    "#     mtx2 = mtx2 + EPS\n",
    "#     return mtx1 * np.log(mtx1/mtx2) + mtx2 * np.log(mtx2/mtx1)  "
   ]
  },
  {
   "cell_type": "markdown",
   "metadata": {},
   "source": [
    "## Stop if pitch class distibution was run in the past\n",
    "\n",
    "Extracting the feature may take a long time. It is better to check if there is already a run in advance."
   ]
  },
  {
   "cell_type": "code",
   "execution_count": 4,
   "metadata": {},
   "outputs": [],
   "source": [
    "# run = mre.mlflow_common.get_run_by_name(\n",
    "#     mre.data.PitchClassDistribution.EXPERIMENT_NAME,\n",
    "#     mre.data.PitchClassDistribution.RUN_NAME)\n",
    "\n",
    "# if run is not None:\n",
    "#     raise ValueError(\n",
    "#         \"There is already a run for %s:%s. Overwriting is not \"\n",
    "#         \"permitted. Please delete the run manually if you want \"\n",
    "#         \"to extract the pitch class distribution again.\"\n",
    "#         % (mre.data.PitchClassDistribution.RUN_NAME, run.run_id))\n"
   ]
  },
  {
   "cell_type": "markdown",
   "metadata": {},
   "source": [
    "# Read predominant melody filepaths from mlflow\n"
   ]
  },
  {
   "cell_type": "code",
   "execution_count": 5,
   "metadata": {},
   "outputs": [
    {
     "data": {
      "text/plain": [
       "['/data/artifacts/1/2608c404325846309549b68e5020bd17/artifacts/006536f8-bf54-4cc0-a510-5a52456d09f8.npy',\n",
       " '/data/artifacts/1/2608c404325846309549b68e5020bd17/artifacts/009309d2-c260-4808-8f1d-44a5ddc6bc5f.npy',\n",
       " '/data/artifacts/1/2608c404325846309549b68e5020bd17/artifacts/00a48b5f-a35a-436c-a7a0-4438130f4abf.npy',\n",
       " '/data/artifacts/1/2608c404325846309549b68e5020bd17/artifacts/00ab81ec-07f8-47ba-9610-47ad56393eb9.npy',\n",
       " '/data/artifacts/1/2608c404325846309549b68e5020bd17/artifacts/00be9a4b-b85f-4601-a6d5-9ce1f5b3f91c.npy']"
      ]
     },
     "metadata": {},
     "output_type": "display_data"
    }
   ],
   "source": [
    "melody_paths = mre.data.PredominantMelodyMakam.from_mlflow()\n",
    "display(melody_paths[:5])"
   ]
  },
  {
   "cell_type": "markdown",
   "metadata": {},
   "source": [
    "# Read tonic annotations from mlflow"
   ]
  },
  {
   "cell_type": "code",
   "execution_count": 6,
   "metadata": {},
   "outputs": [
    {
     "data": {
      "text/plain": [
       "mbid\n",
       "00f1c6d9-c8ee-45e3-a06f-0882ebcb4e2f    256.0\n",
       "168f7c75-84fb-4316-99d7-acabadd3b2e6    115.2\n",
       "24f549dd-3fa4-4e9b-a356-778fbbfd5cad    232.5\n",
       "407bb0b4-f19b-42ab-8c0a-9f1263126951    233.5\n",
       "443819eb-6092-420c-bd86-d946a0ad6555    219.6\n",
       "Name: tonic, dtype: float64"
      ]
     },
     "execution_count": 6,
     "metadata": {},
     "output_type": "execute_result"
    }
   ],
   "source": [
    "annotations = mre.data.Annotation.from_mlflow()\n",
    "tonic_frequencies = annotations.data.set_index(\"mbid\")[\"tonic\"]\n",
    "tonic_frequencies.head()\n"
   ]
  },
  {
   "cell_type": "markdown",
   "metadata": {},
   "source": [
    "# Extract TDMLs from normalized predominant melody features and log to mlflow\n"
   ]
  },
  {
   "cell_type": "code",
   "execution_count": 7,
   "metadata": {},
   "outputs": [],
   "source": [
    "# pcd = mre.data.TimeDelayedMelodySurface()\n",
    "# pcd.transform(melody_paths, tonic_frequencies)\n",
    "# pcd.log()\n"
   ]
  },
  {
   "cell_type": "code",
   "execution_count": 8,
   "metadata": {},
   "outputs": [],
   "source": [
    "from pathlib import Path\n",
    "mel_mbids = [Path(pp).stem for pp in melody_paths]\n",
    "tonic_mbids = list(tonic_frequencies.index)"
   ]
  },
  {
   "cell_type": "markdown",
   "metadata": {},
   "source": [
    "# Compute for one"
   ]
  },
  {
   "cell_type": "code",
   "execution_count": 32,
   "metadata": {},
   "outputs": [],
   "source": [
    "makam_idx = annotations.data[annotations.data[\"makam\"] == \"Huseyni\"].index\n",
    "\n",
    "mbid = annotations.data.iloc[makam_idx[35]].mbid\n",
    "mbid\n",
    "\n",
    "for path in melody_paths:\n",
    "    if mbid in path:\n",
    "        break\n",
    "\n",
    "ref_freq = tonic_frequencies.loc[mbid]\n"
   ]
  },
  {
   "cell_type": "code",
   "execution_count": 33,
   "metadata": {},
   "outputs": [
    {
     "data": {
      "text/plain": [
       "<matplotlib.image.AxesImage at 0x7fc472fdfdd0>"
      ]
     },
     "execution_count": 33,
     "metadata": {},
     "output_type": "execute_result"
    },
    {
     "data": {
      "image/png": "[encoded data removed]",
      "text/plain": [
       "<Figure size 432x288 with 2 Axes>"
      ]
     },
     "metadata": {
      "needs_background": "light"
     },
     "output_type": "display_data"
    }
   ],
   "source": [
    "STEP_SIZE = 25.0  # same as pcd\n",
    "TIME_DELAY_INDEX = 0.3\n",
    "COMPRESSION_EXPONENT = 0.25\n",
    "KERNEL_WIDTH = 1\n",
    "\n",
    "tdms_obj = mre.data.TDMSProcessor.from_hz_pitch(\n",
    "    melody,\n",
    "    ref_freq=ref_freq,\n",
    "    step_size=STEP_SIZE,\n",
    "    time_delay_index=TIME_DELAY_INDEX,\n",
    "    compression_exponent=COMPRESSION_EXPONENT,\n",
    "    kernel_width=KERNEL_WIDTH\n",
    ")\n",
    "tdms_obj.plot()"
   ]
  },
  {
   "cell_type": "code",
   "execution_count": null,
   "metadata": {},
   "outputs": [],
   "source": []
  }
 ],
 "metadata": {
  "kernelspec": {
   "display_name": "Python 3",
   "language": "python",
   "name": "python3"
  },
  "language_info": {
   "codemirror_mode": {
    "name": "ipython",
    "version": 3
   },
   "file_extension": ".py",
   "mimetype": "text/x-python",
   "name": "python",
   "nbconvert_exporter": "python",
   "pygments_lexer": "ipython3",
   "version": "3.7.6"
  },
  "toc": {
   "base_numbering": 1,
   "nav_menu": {},
   "number_sections": true,
   "sideBar": true,
   "skip_h1_title": false,
   "title_cell": "Table of Contents",
   "title_sidebar": "Contents",
   "toc_cell": false,
   "toc_position": {},
   "toc_section_display": true,
   "toc_window_display": false
  }
 },
 "nbformat": 4,
 "nbformat_minor": 4
}
