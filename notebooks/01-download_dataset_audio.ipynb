{
 "cells": [
  {
   "cell_type": "markdown",
   "metadata": {},
   "source": [
    "# 01-download_dataset_audio\n",
    "\n",
    "This notebook downloads the audio recordings listed in the `annotation.json` from [Dunya makam music corpus](https://dunya.compmusic.upf.edu/).  The annotations are saved in a `mlflow` run called `download_audio` under an experiment named `data_processing`."
   ]
  },
  {
   "cell_type": "code",
   "execution_count": 1,
   "metadata": {},
   "outputs": [],
   "source": [
    "import mre\n"
   ]
  },
  {
   "cell_type": "markdown",
   "metadata": {},
   "source": [
    "## Stop if audio were fetched in the past\n",
    "\n",
    "Downloading all recordings may take a long time. It is better to check if there is already a run in advance."
   ]
  },
  {
   "cell_type": "code",
   "execution_count": 2,
   "metadata": {},
   "outputs": [
    {
     "name": "stderr",
     "output_type": "stream",
     "text": [
      "No runs with the name audio in experiment data_processing\n"
     ]
    }
   ],
   "source": [
    "run = mre.mlflow_common.get_run_by_name(\n",
    "    mre.data.Audio.EXPERIMENT_NAME, mre.data.Audio.RUN_NAME)\n",
    "\n",
    "if run is not None:\n",
    "    raise ValueError(\n",
    "        \"There is already a run for %s:%s. Overwriting is not \"\n",
    "        \"permitted. Please delete the run manually if you want \"\n",
    "        \"to download the audio recordings again.\"\n",
    "        % (mre.data.Audio.RUN_NAME, run.run_id))\n"
   ]
  },
  {
   "cell_type": "markdown",
   "metadata": {},
   "source": [
    "# Read annotations from mlflow\n"
   ]
  },
  {
   "cell_type": "code",
   "execution_count": 3,
   "metadata": {},
   "outputs": [
    {
     "data": {
      "text/html": [
       "<div>\n",
       "<style scoped>\n",
       "    .dataframe tbody tr th:only-of-type {\n",
       "        vertical-align: middle;\n",
       "    }\n",
       "\n",
       "    .dataframe tbody tr th {\n",
       "        vertical-align: top;\n",
       "    }\n",
       "\n",
       "    .dataframe thead th {\n",
       "        text-align: right;\n",
       "    }\n",
       "</style>\n",
       "<table border=\"1\" class=\"dataframe\">\n",
       "  <thead>\n",
       "    <tr style=\"text-align: right;\">\n",
       "      <th></th>\n",
       "      <th>dunya_uid</th>\n",
       "      <th>makam</th>\n",
       "      <th>mb_url</th>\n",
       "      <th>mbid</th>\n",
       "      <th>observations</th>\n",
       "      <th>tonic</th>\n",
       "      <th>verified</th>\n",
       "    </tr>\n",
       "  </thead>\n",
       "  <tbody>\n",
       "    <tr>\n",
       "      <th>0</th>\n",
       "      <td>00f1c6d9-c8ee-45e3-a06f-0882ebcb4e2f</td>\n",
       "      <td>Acemasiran</td>\n",
       "      <td>http://musicbrainz.org/recording/00f1c6d9-c8ee...</td>\n",
       "      <td>00f1c6d9-c8ee-45e3-a06f-0882ebcb4e2f</td>\n",
       "      <td></td>\n",
       "      <td>256.0</td>\n",
       "      <td>False</td>\n",
       "    </tr>\n",
       "    <tr>\n",
       "      <th>1</th>\n",
       "      <td>168f7c75-84fb-4316-99d7-acabadd3b2e6</td>\n",
       "      <td>Acemasiran</td>\n",
       "      <td>http://musicbrainz.org/recording/168f7c75-84fb...</td>\n",
       "      <td>168f7c75-84fb-4316-99d7-acabadd3b2e6</td>\n",
       "      <td></td>\n",
       "      <td>115.2</td>\n",
       "      <td>False</td>\n",
       "    </tr>\n",
       "    <tr>\n",
       "      <th>2</th>\n",
       "      <td>24f549dd-3fa4-4e9b-a356-778fbbfd5cad</td>\n",
       "      <td>Acemasiran</td>\n",
       "      <td>http://musicbrainz.org/recording/24f549dd-3fa4...</td>\n",
       "      <td>24f549dd-3fa4-4e9b-a356-778fbbfd5cad</td>\n",
       "      <td></td>\n",
       "      <td>232.5</td>\n",
       "      <td>False</td>\n",
       "    </tr>\n",
       "    <tr>\n",
       "      <th>3</th>\n",
       "      <td>407bb0b4-f19b-42ab-8c0a-9f1263126951</td>\n",
       "      <td>Acemasiran</td>\n",
       "      <td>http://musicbrainz.org/recording/407bb0b4-f19b...</td>\n",
       "      <td>407bb0b4-f19b-42ab-8c0a-9f1263126951</td>\n",
       "      <td></td>\n",
       "      <td>233.5</td>\n",
       "      <td>False</td>\n",
       "    </tr>\n",
       "    <tr>\n",
       "      <th>4</th>\n",
       "      <td>443819eb-6092-420c-bd86-d946a0ad6555</td>\n",
       "      <td>Acemasiran</td>\n",
       "      <td>http://musicbrainz.org/recording/443819eb-6092...</td>\n",
       "      <td>443819eb-6092-420c-bd86-d946a0ad6555</td>\n",
       "      <td></td>\n",
       "      <td>219.6</td>\n",
       "      <td>False</td>\n",
       "    </tr>\n",
       "  </tbody>\n",
       "</table>\n",
       "</div>"
      ],
      "text/plain": [
       "                              dunya_uid       makam  \\\n",
       "0  00f1c6d9-c8ee-45e3-a06f-0882ebcb4e2f  Acemasiran   \n",
       "1  168f7c75-84fb-4316-99d7-acabadd3b2e6  Acemasiran   \n",
       "2  24f549dd-3fa4-4e9b-a356-778fbbfd5cad  Acemasiran   \n",
       "3  407bb0b4-f19b-42ab-8c0a-9f1263126951  Acemasiran   \n",
       "4  443819eb-6092-420c-bd86-d946a0ad6555  Acemasiran   \n",
       "\n",
       "                                              mb_url  \\\n",
       "0  http://musicbrainz.org/recording/00f1c6d9-c8ee...   \n",
       "1  http://musicbrainz.org/recording/168f7c75-84fb...   \n",
       "2  http://musicbrainz.org/recording/24f549dd-3fa4...   \n",
       "3  http://musicbrainz.org/recording/407bb0b4-f19b...   \n",
       "4  http://musicbrainz.org/recording/443819eb-6092...   \n",
       "\n",
       "                                   mbid observations  tonic  verified  \n",
       "0  00f1c6d9-c8ee-45e3-a06f-0882ebcb4e2f               256.0     False  \n",
       "1  168f7c75-84fb-4316-99d7-acabadd3b2e6               115.2     False  \n",
       "2  24f549dd-3fa4-4e9b-a356-778fbbfd5cad               232.5     False  \n",
       "3  407bb0b4-f19b-42ab-8c0a-9f1263126951               233.5     False  \n",
       "4  443819eb-6092-420c-bd86-d946a0ad6555               219.6     False  "
      ]
     },
     "metadata": {},
     "output_type": "display_data"
    }
   ],
   "source": [
    "annotations = mre.data.Annotation.from_mlflow()\n",
    "display(annotations.head())"
   ]
  },
  {
   "cell_type": "markdown",
   "metadata": {},
   "source": [
    "# Download audio recordings from Dunya and log to mlflow\n"
   ]
  },
  {
   "cell_type": "code",
   "execution_count": 4,
   "metadata": {},
   "outputs": [
    {
     "name": "stderr",
     "output_type": "stream",
     "text": [
      "100%|██████████| 1000/1000 [37:56<00:00,  2.28s/it] \n",
      "No runs with the name audio in experiment data_processing\n"
     ]
    }
   ],
   "source": [
    "audio = mre.data.Audio()\n",
    "audio.from_dunya(annotations.data)\n",
    "audio.log()\n"
   ]
  }
 ],
 "metadata": {
  "kernelspec": {
   "display_name": "Python 3",
   "language": "python",
   "name": "python3"
  },
  "language_info": {
   "codemirror_mode": {
    "name": "ipython",
    "version": 3
   },
   "file_extension": ".py",
   "mimetype": "text/x-python",
   "name": "python",
   "nbconvert_exporter": "python",
   "pygments_lexer": "ipython3",
   "version": "3.7.6"
  },
  "toc": {
   "base_numbering": 1,
   "nav_menu": {},
   "number_sections": true,
   "sideBar": true,
   "skip_h1_title": false,
   "title_cell": "Table of Contents",
   "title_sidebar": "Contents",
   "toc_cell": false,
   "toc_position": {},
   "toc_section_display": true,
   "toc_window_display": false
  }
 },
 "nbformat": 4,
 "nbformat_minor": 4
}
